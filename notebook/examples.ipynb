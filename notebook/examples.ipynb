{
 "cells": [
  {
   "cell_type": "code",
   "execution_count": 1,
   "metadata": {},
   "outputs": [
    {
     "name": "stdout",
     "output_type": "stream",
     "text": [
      "Using device CPU with 1 CPUs\n",
      "Batch size: 128\n",
      "\tSpeed is a balance of batch size and length diversity. Adjust accordingly.\n",
      " \tSeqs all similar length (+/-5), increase batch size. Mixed lengths (+/-30), reduce.\n",
      "\n",
      "Recommended batch size for CPU: 8.\n",
      "Running on a list of strings: [sequence, ...].\n",
      "Length of sequence list:  5\n",
      "Making predictions on 1 batches.\n",
      "Numbered 5 seqs in 0.02 mins. \n",
      "\n",
      "([((1, ' '), '-'), ((2, ' '), '-'), ((3, ' '), '-'), ((4, ' '), '-'), ((5, ' '), '-'), ((6, ' '), '-'), ((7, ' '), '-'), ((8, ' '), '-'), ((9, ' '), '-'), ((10, ' '), '-'), ((11, ' '), '-'), ((12, ' '), '-'), ((13, ' '), '-'), ((14, ' '), '-'), ((15, ' '), '-'), ((16, ' '), 'G'), ((17, ' '), 'E'), ((18, ' '), 'S'), ((19, ' '), 'L'), ((20, ' '), 'T'), ((21, ' '), 'I'), ((22, ' '), 'N'), ((23, ' '), 'C'), ((24, ' '), 'V'), ((25, ' '), 'L'), ((26, ' '), 'R'), ((27, ' '), 'D'), ((28, ' '), 'A'), ((29, ' '), 'S'), ((30, ' '), 'Y'), ((31, ' '), '-'), ((32, ' '), '-'), ((33, ' '), '-'), ((34, ' '), '-'), ((35, ' '), 'A'), ((36, ' '), 'L'), ((37, ' '), 'G'), ((38, ' '), 'S'), ((39, ' '), 'T'), ((40, ' '), 'C'), ((41, ' '), 'W'), ((42, ' '), 'Y'), ((43, ' '), 'R'), ((44, ' '), 'K'), ((45, ' '), 'K'), ((46, ' '), 'S'), ((47, ' '), 'G'), ((48, ' '), 'S'), ((49, ' '), 'T'), ((50, ' '), 'N'), ((51, ' '), 'E'), ((52, ' '), 'E'), ((53, ' '), 'S'), ((54, ' '), 'I'), ((55, ' '), 'S'), ((56, ' '), 'K'), ((57, ' '), 'G'), ((58, ' '), '-'), ((59, ' '), '-'), ((60, ' '), '-'), ((61, ' '), '-'), ((62, ' '), '-'), ((63, ' '), '-'), ((64, ' '), '-'), ((65, ' '), 'G'), ((66, ' '), 'R'), ((67, ' '), 'Y'), ((68, ' '), 'V'), ((69, ' '), 'E'), ((70, ' '), 'T'), ((71, ' '), 'V'), ((72, ' '), 'N'), ((73, ' '), '-'), ((74, ' '), '-'), ((75, ' '), '-'), ((76, ' '), '-'), ((77, ' '), 'S'), ((78, ' '), 'G'), ((79, ' '), 'S'), ((80, ' '), 'K'), ((81, ' '), '-'), ((82, ' '), '-'), ((83, ' '), '-'), ((84, ' '), '-'), ((85, ' '), '-'), ((86, ' '), 'S'), ((87, ' '), 'F'), ((88, ' '), 'S'), ((89, ' '), 'L'), ((90, ' '), 'R'), ((91, ' '), 'I'), ((92, ' '), 'N'), ((93, ' '), 'D'), ((94, ' '), 'L'), ((95, ' '), 'T'), ((96, ' '), 'V'), ((97, ' '), 'E'), ((98, ' '), 'D'), ((99, ' '), 'G'), ((100, ' '), 'G'), ((101, ' '), 'T'), ((102, ' '), 'Y'), ((103, ' '), 'R'), ((104, ' '), 'C'), ((105, ' '), 'G'), ((106, ' '), 'V'), ((107, ' '), 'F'), ((108, ' '), 'M'), ((109, ' '), 'A'), ((110, ' '), 'L'), ((111, ' '), 'M'), ((112, 'A'), 'M'), ((112, ' '), 'L'), ((113, ' '), 'P'), ((114, ' '), 'P'), ((115, ' '), 'P'), ((116, ' '), 'C'), ((117, ' '), 'D'), ((118, ' '), '-'), ((119, ' '), '-'), ((120, ' '), '-'), ((121, ' '), '-'), ((122, ' '), '-'), ((123, ' '), '-'), ((124, ' '), '-'), ((125, ' '), '-'), ((126, ' '), '-'), ((127, ' '), '-'), ((128, ' '), '-')], {'chain_type': 'H', 'score': 15.084, 'query_start': 14, 'query_end': 96, 'error': None, 'query_name': 'seq0'})\n"
     ]
    }
   ],
   "source": [
    "##### It can also take a list of seqs #####\n",
    "from anarcii import Anarcii\n",
    "\n",
    "model = Anarcii(seq_type=\"antibody\", batch_size=128, cpu=True, ncpu=1, \n",
    "                mode=\"accuracy\", verbose=True)\n",
    "\n",
    "seq = [# Short seq for ANARCI - Light\n",
    "    # There are heavy below...\n",
    "    \"ARVDQTPRSVTKETGESLTINCVLRDASYALGSTCWYRKKSGSTNEESISKGGRYVETVNSGSKSFSLRINDLTVEDGGTYRCGVFMALMMLPPPCDGQWTAWRRGLHAEMALPBLBMRPQGPTITITMAXTTRXXXTSX\",\n",
    "\n",
    "    \"QEQLEESGGGLVKPEGSLTLTCKASGFSFSDRDVMCWVRQAPGKGLEWIACINTATGKAVYATWAKGRFTISRTSSTTVTLQMTSLTAADTATYFCTRDLTGVIGWNFNLWGPAPSSPS\",\n",
    "    \"QEQLVESGGGLVQPGGSLKLSCKASGFDFSNYGVSWVRQAPGKGXLEWIGYIEPIFGNTYYANWVNGRFTXISSHNAQNTLYLQLSSLTAADTATYFCVRDQAGDADYGPYYLNLWGPAPSSPS\",\n",
    "    \"DIVLTQSPASLAVSLGQRATISCRASKSVSTSGYNYMHWYQQKPGQPPKLLHLSCIQPRVWGPCQVQWRWSGTDFTLNXHPVGGCNLLCQHRWELRFPVGTGFGWTW\",\n",
    "    \"ELVMTQSPSSLSASVGDRVNIACRASQGISSALAWYQQKPGKAPRLXLIYDASNLESGVPSRFSGSGSGTDFTLTISSLQPEDFAIXYYCQQFNSYPLTFGGGTKVEIKRTV\"\n",
    "    \n",
    "    # Short seq for ANARCI - Heavy\n",
    "    # \"QVQLVESGGGVVQPGRSLRLSCAASGFTFSSYGMHWVRQAPGKGLEWVAVIWYDGSNKYYADSVKGRFTISRDNSKNTLYLQMNSLRAEDTAVYYCARVVGATQPDYYYGMDVWGQGTTVTVSS\",\n",
    "    # \"QVQLVESGGGVVQPGRSLRLSCAASGFTFSSYGMHWVRQAPGKGLEWVAVISYDGSNKYYADSVKGRFTISRDNSKNTLYLQMNSLRAEDTAVYYCAKVFRSGWPYYYYGMDVW\",\n",
    "    # \"QAQLVQSGAEVKKPGASVRVSCKASGFTFINYIISWVRQAPGQGLEWMGRIGGHNGHTNYAQKFQGRLTMTTDTSRSTAYMDLRTLTSDDTAVYYCARIPGRDRQGSSAWYEVRRGTEVDYRYYAMDVWGQGTTVTVS\",\n",
    "    # \"GGSLRLSCAASGFTFSNSALSWVRRAPGKGLEWVSDISGSGGSTYYADSVKGRFTISRDNSKKTVYLQMNSLRVEDTAVYYCAKRPSIIVGVSNWFDPWAREPWSPSPQ\",\n",
    "    # \"ALYTEREQVQLVQSGVKKPGSSVKVSCTSSEVTFSSFAISWVRQAPGQGLEWLGGISPMFGTPNYAQKFQGRVTITADQSTRTAYMDLRSLRSEDTAVYYCARSPSYICSGGTCVFDHWGQGTLVTVSSGGGGSG\",\n",
    "    # \"GGGSGGGGIQPGLTQPPSVSKGLRQTATLTCTGNSNNVGNQGAAWLQQHQGHPPKLLSYRNNDRPSGISERFSASRSGNTASLTITGLQPEDEADYYCSTWDSSLSAVVFGGGTKLTVLGQPKAAPSAAAEQKLISEEDLNGAAHHHHHH\",\n",
    "    # \"QVQLVQSGAEVKKPGSSVKVSCKASGGTFSSYAISWVRQAPGQGLEWMGGIIPIFGTANYAQKFQGRVTITADESTSTAYMELSSLRSEDTAVYYCAREPDYYDSSGYYPIDAFDIWGQGTTVTVSSGGGGSGGGGSGGGGSQSALTQPASVSASPGQSITISCTGTSSDVGAYDWVSWYQQHPGKAPKLLIFDVNNRPSGVSHRFSGSKSGNTASLTISGLQAEDEADYYCASATLLDTYVFGTGTKVTVLGDQEPKSSDKTH\"\n",
    "       ]\n",
    "\n",
    "results =  model.number(seq)\n",
    "\n",
    "print(results[0])\n",
    "# print(results[1])\n",
    "# print(results[2])\n",
    "# print(results[3])"
   ]
  },
  {
   "cell_type": "code",
   "execution_count": null,
   "metadata": {},
   "outputs": [],
   "source": [
    "##### It can also take a list of seqs #####\n",
    "from anarcii import Anarcii\n",
    "\n",
    "model = Anarcii(seq_type=\"antibody\", batch_size=128, cpu=True, ncpu=12, \n",
    "                mode=\"accuracy\", verbose=True)\n",
    "\n",
    "seq = [\"\"]\n",
    "\n",
    "results =  model.number(seq)\n",
    "\n",
    "print(results[0])"
   ]
  },
  {
   "cell_type": "code",
   "execution_count": null,
   "metadata": {},
   "outputs": [],
   "source": [
    "##### It can also take a list of tuples... #####\n",
    "from anarcii import Anarcii\n",
    "\n",
    "model = Anarcii(seq_type=\"antibody\", batch_size=128, cpu=True, ncpu=12, \n",
    "                mode=\"accuracy\", verbose=True)\n",
    "\n",
    "seq = [(\"seq1\", \"QVQLVQSGBAEXVKKPGSSVKVSCTSSEVTFSSFAISWVRQAPGQGLEWLGGISPMFGTPNYAQKFQGRVTITADQSTRTAYMDLRSLRSEDTAVYYCARSPSYICSGGTCVFDHWGQGTLVTVSSGGGGSG\"),\n",
    "       (\"seq2\", \"GGGSGGGGIQPGLTQPPSVSKGLRQTATLTCTGNSNNVGNQGAAWLQQHQGHPPKLLSYRNNDRPSGISERFSASRSGNTASLTITGLQPEDEADYYCSTWDSSLSAVVFGGGTKLTVLGQPKAAPSAAAEQKLISEEDLNGAAHHHHHH\"),\n",
    "       (\"seq3\", \"QVQLVQSGAEVKKPGSSVKVSCKASGGTFSSYAISWVRQAPGQGLEWMGGIIPIFGTANYAQKFQGRVTITADESTSTAYMELSSLRSEDTAVYYCAREPDYYDSSGYYPIDAFDIWGQGTTVTVSSGGGGSGGGGSGGGGSQSALTQPASVSASPGQSITISCTGTSSDVGAYDWVSWYQQHPGKAPKLLIFDVNNRPSGVSHRFSGSKSGNTASLTISGLQAEDEADYYCASATLLDTYVFGTGTKVTVLGDQEPKSSDKTH\")]\n",
    "\n",
    "results =  model.number(seq)\n",
    "results[0]"
   ]
  },
  {
   "cell_type": "code",
   "execution_count": null,
   "metadata": {},
   "outputs": [],
   "source": [
    "### Want to have output that looks like original ANARCI? Use legacy mode. ###\n",
    "from anarcii import Anarcii\n",
    "\n",
    "model = Anarcii(seq_type=\"antibody\", batch_size=128, cpu=True, ncpu=12, \n",
    "                mode=\"accuracy\", verbose=False, \n",
    "                output_format=\"legacy\", debug_input=False)\n",
    "\n",
    "seq = [\"SVKVSCTSSEVTFSSFAISWVRQAPGQGLEWLGGISPMFGTPNYAQKFQGRVTITADQSTRTAYMDLRSLRSEDTAVYYCARSPSYICSGGTCVFDHWGQGTLVTVSSGGGGSG\",\n",
    "       \"LSRFTHKDVPHQGPQFIIQGYKDYVVNEVASLFISADRKLSTLSLPWVSLRDAAVYYCIVTDGYKDYVVNEVASLFISADRKLSTLSLPWVSLRDAAVYYCIVTD\"] # check fail returns none.\n",
    "\n",
    "results =  model.number(seq)\n",
    "\n",
    "numbering, alignment_details, hit_tables = results\n",
    "\n",
    "print(numbering[0])\n",
    "print(alignment_details[0])\n",
    "print(hit_tables[0])\n",
    "\n",
    "print(\"\\n### Check fails return None. ###\")\n",
    "print(numbering[1])\n",
    "print(alignment_details[1])\n",
    "print(hit_tables[1])"
   ]
  },
  {
   "cell_type": "code",
   "execution_count": null,
   "metadata": {},
   "outputs": [],
   "source": [
    "### Can also be passed a fasta file. ###\n",
    "from anarcii import Anarcii\n",
    "\n",
    "model = Anarcii(seq_type=\"antibody\", batch_size=128, cpu=False, \n",
    "                ncpu=12, \n",
    "                mode=\"accuracy\", verbose=True)\n",
    "\n",
    "seq = \"./example_data/monoclonals_clean.fasta.gz\"\n",
    "\n",
    "results =  model.number(seq)\n",
    "\n",
    "# for i in range(len(results)):\n",
    "#     print(\"\\n\", results[i][1]['query_name'], \"\\n\", results[i][1]['chain_type'], results[i][1]['score'], \"\\n\", results[i][0])\n"
   ]
  },
  {
   "cell_type": "code",
   "execution_count": null,
   "metadata": {},
   "outputs": [],
   "source": [
    "# Save the last seqs to a csv, text or json file\n",
    "filename = \"./example_outputs/my_numbered_seqs\"\n",
    "\n",
    "model.to_csv(filename + \".csv\")\n",
    "model.to_json(filename + \".json\")\n",
    "model.to_text(filename + \".txt\")"
   ]
  }
 ],
 "metadata": {
  "kernelspec": {
   "display_name": "mobydick",
   "language": "python",
   "name": "python3"
  },
  "language_info": {
   "codemirror_mode": {
    "name": "ipython",
    "version": 3
   },
   "file_extension": ".py",
   "mimetype": "text/x-python",
   "name": "python",
   "nbconvert_exporter": "python",
   "pygments_lexer": "ipython3",
   "version": "3.13.0"
  }
 },
 "nbformat": 4,
 "nbformat_minor": 2
}
