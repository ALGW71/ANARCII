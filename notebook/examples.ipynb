{
 "cells": [
  {
   "cell_type": "code",
   "execution_count": 2,
   "metadata": {},
   "outputs": [
    {
     "name": "stdout",
     "output_type": "stream",
     "text": [
      "Using device CPU with 1 CPUs\n",
      "Batch size: 128\n",
      "\tSpeed is a balance of batch size and length diversity. Adjust accordingly.\n",
      " \tSeqs all similar length (+/-5), increase batch size. Mixed lengths (+/-30), reduce.\n",
      "\n",
      "Recommended batch size for CPU: 8.\n",
      "Running on a list of strings: [sequence, ...].\n",
      "Length of sequence list:  3\n",
      "Making predictions on 1 batches.\n",
      "Numbered 3 seqs in 0.01 mins. \n",
      "\n",
      "([((1, ' '), 'Q'), ((2, ' '), 'V'), ((3, ' '), 'Q'), ((4, ' '), 'L'), ((5, ' '), 'V'), ((6, ' '), 'E'), ((7, ' '), 'S'), ((8, ' '), 'G'), ((9, ' '), 'G'), ((10, ' '), '-'), ((11, ' '), 'G'), ((12, ' '), 'V'), ((13, ' '), 'V'), ((14, ' '), 'Q'), ((15, ' '), 'P'), ((16, ' '), 'G'), ((17, ' '), 'R'), ((18, ' '), 'S'), ((19, ' '), 'L'), ((20, ' '), 'R'), ((21, ' '), 'L'), ((22, ' '), 'S'), ((23, ' '), 'C'), ((24, ' '), 'A'), ((25, ' '), 'A'), ((26, ' '), 'S'), ((27, ' '), 'G'), ((28, ' '), 'F'), ((29, ' '), 'T'), ((30, ' '), 'F'), ((31, ' '), '-'), ((32, ' '), '-'), ((33, ' '), '-'), ((34, ' '), '-'), ((35, ' '), 'S'), ((36, ' '), 'S'), ((37, ' '), 'Y'), ((38, ' '), 'G'), ((39, ' '), 'M'), ((40, ' '), 'H'), ((41, ' '), 'W'), ((42, ' '), 'V'), ((43, ' '), 'R'), ((44, ' '), 'Q'), ((45, ' '), 'A'), ((46, ' '), 'P'), ((47, ' '), 'G'), ((48, ' '), 'K'), ((49, ' '), 'G'), ((50, ' '), 'L'), ((51, ' '), 'E'), ((52, ' '), 'W'), ((53, ' '), 'V'), ((54, ' '), 'A'), ((55, ' '), 'V'), ((56, ' '), 'I'), ((57, ' '), 'S'), ((58, ' '), 'Y'), ((59, ' '), 'D'), ((60, ' '), '-'), ((61, ' '), '-'), ((62, ' '), 'G'), ((63, ' '), 'S'), ((64, ' '), 'N'), ((65, ' '), 'K'), ((66, ' '), 'Y'), ((67, ' '), 'Y'), ((68, ' '), 'A'), ((69, ' '), 'D'), ((70, ' '), 'S'), ((71, ' '), 'V'), ((72, ' '), 'K'), ((73, ' '), '-'), ((74, ' '), 'G'), ((75, ' '), 'R'), ((76, ' '), 'F'), ((77, ' '), 'T'), ((78, ' '), 'I'), ((79, ' '), 'S'), ((80, ' '), 'R'), ((81, ' '), 'D'), ((82, ' '), 'N'), ((83, ' '), 'S'), ((84, ' '), 'K'), ((85, ' '), 'N'), ((86, ' '), 'T'), ((87, ' '), 'L'), ((88, ' '), 'Y'), ((89, ' '), 'L'), ((90, ' '), 'Q'), ((91, ' '), 'M'), ((92, ' '), 'N'), ((93, ' '), 'S'), ((94, ' '), 'L'), ((95, ' '), 'R'), ((96, ' '), 'A'), ((97, ' '), 'E'), ((98, ' '), 'D'), ((99, ' '), 'T'), ((100, ' '), 'A'), ((101, ' '), 'V'), ((102, ' '), 'Y'), ((103, ' '), 'Y'), ((104, ' '), 'C'), ((105, ' '), 'A'), ((106, ' '), 'K'), ((107, ' '), 'V'), ((108, ' '), 'F'), ((109, ' '), 'R'), ((110, ' '), 'S'), ((111, ' '), 'G'), ((111, 'A'), 'W'), ((112, 'B'), 'P'), ((112, 'A'), 'Y'), ((112, ' '), 'Y'), ((113, ' '), 'Y'), ((114, ' '), 'Y'), ((115, ' '), 'G'), ((116, ' '), 'M'), ((117, ' '), 'D'), ((118, ' '), '-'), ((119, ' '), '-'), ((120, ' '), '-'), ((121, ' '), '-'), ((122, ' '), '-'), ((123, ' '), '-'), ((124, ' '), '-'), ((125, ' '), '-'), ((126, ' '), '-'), ((127, ' '), '-'), ((128, ' '), '-')], {'chain_type': 'H', 'score': 26.687, 'query_start': 0, 'query_end': 111, 'error': None, 'query_name': 'seq0'})\n",
      "([((1, ' '), 'Q'), ((2, ' '), 'A'), ((3, ' '), 'Q'), ((4, ' '), 'L'), ((5, ' '), 'V'), ((6, ' '), 'Q'), ((7, ' '), 'S'), ((8, ' '), 'G'), ((9, ' '), 'A'), ((10, ' '), '-'), ((11, ' '), 'E'), ((12, ' '), 'V'), ((13, ' '), 'K'), ((14, ' '), 'K'), ((15, ' '), 'P'), ((16, ' '), 'G'), ((17, ' '), 'A'), ((18, ' '), 'S'), ((19, ' '), 'V'), ((20, ' '), 'R'), ((21, ' '), 'V'), ((22, ' '), 'S'), ((23, ' '), 'C'), ((24, ' '), 'K'), ((25, ' '), 'A'), ((26, ' '), 'S'), ((27, ' '), 'G'), ((28, ' '), 'F'), ((29, ' '), 'T'), ((30, ' '), 'F'), ((31, ' '), '-'), ((32, ' '), '-'), ((33, ' '), '-'), ((34, ' '), '-'), ((35, ' '), 'I'), ((36, ' '), 'N'), ((37, ' '), 'Y'), ((38, ' '), 'I'), ((39, ' '), 'I'), ((40, ' '), 'S'), ((41, ' '), 'W'), ((42, ' '), 'V'), ((43, ' '), 'R'), ((44, ' '), 'Q'), ((45, ' '), 'A'), ((46, ' '), 'P'), ((47, ' '), 'G'), ((48, ' '), 'Q'), ((49, ' '), 'G'), ((50, ' '), 'L'), ((51, ' '), 'E'), ((52, ' '), 'W'), ((53, ' '), 'M'), ((54, ' '), 'G'), ((55, ' '), 'R'), ((56, ' '), 'I'), ((57, ' '), 'G'), ((58, ' '), 'G'), ((59, ' '), 'H'), ((60, ' '), '-'), ((61, ' '), '-'), ((62, ' '), 'N'), ((63, ' '), 'G'), ((64, ' '), 'H'), ((65, ' '), 'T'), ((66, ' '), 'N'), ((67, ' '), 'Y'), ((68, ' '), 'A'), ((69, ' '), 'Q'), ((70, ' '), 'K'), ((71, ' '), 'F'), ((72, ' '), 'Q'), ((73, ' '), '-'), ((74, ' '), 'G'), ((75, ' '), 'R'), ((76, ' '), 'L'), ((77, ' '), 'T'), ((78, ' '), 'M'), ((79, ' '), 'T'), ((80, ' '), 'T'), ((81, ' '), 'D'), ((82, ' '), 'T'), ((83, ' '), 'S'), ((84, ' '), 'R'), ((85, ' '), 'S'), ((86, ' '), 'T'), ((87, ' '), 'A'), ((88, ' '), 'Y'), ((89, ' '), 'M'), ((90, ' '), 'D'), ((91, ' '), 'L'), ((92, ' '), 'R'), ((93, ' '), 'T'), ((94, ' '), 'L'), ((95, ' '), 'T'), ((96, ' '), 'S'), ((97, ' '), 'D'), ((98, ' '), 'D'), ((99, ' '), 'T'), ((100, ' '), 'A'), ((101, ' '), 'V'), ((102, ' '), 'Y'), ((103, ' '), 'Y'), ((104, ' '), 'C'), ((105, ' '), 'A'), ((106, ' '), 'R'), ((107, ' '), 'I'), ((108, ' '), 'P'), ((109, ' '), 'G'), ((110, ' '), 'R'), ((111, ' '), 'D'), ((111, 'A'), 'R'), ((111, 'B'), 'Q'), ((111, 'C'), 'G'), ((111, 'D'), 'S'), ((111, 'E'), 'S'), ((111, 'F'), 'A'), ((111, 'G'), 'W'), ((111, 'H'), 'Y'), ((111, 'I'), 'E'), ((112, 'J'), 'V'), ((112, 'I'), 'R'), ((112, 'H'), 'R'), ((112, 'G'), 'G'), ((112, 'F'), 'T'), ((112, 'E'), 'E'), ((112, 'D'), 'V'), ((112, 'C'), 'D'), ((112, 'B'), 'Y'), ((112, 'A'), 'R'), ((112, ' '), 'Y'), ((113, ' '), 'Y'), ((114, ' '), 'A'), ((115, ' '), 'M'), ((116, ' '), 'D'), ((117, ' '), 'V'), ((118, ' '), 'W'), ((119, ' '), 'G'), ((120, ' '), 'Q'), ((121, ' '), 'G'), ((122, ' '), 'T'), ((123, ' '), 'T'), ((124, ' '), 'V'), ((125, ' '), 'T'), ((126, ' '), 'V'), ((127, ' '), 'S'), ((128, ' '), '-')], {'chain_type': 'H', 'score': 27.358, 'query_start': 0, 'query_end': 137, 'error': None, 'query_name': 'seq1'})\n",
      "([((1, ' '), '-'), ((2, ' '), '-'), ((3, ' '), '-'), ((4, ' '), '-'), ((5, ' '), '-'), ((6, ' '), '-'), ((7, ' '), '-'), ((8, ' '), '-'), ((9, ' '), '-'), ((10, ' '), '-'), ((11, ' '), '-'), ((12, ' '), '-'), ((13, ' '), '-'), ((14, ' '), '-'), ((15, ' '), '-'), ((16, ' '), 'G'), ((17, ' '), 'G'), ((18, ' '), 'S'), ((19, ' '), 'L'), ((20, ' '), 'R'), ((21, ' '), 'L'), ((22, ' '), 'S'), ((23, ' '), 'C'), ((24, ' '), 'A'), ((25, ' '), 'A'), ((26, ' '), 'S'), ((27, ' '), 'G'), ((28, ' '), 'F'), ((29, ' '), 'T'), ((30, ' '), 'F'), ((31, ' '), '-'), ((32, ' '), '-'), ((33, ' '), '-'), ((34, ' '), '-'), ((35, ' '), 'S'), ((36, ' '), 'N'), ((37, ' '), 'S'), ((38, ' '), 'A'), ((39, ' '), 'L'), ((40, ' '), 'S'), ((41, ' '), 'W'), ((42, ' '), 'V'), ((43, ' '), 'R'), ((44, ' '), 'R'), ((45, ' '), 'A'), ((46, ' '), 'P'), ((47, ' '), 'G'), ((48, ' '), 'K'), ((49, ' '), 'G'), ((50, ' '), 'L'), ((51, ' '), 'E'), ((52, ' '), 'W'), ((53, ' '), 'V'), ((54, ' '), 'S'), ((55, ' '), 'D'), ((56, ' '), 'I'), ((57, ' '), 'S'), ((58, ' '), 'G'), ((59, ' '), 'S'), ((60, ' '), '-'), ((61, ' '), '-'), ((62, ' '), 'G'), ((63, ' '), 'G'), ((64, ' '), 'S'), ((65, ' '), 'T'), ((66, ' '), 'Y'), ((67, ' '), 'Y'), ((68, ' '), 'A'), ((69, ' '), 'D'), ((70, ' '), 'S'), ((71, ' '), 'V'), ((72, ' '), 'K'), ((73, ' '), '-'), ((74, ' '), 'G'), ((75, ' '), 'R'), ((76, ' '), 'F'), ((77, ' '), 'T'), ((78, ' '), 'I'), ((79, ' '), 'S'), ((80, ' '), 'R'), ((81, ' '), 'D'), ((82, ' '), 'N'), ((83, ' '), 'S'), ((84, ' '), 'K'), ((85, ' '), 'K'), ((86, ' '), 'T'), ((87, ' '), 'V'), ((88, ' '), 'Y'), ((89, ' '), 'L'), ((90, ' '), 'Q'), ((91, ' '), 'M'), ((92, ' '), 'N'), ((93, ' '), 'S'), ((94, ' '), 'L'), ((95, ' '), 'R'), ((96, ' '), 'V'), ((97, ' '), 'E'), ((98, ' '), 'D'), ((99, ' '), 'T'), ((100, ' '), 'A'), ((101, ' '), 'V'), ((102, ' '), 'Y'), ((103, ' '), 'Y'), ((104, ' '), 'C'), ((105, ' '), 'A'), ((106, ' '), 'K'), ((107, ' '), 'R'), ((108, ' '), 'P'), ((109, ' '), 'S'), ((110, ' '), 'I'), ((111, ' '), 'I'), ((111, 'A'), 'V'), ((112, 'B'), 'G'), ((112, 'A'), 'V'), ((112, ' '), 'S'), ((113, ' '), 'N'), ((114, ' '), 'W'), ((115, ' '), 'F'), ((116, ' '), 'D'), ((117, ' '), 'P'), ((118, ' '), 'W'), ((119, ' '), 'A'), ((120, ' '), 'R'), ((121, ' '), '-'), ((122, ' '), '-'), ((123, ' '), '-'), ((124, ' '), '-'), ((125, ' '), '-'), ((126, ' '), '-'), ((127, ' '), '-'), ((128, ' '), '-')], {'chain_type': 'H', 'score': 27.18, 'query_start': 0, 'query_end': 100, 'error': None, 'query_name': 'seq2'})\n"
     ]
    }
   ],
   "source": [
    "##### It can also take a list of seqs #####\n",
    "from anarcii import Anarcii\n",
    "\n",
    "model = Anarcii(seq_type=\"antibody\", batch_size=128, cpu=True, ncpu=1, \n",
    "                mode=\"accuracy\", verbose=True)\n",
    "\n",
    "seq = [# Short seq for ANARCI - Light\n",
    "    # \"QEQLEESGGGLVKPEGSLTLTCKASGFSFSDRDVMCWVRQAPGKGLEWIACINTATGKAVYATWAKGRFTISRTSSTTVTLQMTSLTAADTATYFCTRDLTGVIGWNFNLWGPAPSSPS\",\n",
    "    # \"QEQLVESGGGLVQPGGSLKLSCKASGFDFSNYGVSWVRQAPGKGLEWIGYIEPIFGNTYYANWVNGRFTISSHNAQNTLYLQLSSLTAADTATYFCVRDQAGDADYGPYYLNLWGPAPSSPS\",\n",
    "    # \"DIVLTQSPASLAVSLGQRATISCRASKSVSTSGYNYMHWYQQKPGQPPKLLHLSCIQPRVWGPCQVQWRWSGTDFTLNXHPVGGGGCCNLLCQHRWELRFPVGTGFGWT\"\n",
    "    \n",
    "    # Short seq for ANARCI - Heavy\n",
    "    \"QVQLVESGGGVVQPGRSLRLSCAASGFTFSSYGMHWVRQAPGKGLEWVAVISYDGSNKYYADSVKGRFTISRDNSKNTLYLQMNSLRAEDTAVYYCAKVFRSGWPYYYYGMDVW\",\n",
    "    \"QAQLVQSGAEVKKPGASVRVSCKASGFTFINYIISWVRQAPGQGLEWMGRIGGHNGHTNYAQKFQGRLTMTTDTSRSTAYMDLRTLTSDDTAVYYCARIPGRDRQGSSAWYEVRRGTEVDYRYYAMDVWGQGTTVTVS\",\n",
    "    \"GGSLRLSCAASGFTFSNSALSWVRRAPGKGLEWVSDISGSGGSTYYADSVKGRFTISRDNSKKTVYLQMNSLRVEDTAVYYCAKRPSIIVGVSNWFDPWAREPWSPSPQ\",\n",
    "    # \"ALYTEREQVQLVQSGVKKPGSSVKVSCTSSEVTFSSFAISWVRQAPGQGLEWLGGISPMFGTPNYAQKFQGRVTITADQSTRTAYMDLRSLRSEDTAVYYCARSPSYICSGGTCVFDHWGQGTLVTVSSGGGGSG\",\n",
    "    # \"GGGSGGGGIQPGLTQPPSVSKGLRQTATLTCTGNSNNVGNQGAAWLQQHQGHPPKLLSYRNNDRPSGISERFSASRSGNTASLTITGLQPEDEADYYCSTWDSSLSAVVFGGGTKLTVLGQPKAAPSAAAEQKLISEEDLNGAAHHHHHH\",\n",
    "    # \"QVQLVQSGAEVKKPGSSVKVSCKASGGTFSSYAISWVRQAPGQGLEWMGGIIPIFGTANYAQKFQGRVTITADESTSTAYMELSSLRSEDTAVYYCAREPDYYDSSGYYPIDAFDIWGQGTTVTVSSGGGGSGGGGSGGGGSQSALTQPASVSASPGQSITISCTGTSSDVGAYDWVSWYQQHPGKAPKLLIFDVNNRPSGVSHRFSGSKSGNTASLTISGLQAEDEADYYCASATLLDTYVFGTGTKVTVLGDQEPKSSDKTH\"\n",
    "       ]\n",
    "\n",
    "results =  model.number(seq)\n",
    "\n",
    "print(results[0])\n",
    "print(results[1])\n",
    "print(results[2])"
   ]
  },
  {
   "cell_type": "code",
   "execution_count": null,
   "metadata": {},
   "outputs": [],
   "source": [
    "##### It can also take a list of seqs #####\n",
    "from anarcii import Anarcii\n",
    "\n",
    "model = Anarcii(seq_type=\"antibody\", batch_size=128, cpu=True, ncpu=12, \n",
    "                mode=\"accuracy\", verbose=True)\n",
    "\n",
    "seq = [\"\"]\n",
    "\n",
    "results =  model.number(seq)\n",
    "\n",
    "print(results[0])"
   ]
  },
  {
   "cell_type": "code",
   "execution_count": null,
   "metadata": {},
   "outputs": [],
   "source": [
    "##### It can also take a list of tuples... #####\n",
    "from anarcii import Anarcii\n",
    "\n",
    "model = Anarcii(seq_type=\"antibody\", batch_size=128, cpu=True, ncpu=12, \n",
    "                mode=\"accuracy\", verbose=True)\n",
    "\n",
    "seq = [(\"seq1\", \"QVQLVQSGBAEXVKKPGSSVKVSCTSSEVTFSSFAISWVRQAPGQGLEWLGGISPMFGTPNYAQKFQGRVTITADQSTRTAYMDLRSLRSEDTAVYYCARSPSYICSGGTCVFDHWGQGTLVTVSSGGGGSG\"),\n",
    "       (\"seq2\", \"GGGSGGGGIQPGLTQPPSVSKGLRQTATLTCTGNSNNVGNQGAAWLQQHQGHPPKLLSYRNNDRPSGISERFSASRSGNTASLTITGLQPEDEADYYCSTWDSSLSAVVFGGGTKLTVLGQPKAAPSAAAEQKLISEEDLNGAAHHHHHH\"),\n",
    "       (\"seq3\", \"QVQLVQSGAEVKKPGSSVKVSCKASGGTFSSYAISWVRQAPGQGLEWMGGIIPIFGTANYAQKFQGRVTITADESTSTAYMELSSLRSEDTAVYYCAREPDYYDSSGYYPIDAFDIWGQGTTVTVSSGGGGSGGGGSGGGGSQSALTQPASVSASPGQSITISCTGTSSDVGAYDWVSWYQQHPGKAPKLLIFDVNNRPSGVSHRFSGSKSGNTASLTISGLQAEDEADYYCASATLLDTYVFGTGTKVTVLGDQEPKSSDKTH\")]\n",
    "\n",
    "results =  model.number(seq)\n",
    "results[0]"
   ]
  },
  {
   "cell_type": "code",
   "execution_count": null,
   "metadata": {},
   "outputs": [],
   "source": [
    "### Want to have output that looks like original ANARCI? Use legacy mode. ###\n",
    "from anarcii import Anarcii\n",
    "\n",
    "model = Anarcii(seq_type=\"antibody\", batch_size=128, cpu=True, ncpu=12, \n",
    "                mode=\"accuracy\", verbose=False, \n",
    "                output_format=\"legacy\", debug_input=False)\n",
    "\n",
    "seq = [\"SVKVSCTSSEVTFSSFAISWVRQAPGQGLEWLGGISPMFGTPNYAQKFQGRVTITADQSTRTAYMDLRSLRSEDTAVYYCARSPSYICSGGTCVFDHWGQGTLVTVSSGGGGSG\",\n",
    "       \"LSRFTHKDVPHQGPQFIIQGYKDYVVNEVASLFISADRKLSTLSLPWVSLRDAAVYYCIVTDGYKDYVVNEVASLFISADRKLSTLSLPWVSLRDAAVYYCIVTD\"] # check fail returns none.\n",
    "\n",
    "results =  model.number(seq)\n",
    "\n",
    "numbering, alignment_details, hit_tables = results\n",
    "\n",
    "print(numbering[0])\n",
    "print(alignment_details[0])\n",
    "print(hit_tables[0])\n",
    "\n",
    "print(\"\\n### Check fails return None. ###\")\n",
    "print(numbering[1])\n",
    "print(alignment_details[1])\n",
    "print(hit_tables[1])"
   ]
  },
  {
   "cell_type": "code",
   "execution_count": null,
   "metadata": {},
   "outputs": [],
   "source": [
    "### Can also be passed a fasta file. ###\n",
    "from anarcii import Anarcii\n",
    "\n",
    "model = Anarcii(seq_type=\"antibody\", batch_size=128, cpu=False, ncpu=12, \n",
    "                mode=\"accuracy\", verbose=False)\n",
    "\n",
    "seq = \"./example_data/monoclonals_clean.fasta.gz\"\n",
    "\n",
    "results =  model.number(seq)\n",
    "\n",
    "for i in range(len(results)):\n",
    "    print(\"\\n\", results[i][1]['query_name'], \"\\n\", results[i][1]['chain_type'], results[i][1]['score'], \"\\n\", results[i][0])\n"
   ]
  },
  {
   "cell_type": "code",
   "execution_count": null,
   "metadata": {},
   "outputs": [],
   "source": [
    "# Save the last seqs to a csv, text or json file\n",
    "filename = \"./example_outputs/my_numbered_seqs\"\n",
    "\n",
    "model.to_csv(filename + \".csv\")\n",
    "model.to_json(filename + \".json\")\n",
    "model.to_text(filename + \".txt\")"
   ]
  }
 ],
 "metadata": {
  "kernelspec": {
   "display_name": "mobydick",
   "language": "python",
   "name": "python3"
  },
  "language_info": {
   "codemirror_mode": {
    "name": "ipython",
    "version": 3
   },
   "file_extension": ".py",
   "mimetype": "text/x-python",
   "name": "python",
   "nbconvert_exporter": "python",
   "pygments_lexer": "ipython3",
   "version": "3.13.0"
  }
 },
 "nbformat": 4,
 "nbformat_minor": 2
}
