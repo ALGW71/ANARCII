{
 "cells": [
  {
   "cell_type": "code",
   "execution_count": null,
   "metadata": {},
   "outputs": [],
   "source": [
    "from anarcii import Anarcii\n",
    "\n",
    "model = Anarcii(seq_type=\"antibody\", batch_size=128, cpu=False, ncpu=12, \n",
    "                mode=\"accuracy\", verbose=False)\n",
    "\n",
    "seq = [\"QQVRQSPQSLTVWEGETAILNCSYEDSTFNYFPWYQQFPGEGPALLISIRSVSDKKEDGRFTIFFNKREKKLSLHITDSQPGDSATYFCAARYQGGRALIFGTGTTVSVSPGSADAAAVTLLEQNPRWRLVPRGQ\",\n",
    "       \"AAAAAAAAAAAAAAAAAAAAAAAAAAAAAAAAAAAAAAAAAAAAAAAAAAAAAAA\"]\n",
    "\n",
    "results =  model.number(seq)\n",
    "\n",
    "print(results[0])\n",
    "print(results[1])"
   ]
  },
  {
   "cell_type": "code",
   "execution_count": null,
   "metadata": {},
   "outputs": [],
   "source": [
    "# Want to have output that looks like original ANARCI?\n",
    "from anarcii import Anarcii\n",
    "\n",
    "model = Anarcii(seq_type=\"antibody\", batch_size=128, cpu=True, ncpu=12, \n",
    "                mode=\"accuracy\", verbose=False, \n",
    "                output_format=\"legacy\")\n",
    "\n",
    "seq = [\"QQVRQSPQSLTVWEGETAILNCSYEDSTFNYFPWYQQFPGEGPALLISIRSVSDKKEDGRFTIFFNKREKKLSLHITDSQPGDSATYFCAARYQGGRALIFGTGTTVSVSPGSADAAAVTLLEQNPRWRLVPRGQ\"]\n",
    "\n",
    "results =  model.number(seq)\n",
    "\n",
    "numbering, alignment_details, hit_tables = results\n",
    "\n",
    "print(numbering)\n",
    "print(alignment_details)\n",
    "print(hit_tables)"
   ]
  },
  {
   "cell_type": "code",
   "execution_count": null,
   "metadata": {},
   "outputs": [],
   "source": [
    "from anarcii import Anarcii\n",
    "\n",
    "model = Anarcii(seq_type=\"antibody\", batch_size=128, cpu=False, ncpu=12, \n",
    "                mode=\"accuracy\", verbose=False)\n",
    "\n",
    "seq = \"./example_data/monoclonals_clean.fasta.gz\"\n",
    "\n",
    "results =  model.number(seq)\n",
    "\n",
    "for i in range(len(results)):\n",
    "    print(\"\\n\", results[i][1]['query_name'], \"\\n\", results[i][1]['chain_type'], results[i][1]['score'], \"\\n\", results[i][0])\n"
   ]
  },
  {
   "cell_type": "code",
   "execution_count": null,
   "metadata": {},
   "outputs": [],
   "source": [
    "# Save the last seqs to a csv, text or json file\n",
    "filename = \"./example_outputs/my_numbered_seqs\"\n",
    "\n",
    "model.to_csv(filename + \".csv\")\n",
    "model.to_json(filename + \".json\")\n",
    "model.to_text(filename + \".txt\")"
   ]
  }
 ],
 "metadata": {
  "kernelspec": {
   "display_name": "mobydick",
   "language": "python",
   "name": "python3"
  },
  "language_info": {
   "codemirror_mode": {
    "name": "ipython",
    "version": 3
   },
   "file_extension": ".py",
   "mimetype": "text/x-python",
   "name": "python",
   "nbconvert_exporter": "python",
   "pygments_lexer": "ipython3",
   "version": "3.13.0"
  }
 },
 "nbformat": 4,
 "nbformat_minor": 2
}
