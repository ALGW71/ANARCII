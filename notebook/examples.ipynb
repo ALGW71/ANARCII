{
 "cells": [
  {
   "cell_type": "code",
   "execution_count": 1,
   "metadata": {},
   "outputs": [
    {
     "name": "stdout",
     "output_type": "stream",
     "text": [
      "Using device CUDA with 1 CPUs\n",
      "Batch size: 128\n",
      "\tSpeed is a balance of batch size and length diversity. Adjust accordingly.\n",
      " \tSeqs all similar length (+/-5), increase batch size. Mixed lengths (+/-30), reduce.\n",
      "\n",
      "Consider a batch size of at least 512 for optimal GPU performance.\n",
      "Classifying sequences.\n",
      "[(0, 'A', 'AQSVTQLGSHVSVSEGALVLLRCNYSSSVPPYLFWYVQYPNQGLQLLLKYTSAATLVKGINGFEAEFKKSETSFHLTKPSAHMSDAAEYFCAVSEQDDKIIFGKGTRLHILPN'), (1, 'A', 'ADVTQTPRNRITKTGKRIMLECSQTKGHDRMYWYRQDPGLGLRLIYYSFDVKDINKGEISDGYSVSRQAQAKFSLSLESAIPNQTALYFCATSDESYGYTFGSGTRLTVVEDL'), (3, 'E', 'EVQLLESGGGLVQPGGSLRLSCAASGFTFNHYAMTWVRQAPGKGLEWVASSSGSGRSTYYTDSVKGRFSVSRDNSKNTLYLQMNSLRAEDTAVYYCAKSSNYYGSGSYSPDDYYHMDVWGQGTTVTVSGASTKGP')]\n",
      "[(2, 'E', 'EIVMTQSPDTLSVSPGERATLSCRASESISSNLAWYQQKPGQVPRLLIYGASTRATGVPARFTGSGSGTEFTLTISSLQSEDFAVYYCQQYNNRLPYTFGQGTKLEIKRTVAAP')]\n",
      "### Ran antibody/TCR classifier. ###\n",
      "\n",
      "Found 3 antibodies and 1 TCRs.\n",
      "### Running Antibody model ###\n",
      "Running on a list of tuples of format: [(name,sequence), ...].\n",
      "Length of sequence list:  3\n",
      "Making predictions on 1 batches.\n",
      "Numbered 3 seqs in 0.0 mins. \n",
      "\n",
      "## Running TCR model. ###\n",
      "Running on a list of tuples of format: [(name,sequence), ...].\n",
      "Length of sequence list:  1\n",
      "Making predictions on 1 batches.\n",
      "Numbered 1 seqs in 0.0 mins. \n",
      "\n",
      "joining types\n",
      "(None, {'chain_type': 'F', 'score': 0.0, 'query_start': None, 'query_end': None, 'error': 'Less than 50 non insertion residues numbered.', 'query_name': 0})\n",
      "(None, {'chain_type': 'F', 'score': 0.0, 'query_start': None, 'query_end': None, 'error': 'Less than 50 non insertion residues numbered.', 'query_name': 1})\n",
      "(None, {'chain_type': 'F', 'score': 0.0, 'query_start': None, 'query_end': None, 'error': 'Less than 50 non insertion residues numbered.', 'query_name': 3})\n",
      "(None, {'chain_type': 'F', 'score': 0.0, 'query_start': None, 'query_end': None, 'error': 'Less than 50 non insertion residues numbered.', 'query_name': 2})\n"
     ]
    }
   ],
   "source": [
    "##### It can also take a list of seqs #####\n",
    "from anarcii import Anarcii\n",
    "\n",
    "model = Anarcii(seq_type=\"unknown\", batch_size=128, cpu=False, ncpu=1, \n",
    "                mode=\"accuracy\", verbose=True)\n",
    "\n",
    "seq = [\n",
    "    # Alpha\n",
    "    \"AQSVTQLGSHVSVSEGALVLLRCNYSSSVPPYLFWYVQYPNQGLQLLLKYTSAATLVKGINGFEAEFKKSETSFHLTKPSAHMSDAAEYFCAVSEQDDKIIFGKGTRLHILPN\",\n",
    "    # Beta\n",
    "    \"ADVTQTPRNRITKTGKRIMLECSQTKGHDRMYWYRQDPGLGLRLIYYSFDVKDINKGEISDGYSVSRQAQAKFSLSLESAIPNQTALYFCATSDESYGYTFGSGTRLTVVEDL\",\n",
    "    # Light\n",
    "    \"EIVMTQSPDTLSVSPGERATLSCRASESISSNLAWYQQKPGQVPRLLIYGASTRATGVPARFTGSGSGTEFTLTISSLQSEDFAVYYCQQYNNRLPYTFGQGTKLEIKRTVAAP\",\n",
    "    # Heavy\n",
    "    \"EVQLLESGGGLVQPGGSLRLSCAASGFTFNHYAMTWVRQAPGKGLEWVASSSGSGRSTYYTDSVKGRFSVSRDNSKNTLYLQMNSLRAEDTAVYYCAKSSNYYGSGSYSPDDYYHMDVWGQGTTVTVSGASTKGP\"\n",
    "]\n",
    "\n",
    "results =  model.number(seq)\n",
    "\n",
    "print(results[0])\n",
    "print(results[1])\n",
    "print(results[2])\n",
    "print(results[3])"
   ]
  },
  {
   "cell_type": "code",
   "execution_count": null,
   "metadata": {},
   "outputs": [],
   "source": [
    "##### It can also take a list of seqs #####\n",
    "from anarcii import Anarcii\n",
    "\n",
    "model = Anarcii(seq_type=\"antibody\", batch_size=128, cpu=True, ncpu=12, \n",
    "                mode=\"accuracy\", verbose=True)\n",
    "\n",
    "seq = [\"\"]\n",
    "\n",
    "results =  model.number(seq)\n",
    "\n",
    "print(results[0])"
   ]
  },
  {
   "cell_type": "code",
   "execution_count": null,
   "metadata": {},
   "outputs": [],
   "source": [
    "##### It can also take a list of tuples... #####\n",
    "from anarcii import Anarcii\n",
    "\n",
    "model = Anarcii(seq_type=\"antibody\", batch_size=128, cpu=True, ncpu=12, \n",
    "                mode=\"accuracy\", verbose=True)\n",
    "\n",
    "seq = [(\"seq1\", \"QVQLVQSGBAEXVKKPGSSVKVSCTSSEVTFSSFAISWVRQAPGQGLEWLGGISPMFGTPNYAQKFQGRVTITADQSTRTAYMDLRSLRSEDTAVYYCARSPSYICSGGTCVFDHWGQGTLVTVSSGGGGSG\"),\n",
    "       (\"seq2\", \"GGGSGGGGIQPGLTQPPSVSKGLRQTATLTCTGNSNNVGNQGAAWLQQHQGHPPKLLSYRNNDRPSGISERFSASRSGNTASLTITGLQPEDEADYYCSTWDSSLSAVVFGGGTKLTVLGQPKAAPSAAAEQKLISEEDLNGAAHHHHHH\"),\n",
    "       (\"seq3\", \"QVQLVQSGAEVKKPGSSVKVSCKASGGTFSSYAISWVRQAPGQGLEWMGGIIPIFGTANYAQKFQGRVTITADESTSTAYMELSSLRSEDTAVYYCAREPDYYDSSGYYPIDAFDIWGQGTTVTVSSGGGGSGGGGSGGGGSQSALTQPASVSASPGQSITISCTGTSSDVGAYDWVSWYQQHPGKAPKLLIFDVNNRPSGVSHRFSGSKSGNTASLTISGLQAEDEADYYCASATLLDTYVFGTGTKVTVLGDQEPKSSDKTH\")]\n",
    "\n",
    "results =  model.number(seq)\n",
    "results[0]"
   ]
  },
  {
   "cell_type": "code",
   "execution_count": null,
   "metadata": {},
   "outputs": [],
   "source": [
    "### Want to have output that looks like original ANARCI? Use legacy mode. ###\n",
    "from anarcii import Anarcii\n",
    "\n",
    "model = Anarcii(seq_type=\"antibody\", batch_size=128, cpu=True, ncpu=12, \n",
    "                mode=\"accuracy\", verbose=False, \n",
    "                output_format=\"legacy\", debug_input=False)\n",
    "\n",
    "seq = [\"SVKVSCTSSEVTFSSFAISWVRQAPGQGLEWLGGISPMFGTPNYAQKFQGRVTITADQSTRTAYMDLRSLRSEDTAVYYCARSPSYICSGGTCVFDHWGQGTLVTVSSGGGGSG\",\n",
    "       \"LSRFTHKDVPHQGPQFIIQGYKDYVVNEVASLFISADRKLSTLSLPWVSLRDAAVYYCIVTDGYKDYVVNEVASLFISADRKLSTLSLPWVSLRDAAVYYCIVTD\"] # check fail returns none.\n",
    "\n",
    "results =  model.number(seq)\n",
    "\n",
    "numbering, alignment_details, hit_tables = results\n",
    "\n",
    "print(numbering[0])\n",
    "print(alignment_details[0])\n",
    "print(hit_tables[0])\n",
    "\n",
    "print(\"\\n### Check fails return None. ###\")\n",
    "print(numbering[1])\n",
    "print(alignment_details[1])\n",
    "print(hit_tables[1])"
   ]
  },
  {
   "cell_type": "code",
   "execution_count": null,
   "metadata": {},
   "outputs": [],
   "source": [
    "### Can also be passed a fasta file. ###\n",
    "from anarcii import Anarcii\n",
    "\n",
    "model = Anarcii(seq_type=\"antibody\", batch_size=128, cpu=False, \n",
    "                ncpu=12, \n",
    "                mode=\"accuracy\", verbose=True)\n",
    "\n",
    "seq = \"./example_data/monoclonals_clean.fasta.gz\"\n",
    "\n",
    "results =  model.number(seq)\n",
    "\n",
    "# for i in range(len(results)):\n",
    "#     print(\"\\n\", results[i][1]['query_name'], \"\\n\", results[i][1]['chain_type'], results[i][1]['score'], \"\\n\", results[i][0])\n"
   ]
  },
  {
   "cell_type": "code",
   "execution_count": null,
   "metadata": {},
   "outputs": [],
   "source": [
    "# Save the last seqs to a csv, text or json file\n",
    "filename = \"./example_outputs/my_numbered_seqs\"\n",
    "\n",
    "model.to_csv(filename + \".csv\")\n",
    "model.to_json(filename + \".json\")\n",
    "model.to_text(filename + \".txt\")"
   ]
  }
 ],
 "metadata": {
  "kernelspec": {
   "display_name": "mobydick",
   "language": "python",
   "name": "python3"
  },
  "language_info": {
   "codemirror_mode": {
    "name": "ipython",
    "version": 3
   },
   "file_extension": ".py",
   "mimetype": "text/x-python",
   "name": "python",
   "nbconvert_exporter": "python",
   "pygments_lexer": "ipython3",
   "version": "3.13.0"
  }
 },
 "nbformat": 4,
 "nbformat_minor": 2
}
