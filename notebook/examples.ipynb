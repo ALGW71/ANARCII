{
 "cells": [
  {
   "cell_type": "code",
   "execution_count": 5,
   "metadata": {},
   "outputs": [
    {
     "name": "stdout",
     "output_type": "stream",
     "text": [
      "Using device CUDA with 1 CPUs\n",
      "Batch size: 128\n",
      "\tSpeed is a balance of batch size and length diversity. Adjust accordingly.\n",
      " \tSeqs all similar length (+/-5), increase batch size. Mixed lengths (+/-30), reduce.\n",
      "\n",
      "Consider a batch size of at least 512 for optimal GPU performance.\n",
      "Running on a list of strings: [sequence, ...].\n",
      "Length of sequence list:  4\n",
      "Making predictions on 1 batches.\n",
      "Numbered 4 seqs in 0.0 mins. \n",
      "\n",
      "([((1, ' '), 'A'), ((2, ' '), 'Q'), ((3, ' '), 'S'), ((4, ' '), 'V'), ((5, ' '), 'T'), ((6, ' '), 'Q'), ((7, ' '), 'L'), ((8, ' '), 'G'), ((9, ' '), 'S'), ((10, ' '), 'H'), ((11, ' '), 'V'), ((12, ' '), 'S'), ((13, ' '), 'V'), ((14, ' '), 'S'), ((15, ' '), 'E'), ((16, ' '), 'G'), ((17, ' '), 'A'), ((18, ' '), 'L'), ((19, ' '), 'V'), ((20, ' '), 'L'), ((21, ' '), 'L'), ((22, ' '), 'R'), ((23, ' '), 'C'), ((24, ' '), 'N'), ((25, ' '), 'Y'), ((26, ' '), 'S'), ((27, ' '), 'S'), ((28, ' '), 'S'), ((29, ' '), 'V'), ((30, ' '), '-'), ((31, ' '), '-'), ((32, ' '), '-'), ((33, ' '), '-'), ((34, ' '), '-'), ((35, ' '), '-'), ((36, ' '), 'P'), ((37, ' '), 'P'), ((38, ' '), 'Y'), ((39, ' '), 'L'), ((40, ' '), 'F'), ((41, ' '), 'W'), ((42, ' '), 'Y'), ((43, ' '), 'V'), ((44, ' '), 'Q'), ((45, ' '), 'Y'), ((46, ' '), 'P'), ((47, ' '), 'N'), ((48, ' '), 'Q'), ((49, ' '), 'G'), ((50, ' '), 'L'), ((51, ' '), 'Q'), ((52, ' '), 'L'), ((53, ' '), 'L'), ((54, ' '), 'L'), ((55, ' '), 'K'), ((56, ' '), 'Y'), ((57, ' '), 'T'), ((58, ' '), 'S'), ((59, ' '), '-'), ((60, ' '), '-'), ((61, ' '), '-'), ((62, ' '), '-'), ((63, ' '), '-'), ((64, ' '), 'A'), ((65, ' '), 'A'), ((66, ' '), 'T'), ((67, ' '), 'L'), ((68, ' '), 'V'), ((69, ' '), 'K'), ((70, ' '), 'G'), ((71, ' '), 'I'), ((72, ' '), 'N'), ((73, ' '), '-'), ((74, ' '), '-'), ((75, ' '), 'G'), ((76, ' '), 'F'), ((77, ' '), 'E'), ((78, ' '), 'A'), ((79, ' '), 'E'), ((80, ' '), 'F'), ((81, ' '), 'K'), ((82, ' '), 'K'), ((83, ' '), 'S'), ((84, ' '), 'E'), ((85, ' '), 'T'), ((86, ' '), 'S'), ((87, ' '), 'F'), ((88, ' '), 'H'), ((89, ' '), 'L'), ((90, ' '), 'T'), ((91, ' '), 'K'), ((92, ' '), 'P'), ((93, ' '), 'S'), ((94, ' '), 'A'), ((95, ' '), 'H'), ((96, ' '), 'M'), ((97, ' '), 'S'), ((98, ' '), 'D'), ((99, ' '), 'A'), ((100, ' '), 'A'), ((101, ' '), 'E'), ((102, ' '), 'Y'), ((103, ' '), 'F'), ((104, ' '), 'C'), ((105, ' '), 'A'), ((106, ' '), 'V'), ((107, ' '), 'S'), ((108, ' '), 'E'), ((109, ' '), 'Q'), ((110, ' '), '-'), ((111, ' '), '-'), ((112, ' '), '-'), ((113, ' '), 'D'), ((114, ' '), 'D'), ((115, ' '), 'K'), ((116, ' '), 'I'), ((117, ' '), 'I'), ((118, ' '), 'F'), ((119, ' '), 'G'), ((120, ' '), 'K'), ((121, ' '), 'G'), ((122, ' '), 'T'), ((123, ' '), 'R'), ((124, ' '), 'L'), ((125, ' '), 'H'), ((126, ' '), 'I'), ((127, ' '), '-'), ((128, ' '), '-')], {'chain_type': 'K', 'score': 18.566, 'query_start': 0, 'query_end': 109, 'error': None, 'query_name': 'seq0'})\n",
      "([((1, ' '), '-'), ((2, ' '), '-'), ((3, ' '), '-'), ((4, ' '), '-'), ((5, ' '), '-'), ((6, ' '), '-'), ((7, ' '), '-'), ((8, ' '), '-'), ((9, ' '), '-'), ((10, ' '), '-'), ((11, ' '), '-'), ((12, ' '), '-'), ((13, ' '), '-'), ((14, ' '), '-'), ((15, ' '), '-'), ((16, ' '), '-'), ((17, ' '), '-'), ((18, ' '), '-'), ((19, ' '), '-'), ((20, ' '), '-'), ((21, ' '), '-'), ((22, ' '), '-'), ((23, ' '), '-'), ((24, ' '), '-'), ((25, ' '), '-'), ((26, ' '), '-'), ((27, ' '), '-'), ((28, ' '), '-'), ((29, ' '), '-'), ((30, ' '), '-'), ((31, ' '), '-'), ((32, ' '), '-'), ((33, ' '), '-'), ((34, ' '), '-'), ((35, ' '), '-'), ((36, ' '), '-'), ((37, ' '), '-'), ((38, ' '), '-'), ((39, ' '), '-'), ((40, ' '), '-'), ((41, ' '), 'W'), ((42, ' '), 'Y'), ((43, ' '), 'R'), ((44, ' '), 'Q'), ((45, ' '), 'D'), ((46, ' '), 'P'), ((47, ' '), 'G'), ((48, ' '), 'L'), ((49, ' '), 'G'), ((50, ' '), 'L'), ((51, ' '), 'R'), ((52, ' '), 'L'), ((53, ' '), 'I'), ((54, ' '), 'Y'), ((55, ' '), 'Y'), ((56, ' '), 'S'), ((57, ' '), 'F'), ((58, ' '), 'D'), ((59, ' '), 'V'), ((60, ' '), 'K'), ((61, ' '), 'D'), ((62, ' '), 'I'), ((63, ' '), 'N'), ((64, ' '), 'K'), ((65, ' '), 'G'), ((66, ' '), 'E'), ((67, ' '), 'I'), ((68, ' '), 'S'), ((69, ' '), 'D'), ((70, ' '), 'G'), ((71, ' '), 'Y'), ((72, ' '), 'S'), ((73, ' '), 'V'), ((74, ' '), 'S'), ((75, ' '), 'R'), ((76, ' '), 'Q'), ((77, ' '), 'A'), ((78, ' '), 'Q'), ((79, ' '), 'A'), ((80, ' '), 'K'), ((81, ' '), '-'), ((82, ' '), 'F'), ((83, ' '), 'S'), ((84, ' '), '-'), ((85, ' '), '-'), ((86, ' '), '-'), ((87, ' '), '-'), ((88, ' '), '-'), ((89, ' '), 'L'), ((90, ' '), 'S'), ((91, ' '), 'L'), ((92, ' '), 'E'), ((93, ' '), 'S'), ((94, ' '), 'A'), ((95, ' '), 'I'), ((96, ' '), 'P'), ((97, ' '), 'N'), ((98, ' '), 'Q'), ((99, ' '), 'T'), ((100, ' '), 'A'), ((101, ' '), 'L'), ((102, ' '), 'Y'), ((103, ' '), 'F'), ((104, ' '), 'C'), ((105, ' '), 'A'), ((106, ' '), 'T'), ((107, ' '), 'S'), ((108, ' '), 'D'), ((109, ' '), 'E'), ((110, ' '), '-'), ((111, ' '), '-'), ((112, ' '), '-'), ((113, ' '), 'S'), ((114, ' '), 'Y'), ((115, ' '), 'G'), ((116, ' '), 'Y'), ((117, ' '), 'T'), ((118, ' '), 'F'), ((119, ' '), 'G'), ((120, ' '), 'S'), ((121, ' '), 'G'), ((122, ' '), 'T'), ((123, ' '), 'R'), ((124, ' '), 'L'), ((125, ' '), 'T'), ((126, ' '), 'V'), ((127, ' '), '-'), ((128, ' '), '-')], {'chain_type': 'H', 'score': 18.881, 'query_start': 32, 'query_end': 108, 'error': None, 'query_name': 'seq1'})\n",
      "([((1, ' '), 'E'), ((2, ' '), 'I'), ((3, ' '), 'V'), ((4, ' '), 'M'), ((5, ' '), 'T'), ((6, ' '), 'Q'), ((7, ' '), 'S'), ((8, ' '), 'P'), ((9, ' '), 'D'), ((10, ' '), 'T'), ((11, ' '), 'L'), ((12, ' '), 'S'), ((13, ' '), 'V'), ((14, ' '), 'S'), ((15, ' '), 'P'), ((16, ' '), 'G'), ((17, ' '), 'E'), ((18, ' '), 'R'), ((19, ' '), 'A'), ((20, ' '), 'T'), ((21, ' '), 'L'), ((22, ' '), 'S'), ((23, ' '), 'C'), ((24, ' '), 'R'), ((25, ' '), 'A'), ((26, ' '), 'S'), ((27, ' '), 'E'), ((28, ' '), 'S'), ((29, ' '), 'I'), ((30, ' '), '-'), ((31, ' '), '-'), ((32, ' '), '-'), ((33, ' '), '-'), ((34, ' '), '-'), ((35, ' '), '-'), ((36, ' '), 'S'), ((37, ' '), 'S'), ((38, ' '), 'N'), ((39, ' '), 'L'), ((40, ' '), 'A'), ((41, ' '), 'W'), ((42, ' '), 'Y'), ((43, ' '), 'Q'), ((44, ' '), 'Q'), ((45, ' '), 'K'), ((46, ' '), 'P'), ((47, ' '), 'G'), ((48, ' '), 'Q'), ((49, ' '), 'V'), ((50, ' '), 'P'), ((51, ' '), 'R'), ((52, ' '), 'L'), ((53, ' '), 'L'), ((54, ' '), 'I'), ((55, ' '), 'Y'), ((56, ' '), 'G'), ((57, ' '), 'A'), ((58, ' '), '-'), ((59, ' '), '-'), ((60, ' '), '-'), ((61, ' '), '-'), ((62, ' '), '-'), ((63, ' '), '-'), ((64, ' '), '-'), ((65, ' '), 'S'), ((66, ' '), 'T'), ((67, ' '), 'R'), ((68, ' '), 'A'), ((69, ' '), 'T'), ((70, ' '), 'G'), ((71, ' '), 'V'), ((72, ' '), 'P'), ((73, ' '), '-'), ((74, ' '), 'A'), ((75, ' '), 'R'), ((76, ' '), 'F'), ((77, ' '), 'T'), ((78, ' '), 'G'), ((79, ' '), 'S'), ((80, ' '), 'G'), ((81, ' '), '-'), ((82, ' '), '-'), ((83, ' '), 'S'), ((84, ' '), 'G'), ((85, ' '), 'T'), ((86, ' '), 'E'), ((87, ' '), 'F'), ((88, ' '), 'T'), ((89, ' '), 'L'), ((90, ' '), 'T'), ((91, ' '), 'I'), ((92, ' '), 'S'), ((93, ' '), 'S'), ((94, ' '), 'L'), ((95, ' '), 'Q'), ((96, ' '), 'S'), ((97, ' '), 'E'), ((98, ' '), 'D'), ((99, ' '), 'F'), ((100, ' '), 'A'), ((101, ' '), 'V'), ((102, ' '), 'Y'), ((103, ' '), 'Y'), ((104, ' '), 'C'), ((105, ' '), 'Q'), ((106, ' '), 'Q'), ((107, ' '), 'Y'), ((108, ' '), 'N'), ((109, ' '), 'N'), ((110, ' '), '-'), ((111, ' '), '-'), ((112, ' '), '-'), ((113, ' '), 'R'), ((114, ' '), 'L'), ((115, ' '), 'P'), ((116, ' '), 'Y'), ((117, ' '), 'T'), ((118, ' '), 'F'), ((119, ' '), 'G'), ((120, ' '), 'Q'), ((121, ' '), 'G'), ((122, ' '), 'T'), ((123, ' '), 'K'), ((124, ' '), 'L'), ((125, ' '), 'E'), ((126, ' '), 'I'), ((127, ' '), 'K'), ((128, ' '), '-')], {'chain_type': 'K', 'score': 27.077, 'query_start': 0, 'query_end': 107, 'error': None, 'query_name': 'seq2'})\n",
      "([((1, ' '), 'E'), ((2, ' '), 'V'), ((3, ' '), 'Q'), ((4, ' '), 'L'), ((5, ' '), 'L'), ((6, ' '), 'E'), ((7, ' '), 'S'), ((8, ' '), 'G'), ((9, ' '), 'G'), ((10, ' '), '-'), ((11, ' '), 'G'), ((12, ' '), 'L'), ((13, ' '), 'V'), ((14, ' '), 'Q'), ((15, ' '), 'P'), ((16, ' '), 'G'), ((17, ' '), 'G'), ((18, ' '), 'S'), ((19, ' '), 'L'), ((20, ' '), 'R'), ((21, ' '), 'L'), ((22, ' '), 'S'), ((23, ' '), 'C'), ((24, ' '), 'A'), ((25, ' '), 'A'), ((26, ' '), 'S'), ((27, ' '), 'G'), ((28, ' '), 'F'), ((29, ' '), 'T'), ((30, ' '), 'F'), ((31, ' '), '-'), ((32, ' '), '-'), ((33, ' '), '-'), ((34, ' '), '-'), ((35, ' '), 'N'), ((36, ' '), 'H'), ((37, ' '), 'Y'), ((38, ' '), 'A'), ((39, ' '), 'M'), ((40, ' '), 'T'), ((41, ' '), 'W'), ((42, ' '), 'V'), ((43, ' '), 'R'), ((44, ' '), 'Q'), ((45, ' '), 'A'), ((46, ' '), 'P'), ((47, ' '), 'G'), ((48, ' '), 'K'), ((49, ' '), 'G'), ((50, ' '), 'L'), ((51, ' '), 'E'), ((52, ' '), 'W'), ((53, ' '), 'V'), ((54, ' '), 'A'), ((55, ' '), 'S'), ((56, ' '), 'S'), ((57, ' '), 'S'), ((58, ' '), 'G'), ((59, ' '), 'S'), ((60, ' '), '-'), ((61, ' '), '-'), ((62, ' '), 'G'), ((63, ' '), 'R'), ((64, ' '), 'S'), ((65, ' '), 'T'), ((66, ' '), 'Y'), ((67, ' '), 'Y'), ((68, ' '), 'T'), ((69, ' '), 'D'), ((70, ' '), 'S'), ((71, ' '), 'V'), ((72, ' '), 'K'), ((73, ' '), '-'), ((74, ' '), 'G'), ((75, ' '), 'R'), ((76, ' '), 'F'), ((77, ' '), 'S'), ((78, ' '), 'V'), ((79, ' '), 'S'), ((80, ' '), 'R'), ((81, ' '), 'D'), ((82, ' '), 'N'), ((83, ' '), 'S'), ((84, ' '), 'K'), ((85, ' '), 'N'), ((86, ' '), 'T'), ((87, ' '), 'L'), ((88, ' '), 'Y'), ((89, ' '), 'L'), ((90, ' '), 'Q'), ((91, ' '), 'M'), ((92, ' '), 'N'), ((93, ' '), 'S'), ((94, ' '), 'L'), ((95, ' '), 'R'), ((96, ' '), 'A'), ((97, ' '), 'E'), ((98, ' '), 'D'), ((99, ' '), 'T'), ((100, ' '), 'A'), ((101, ' '), 'V'), ((102, ' '), 'Y'), ((103, ' '), 'Y'), ((104, ' '), 'C'), ((105, ' '), 'A'), ((106, ' '), 'K'), ((107, ' '), 'S'), ((108, ' '), 'S'), ((109, ' '), 'N'), ((110, ' '), 'Y'), ((111, ' '), 'Y'), ((111, 'A'), 'G'), ((111, 'B'), 'S'), ((111, 'C'), 'G'), ((111, 'D'), 'S'), ((112, 'E'), 'Y'), ((112, 'D'), 'S'), ((112, 'C'), 'P'), ((112, 'B'), 'D'), ((112, 'A'), 'D'), ((112, ' '), 'Y'), ((113, ' '), 'Y'), ((114, ' '), 'H'), ((115, ' '), 'M'), ((116, ' '), 'D'), ((117, ' '), 'V'), ((118, ' '), 'W'), ((119, ' '), 'G'), ((120, ' '), 'Q'), ((121, ' '), 'G'), ((122, ' '), 'T'), ((123, ' '), 'T'), ((124, ' '), 'V'), ((125, ' '), 'T'), ((126, ' '), 'V'), ((127, ' '), 'S'), ((128, ' '), '-')], {'chain_type': 'H', 'score': 27.29, 'query_start': 0, 'query_end': 127, 'error': None, 'query_name': 'seq3'})\n"
     ]
    }
   ],
   "source": [
    "##### It can also take a list of seqs #####\n",
    "from anarcii import Anarcii\n",
    "\n",
    "model = Anarcii(seq_type=\"antibody\", batch_size=128, cpu=False, ncpu=1, \n",
    "                mode=\"accuracy\", verbose=True)\n",
    "\n",
    "seq = [\n",
    "    # Alpha\n",
    "    \"AQSVTQLGSHVSVSEGALVLLRCNYSSSVPPYLFWYVQYPNQGLQLLLKYTSAATLVKGINGFEAEFKKSETSFHLTKPSAHMSDAAEYFCAVSEQDDKIIFGKGTRLHILPN\",\n",
    "    # Beta\n",
    "    \"ADVTQTPRNRITKTGKRIMLECSQTKGHDRMYWYRQDPGLGLRLIYYSFDVKDINKGEISDGYSVSRQAQAKFSLSLESAIPNQTALYFCATSDESYGYTFGSGTRLTVVEDL\",\n",
    "    # Light\n",
    "    \"EIVMTQSPDTLSVSPGERATLSCRASESISSNLAWYQQKPGQVPRLLIYGASTRATGVPARFTGSGSGTEFTLTISSLQSEDFAVYYCQQYNNRLPYTFGQGTKLEIKRTVAAP\",\n",
    "    # Heavy\n",
    "    \"EVQLLESGGGLVQPGGSLRLSCAASGFTFNHYAMTWVRQAPGKGLEWVASSSGSGRSTYYTDSVKGRFSVSRDNSKNTLYLQMNSLRAEDTAVYYCAKSSNYYGSGSYSPDDYYHMDVWGQGTTVTVSGASTKGP\"\n",
    "]\n",
    "\n",
    "results =  model.number(seq)\n",
    "\n",
    "print(results[0])\n",
    "print(results[1])\n",
    "print(results[2])\n",
    "print(results[3])"
   ]
  },
  {
   "cell_type": "code",
   "execution_count": null,
   "metadata": {},
   "outputs": [],
   "source": [
    "##### It can also take a list of seqs #####\n",
    "from anarcii import Anarcii\n",
    "\n",
    "model = Anarcii(seq_type=\"antibody\", batch_size=128, cpu=True, ncpu=12, \n",
    "                mode=\"accuracy\", verbose=True)\n",
    "\n",
    "seq = [\"\"]\n",
    "\n",
    "results =  model.number(seq)\n",
    "\n",
    "print(results[0])"
   ]
  },
  {
   "cell_type": "code",
   "execution_count": null,
   "metadata": {},
   "outputs": [],
   "source": [
    "##### It can also take a list of tuples... #####\n",
    "from anarcii import Anarcii\n",
    "\n",
    "model = Anarcii(seq_type=\"antibody\", batch_size=128, cpu=True, ncpu=12, \n",
    "                mode=\"accuracy\", verbose=True)\n",
    "\n",
    "seq = [(\"seq1\", \"QVQLVQSGBAEXVKKPGSSVKVSCTSSEVTFSSFAISWVRQAPGQGLEWLGGISPMFGTPNYAQKFQGRVTITADQSTRTAYMDLRSLRSEDTAVYYCARSPSYICSGGTCVFDHWGQGTLVTVSSGGGGSG\"),\n",
    "       (\"seq2\", \"GGGSGGGGIQPGLTQPPSVSKGLRQTATLTCTGNSNNVGNQGAAWLQQHQGHPPKLLSYRNNDRPSGISERFSASRSGNTASLTITGLQPEDEADYYCSTWDSSLSAVVFGGGTKLTVLGQPKAAPSAAAEQKLISEEDLNGAAHHHHHH\"),\n",
    "       (\"seq3\", \"QVQLVQSGAEVKKPGSSVKVSCKASGGTFSSYAISWVRQAPGQGLEWMGGIIPIFGTANYAQKFQGRVTITADESTSTAYMELSSLRSEDTAVYYCAREPDYYDSSGYYPIDAFDIWGQGTTVTVSSGGGGSGGGGSGGGGSQSALTQPASVSASPGQSITISCTGTSSDVGAYDWVSWYQQHPGKAPKLLIFDVNNRPSGVSHRFSGSKSGNTASLTISGLQAEDEADYYCASATLLDTYVFGTGTKVTVLGDQEPKSSDKTH\")]\n",
    "\n",
    "results =  model.number(seq)\n",
    "results[0]"
   ]
  },
  {
   "cell_type": "code",
   "execution_count": null,
   "metadata": {},
   "outputs": [],
   "source": [
    "### Want to have output that looks like original ANARCI? Use legacy mode. ###\n",
    "from anarcii import Anarcii\n",
    "\n",
    "model = Anarcii(seq_type=\"antibody\", batch_size=128, cpu=True, ncpu=12, \n",
    "                mode=\"accuracy\", verbose=False, \n",
    "                output_format=\"legacy\", debug_input=False)\n",
    "\n",
    "seq = [\"SVKVSCTSSEVTFSSFAISWVRQAPGQGLEWLGGISPMFGTPNYAQKFQGRVTITADQSTRTAYMDLRSLRSEDTAVYYCARSPSYICSGGTCVFDHWGQGTLVTVSSGGGGSG\",\n",
    "       \"LSRFTHKDVPHQGPQFIIQGYKDYVVNEVASLFISADRKLSTLSLPWVSLRDAAVYYCIVTDGYKDYVVNEVASLFISADRKLSTLSLPWVSLRDAAVYYCIVTD\"] # check fail returns none.\n",
    "\n",
    "results =  model.number(seq)\n",
    "\n",
    "numbering, alignment_details, hit_tables = results\n",
    "\n",
    "print(numbering[0])\n",
    "print(alignment_details[0])\n",
    "print(hit_tables[0])\n",
    "\n",
    "print(\"\\n### Check fails return None. ###\")\n",
    "print(numbering[1])\n",
    "print(alignment_details[1])\n",
    "print(hit_tables[1])"
   ]
  },
  {
   "cell_type": "code",
   "execution_count": null,
   "metadata": {},
   "outputs": [],
   "source": [
    "### Can also be passed a fasta file. ###\n",
    "from anarcii import Anarcii\n",
    "\n",
    "model = Anarcii(seq_type=\"antibody\", batch_size=128, cpu=False, \n",
    "                ncpu=12, \n",
    "                mode=\"accuracy\", verbose=True)\n",
    "\n",
    "seq = \"./example_data/monoclonals_clean.fasta.gz\"\n",
    "\n",
    "results =  model.number(seq)\n",
    "\n",
    "# for i in range(len(results)):\n",
    "#     print(\"\\n\", results[i][1]['query_name'], \"\\n\", results[i][1]['chain_type'], results[i][1]['score'], \"\\n\", results[i][0])\n"
   ]
  },
  {
   "cell_type": "code",
   "execution_count": null,
   "metadata": {},
   "outputs": [],
   "source": [
    "# Save the last seqs to a csv, text or json file\n",
    "filename = \"./example_outputs/my_numbered_seqs\"\n",
    "\n",
    "model.to_csv(filename + \".csv\")\n",
    "model.to_json(filename + \".json\")\n",
    "model.to_text(filename + \".txt\")"
   ]
  }
 ],
 "metadata": {
  "kernelspec": {
   "display_name": "mobydick",
   "language": "python",
   "name": "python3"
  },
  "language_info": {
   "codemirror_mode": {
    "name": "ipython",
    "version": 3
   },
   "file_extension": ".py",
   "mimetype": "text/x-python",
   "name": "python",
   "nbconvert_exporter": "python",
   "pygments_lexer": "ipython3",
   "version": "3.13.0"
  }
 },
 "nbformat": 4,
 "nbformat_minor": 2
}
