{
 "cells": [
  {
   "cell_type": "code",
   "execution_count": null,
   "metadata": {},
   "outputs": [
    {
     "name": "stdout",
     "output_type": "stream",
     "text": [
      "Using device CPU with 12 CPUs\n",
      "([((1, ' '), '-'), ((2, ' '), 'Q'), ((3, ' '), 'Q'), ((4, ' '), 'V'), ((5, ' '), 'R'), ((6, ' '), 'Q'), ((7, ' '), 'S'), ((8, ' '), 'P'), ((9, ' '), 'Q'), ((10, ' '), 'S'), ((11, ' '), 'L'), ((12, ' '), 'T'), ((13, ' '), 'V'), ((14, ' '), 'W'), ((15, ' '), 'E'), ((16, ' '), 'G'), ((17, ' '), 'E'), ((18, ' '), 'T'), ((19, ' '), 'A'), ((20, ' '), 'I'), ((21, ' '), 'L'), ((22, ' '), 'N'), ((23, ' '), 'C'), ((24, ' '), 'S'), ((25, ' '), 'Y'), ((26, ' '), 'E'), ((27, ' '), 'D'), ((28, ' '), 'S'), ((29, ' '), 'T'), ((30, ' '), '-'), ((31, ' '), '-'), ((32, ' '), '-'), ((33, ' '), '-'), ((34, ' '), '-'), ((35, ' '), '-'), ((36, ' '), 'F'), ((37, ' '), 'N'), ((38, ' '), 'Y'), ((39, ' '), 'F'), ((40, ' '), 'P'), ((41, ' '), 'W'), ((42, ' '), 'Y'), ((43, ' '), 'Q'), ((44, ' '), 'Q'), ((45, ' '), 'F'), ((46, ' '), 'P'), ((47, ' '), 'G'), ((48, ' '), 'E'), ((49, ' '), 'G'), ((50, ' '), 'P'), ((51, ' '), 'A'), ((52, ' '), 'L'), ((53, ' '), 'L'), ((54, ' '), 'I'), ((55, ' '), 'S'), ((56, ' '), 'I'), ((57, ' '), 'R'), ((58, ' '), 'S'), ((59, ' '), '-'), ((60, ' '), '-'), ((61, ' '), '-'), ((62, ' '), '-'), ((63, ' '), 'V'), ((64, ' '), 'S'), ((65, ' '), 'D'), ((66, ' '), 'K'), ((67, ' '), 'K'), ((68, ' '), 'E'), ((69, ' '), 'D'), ((70, ' '), '-'), ((71, ' '), '-'), ((72, ' '), '-'), ((73, ' '), '-'), ((74, ' '), 'G'), ((75, ' '), 'R'), ((76, ' '), 'F'), ((77, ' '), 'T'), ((78, ' '), 'I'), ((79, ' '), 'F'), ((80, ' '), 'F'), ((81, ' '), 'N'), ((82, ' '), 'K'), ((83, ' '), 'R'), ((84, ' '), 'E'), ((85, ' '), 'K'), ((86, ' '), 'K'), ((87, ' '), 'L'), ((88, ' '), 'S'), ((89, ' '), 'L'), ((90, ' '), 'H'), ((91, ' '), 'I'), ((92, ' '), 'T'), ((93, ' '), 'D'), ((94, ' '), 'S'), ((95, ' '), 'Q'), ((96, ' '), 'P'), ((97, ' '), 'G'), ((98, ' '), 'D'), ((99, ' '), 'S'), ((100, ' '), 'A'), ((101, ' '), 'T'), ((102, ' '), 'Y'), ((103, ' '), 'F'), ((104, ' '), 'C'), ((105, ' '), 'A'), ((106, ' '), 'A'), ((107, ' '), 'R'), ((108, ' '), 'Y'), ((109, ' '), 'Q'), ((110, ' '), 'G'), ((111, ' '), '-'), ((112, ' '), '-'), ((113, ' '), 'G'), ((114, ' '), 'R'), ((115, ' '), 'A'), ((116, ' '), 'L'), ((117, ' '), 'I'), ((118, ' '), 'F'), ((119, ' '), 'G'), ((120, ' '), 'T'), ((121, ' '), 'G'), ((122, ' '), 'T'), ((123, ' '), 'T'), ((124, ' '), 'V'), ((125, ' '), 'S'), ((126, ' '), 'V'), ((127, ' '), 'S'), ((128, ' '), 'P')], {'chain_type': 'H', 'score': 22.445, 'query_start': 0, 'query_end': 110, 'error': None, 'query_name': 'seq0'})\n"
     ]
    }
   ],
   "source": [
    "from anarcii import Anarcii\n",
    "\n",
    "model = Anarcii(seq_type=\"antibody\", batch_size=128, cpu=True, ncpu=12, \n",
    "                mode=\"accuracy\", verbose=False)\n",
    "\n",
    "seq = [\"QQVRQSPQSLTVWEGETAILNCSYEDSTFNYFPWYQQFPGEGPALLISIRSVSDKKEDGRFTIFFNKREKKLSLHITDSQPGDSATYFCAARYQGGRALIFGTGTTVSVSPGSADAAAVTLLEQNPRWRLVPRGQ\"]\n",
    "\n",
    "results =  model.number(seq)\n",
    "\n",
    "print(results[0])"
   ]
  },
  {
   "cell_type": "code",
   "execution_count": 8,
   "metadata": {},
   "outputs": [
    {
     "name": "stdout",
     "output_type": "stream",
     "text": [
      "Using device CPU with 12 CPUs\n",
      "[[((1, ' '), '-'), ((2, ' '), 'Q'), ((3, ' '), 'Q'), ((4, ' '), 'V'), ((5, ' '), 'R'), ((6, ' '), 'Q'), ((7, ' '), 'S'), ((8, ' '), 'P'), ((9, ' '), 'Q'), ((10, ' '), 'S'), ((11, ' '), 'L'), ((12, ' '), 'T'), ((13, ' '), 'V'), ((14, ' '), 'W'), ((15, ' '), 'E'), ((16, ' '), 'G'), ((17, ' '), 'E'), ((18, ' '), 'T'), ((19, ' '), 'A'), ((20, ' '), 'I'), ((21, ' '), 'L'), ((22, ' '), 'N'), ((23, ' '), 'C'), ((24, ' '), 'S'), ((25, ' '), 'Y'), ((26, ' '), 'E'), ((27, ' '), 'D'), ((28, ' '), 'S'), ((29, ' '), 'T'), ((30, ' '), '-'), ((31, ' '), '-'), ((32, ' '), '-'), ((33, ' '), '-'), ((34, ' '), '-'), ((35, ' '), '-'), ((36, ' '), 'F'), ((37, ' '), 'N'), ((38, ' '), 'Y'), ((39, ' '), 'F'), ((40, ' '), 'P'), ((41, ' '), 'W'), ((42, ' '), 'Y'), ((43, ' '), 'Q'), ((44, ' '), 'Q'), ((45, ' '), 'F'), ((46, ' '), 'P'), ((47, ' '), 'G'), ((48, ' '), 'E'), ((49, ' '), 'G'), ((50, ' '), 'P'), ((51, ' '), 'A'), ((52, ' '), 'L'), ((53, ' '), 'L'), ((54, ' '), 'I'), ((55, ' '), 'S'), ((56, ' '), 'I'), ((57, ' '), 'R'), ((58, ' '), 'S'), ((59, ' '), '-'), ((60, ' '), '-'), ((61, ' '), '-'), ((62, ' '), '-'), ((63, ' '), 'V'), ((64, ' '), 'S'), ((65, ' '), 'D'), ((66, ' '), 'K'), ((67, ' '), 'K'), ((68, ' '), 'E'), ((69, ' '), 'D'), ((70, ' '), '-'), ((71, ' '), '-'), ((72, ' '), '-'), ((73, ' '), '-'), ((74, ' '), 'G'), ((75, ' '), 'R'), ((76, ' '), 'F'), ((77, ' '), 'T'), ((78, ' '), 'I'), ((79, ' '), 'F'), ((80, ' '), 'F'), ((81, ' '), 'N'), ((82, ' '), 'K'), ((83, ' '), 'R'), ((84, ' '), 'E'), ((85, ' '), 'K'), ((86, ' '), 'K'), ((87, ' '), 'L'), ((88, ' '), 'S'), ((89, ' '), 'L'), ((90, ' '), 'H'), ((91, ' '), 'I'), ((92, ' '), 'T'), ((93, ' '), 'D'), ((94, ' '), 'S'), ((95, ' '), 'Q'), ((96, ' '), 'P'), ((97, ' '), 'G'), ((98, ' '), 'D'), ((99, ' '), 'S'), ((100, ' '), 'A'), ((101, ' '), 'T'), ((102, ' '), 'Y'), ((103, ' '), 'F'), ((104, ' '), 'C'), ((105, ' '), 'A'), ((106, ' '), 'A'), ((107, ' '), 'R'), ((108, ' '), 'Y'), ((109, ' '), 'Q'), ((110, ' '), 'G'), ((111, ' '), '-'), ((112, ' '), '-'), ((113, ' '), 'G'), ((114, ' '), 'R'), ((115, ' '), 'A'), ((116, ' '), 'L'), ((117, ' '), 'I'), ((118, ' '), 'F'), ((119, ' '), 'G'), ((120, ' '), 'T'), ((121, ' '), 'G'), ((122, ' '), 'T'), ((123, ' '), 'T'), ((124, ' '), 'V'), ((125, ' '), 'S'), ((126, ' '), 'V'), ((127, ' '), 'S'), ((128, ' '), 'P')]]\n",
      "[{'chain_type': 'H', 'score': 22.445, 'query_start': 0, 'query_end': 110, 'error': None, 'query_name': 'seq0'}]\n",
      "[[]]\n"
     ]
    }
   ],
   "source": [
    "# Want to have output that looks like original ANARCI?\n",
    "from anarcii import Anarcii\n",
    "\n",
    "model = Anarcii(seq_type=\"antibody\", batch_size=128, cpu=True, ncpu=12, \n",
    "                mode=\"accuracy\", verbose=False, \n",
    "                output_format=\"legacy\")\n",
    "\n",
    "seq = [\"QQVRQSPQSLTVWEGETAILNCSYEDSTFNYFPWYQQFPGEGPALLISIRSVSDKKEDGRFTIFFNKREKKLSLHITDSQPGDSATYFCAARYQGGRALIFGTGTTVSVSPGSADAAAVTLLEQNPRWRLVPRGQ\"]\n",
    "\n",
    "results =  model.number(seq)\n",
    "\n",
    "numbering, alignment_details, hit_tables = results\n",
    "\n",
    "print(numbering)\n",
    "print(alignment_details)\n",
    "print(hit_tables)"
   ]
  },
  {
   "cell_type": "code",
   "execution_count": null,
   "metadata": {},
   "outputs": [],
   "source": [
    "from anarcii import Anarcii\n",
    "\n",
    "model = Anarcii(seq_type=\"antibody\", batch_size=128, cpu=False, ncpu=12, \n",
    "                mode=\"accuracy\", verbose=False)\n",
    "\n",
    "seq = \"./example_data/monoclonals_clean.fasta.gz\"\n",
    "\n",
    "results =  model.number(seq)\n",
    "\n",
    "for i in range(len(results)):\n",
    "    print(\"\\n\", results[i][1]['query_name'], \"\\n\", results[i][1]['chain_type'], results[i][1]['score'], \"\\n\", results[i][0])\n"
   ]
  },
  {
   "cell_type": "code",
   "execution_count": null,
   "metadata": {},
   "outputs": [],
   "source": [
    "# Save the last seqs to a csv, text or json file\n",
    "filename = \"./example_outputs/my_numbered_seqs\"\n",
    "\n",
    "model.to_csv(filename + \".csv\")\n",
    "model.to_json(filename + \".json\")\n",
    "model.to_text(filename + \".txt\")"
   ]
  }
 ],
 "metadata": {
  "kernelspec": {
   "display_name": "mobydick",
   "language": "python",
   "name": "python3"
  },
  "language_info": {
   "codemirror_mode": {
    "name": "ipython",
    "version": 3
   },
   "file_extension": ".py",
   "mimetype": "text/x-python",
   "name": "python",
   "nbconvert_exporter": "python",
   "pygments_lexer": "ipython3",
   "version": "3.12.7"
  }
 },
 "nbformat": 4,
 "nbformat_minor": 2
}
