{
 "cells": [
  {
   "cell_type": "code",
   "execution_count": 3,
   "metadata": {},
   "outputs": [
    {
     "name": "stdout",
     "output_type": "stream",
     "text": [
      "Using device CPU with 1 CPUs\n",
      "Batch size: 128\n",
      "\tSpeed is a balance of batch size and length diversity. Adjust accordingly.\n",
      " \tSeqs all similar length (+/-5), increase batch size. Mixed lengths (+/-30), reduce.\n",
      "\n",
      "Recommended batch size for CPU: 8.\n",
      "244\n",
      "### Ran antibody/TCR classifier. ###\n",
      "\n",
      "Found 1 antibodies and 0 TCRs.\n",
      "Running on a list of tuples of format: [(name,sequence), ...].\n",
      "Length of sequence list:  1\n",
      "Making predictions on 1 batches.\n",
      "Numbered 1 seqs in 0.0 mins. \n",
      "\n",
      "Running on a list of strings: [sequence, ...].\n",
      "Length of sequence list:  0\n",
      "Making predictions on 0 batches.\n",
      "Numbered 0 seqs in 0.0 mins. \n",
      "\n",
      "joining types\n",
      "([((1, ' '), 'Q'), ((2, ' '), 'I'), ((3, ' '), 'H'), ((4, ' '), 'L'), ((5, ' '), 'V'), ((6, ' '), 'Q'), ((7, ' '), 'S'), ((8, ' '), 'G'), ((9, ' '), 'T'), ((10, ' '), '-'), ((11, ' '), 'E'), ((12, ' '), 'V'), ((13, ' '), 'K'), ((14, ' '), 'K'), ((15, ' '), 'P'), ((16, ' '), 'G'), ((17, ' '), 'S'), ((18, ' '), 'S'), ((19, ' '), 'V'), ((20, ' '), 'T'), ((21, ' '), 'V'), ((22, ' '), 'S'), ((23, ' '), 'C'), ((24, ' '), 'K'), ((25, ' '), 'A'), ((26, ' '), 'Y'), ((27, ' '), 'G'), ((28, ' '), 'V'), ((29, ' '), 'N'), ((30, ' '), 'T'), ((31, ' '), 'F'), ((32, ' '), '-'), ((33, ' '), '-'), ((34, ' '), '-'), ((35, ' '), 'G'), ((36, ' '), 'L'), ((37, ' '), 'Y'), ((38, ' '), 'A'), ((39, ' '), 'V'), ((40, ' '), 'N'), ((41, ' '), 'W'), ((42, ' '), 'V'), ((43, ' '), 'R'), ((44, ' '), 'Q'), ((45, ' '), 'A'), ((46, ' '), 'P'), ((47, ' '), 'G'), ((48, ' '), 'Q'), ((49, ' '), 'S'), ((50, ' '), 'L'), ((51, ' '), 'E'), ((52, ' '), 'Y'), ((53, ' '), 'I'), ((54, ' '), 'G'), ((55, ' '), 'Q'), ((56, ' '), 'I'), ((57, ' '), 'W'), ((58, ' '), 'R'), ((59, ' '), '-'), ((60, ' '), '-'), ((61, ' '), '-'), ((62, ' '), '-'), ((63, ' '), 'W'), ((64, ' '), 'K'), ((65, ' '), 'S'), ((66, ' '), 'S'), ((67, ' '), 'A'), ((68, ' '), 'S'), ((69, ' '), 'H'), ((70, ' '), 'H'), ((71, ' '), 'F'), ((72, ' '), 'R'), ((73, ' '), '-'), ((74, ' '), 'G'), ((75, ' '), 'R'), ((76, ' '), 'V'), ((77, ' '), 'L'), ((78, ' '), 'I'), ((79, ' '), 'S'), ((80, ' '), 'A'), ((80, 'A'), 'V'), ((81, ' '), 'D'), ((81, 'A'), 'L'), ((81, 'B'), 'T'), ((81, 'C'), 'G'), ((82, ' '), 'S'), ((83, ' '), 'S'), ((84, ' '), 'P'), ((85, ' '), 'P'), ((86, ' '), 'I'), ((87, ' '), 'S'), ((88, ' '), 'S'), ((89, ' '), 'L'), ((90, ' '), 'E'), ((91, ' '), 'I'), ((92, ' '), 'K'), ((93, ' '), 'N'), ((94, ' '), 'L'), ((95, ' '), 'T'), ((96, ' '), 'S'), ((97, ' '), 'D'), ((98, ' '), 'D'), ((99, ' '), 'T'), ((100, ' '), 'A'), ((101, ' '), 'V'), ((102, ' '), 'Y'), ((103, ' '), 'F'), ((104, ' '), 'C'), ((105, ' '), 'T'), ((106, ' '), 'T'), ((107, ' '), 'T'), ((108, ' '), 'S'), ((109, ' '), 'T'), ((110, ' '), 'Y'), ((111, ' '), 'D'), ((111, 'A'), 'K'), ((111, 'B'), 'W'), ((111, 'C'), 'S'), ((111, 'D'), 'G'), ((112, 'E'), 'L'), ((112, 'D'), 'H'), ((112, 'C'), 'H'), ((112, 'B'), 'D'), ((112, 'A'), 'G'), ((112, ' '), 'V'), ((113, ' '), 'M'), ((114, ' '), 'A'), ((115, ' '), 'F'), ((116, ' '), 'S'), ((117, ' '), 'S'), ((118, ' '), 'W'), ((119, ' '), 'G'), ((120, ' '), 'Q'), ((121, ' '), 'G'), ((122, ' '), 'T'), ((123, ' '), 'L'), ((124, ' '), 'I'), ((125, ' '), 'S'), ((126, ' '), 'V'), ((127, ' '), 'S'), ((128, ' '), 'A')], {'chain_type': 'H', 'score': 23.175, 'query_start': 0, 'query_end': 131, 'error': None, 'query_name': 'seq0'})\n"
     ]
    }
   ],
   "source": [
    "##### It can also take a list of seqs #####\n",
    "from anarcii import Anarcii\n",
    "\n",
    "model = Anarcii(seq_type=\"unknown\", batch_size=128, cpu=True, ncpu=1, \n",
    "                mode=\"accuracy\", verbose=True)\n",
    "\n",
    "# seq = [(\"seq1\", \"QVQLVQSGBAEXVKKPGSSVKVSCTSSEVTFSSFAISWVRQAPGQGLEWLGGISPMFGTPNYAQKFQGRVTITADQSTRTAYMDLRSLRSEDTAVYYCARSPSYICSGGTCVFDHWGQGTLVTVSSGGGGSG\"),\n",
    "#        (\"seq2\", \"GGGSGGGGIQPGLTQPPSVSKGLRQTATLTCTGNSNNVGNQGAAWLQQHQGHPPKLLSYRNNDRPSGISERFSASRSGNTASLTITGLQPEDEADYYCSTWDSSLSAVVFGGGTKLTVLGQPKAAPSAAAEQKLISEEDLNGAAHHHHHH\"),\n",
    "#        (\"seq3\", \"QVQLVQSGAEVKKPGSSVKVSCKASGGTFSSYAISWVRQAPGQGLEWMGGIIPIFGTANYAQKFQGRVTITADESTSTAYMELSSLRSEDTAVYYCAREPDYYDSSGYYPIDAFDIWGQGTTVTVSSGGGGSGGGGSGGGGSQSALTQPASVSASPGQSITISCTGTSSDVGAYDWVSWYQQHPGKAPKLLIFDVNNRPSGVSHRFSGSKSGNTASLTISGLQAEDEADYYCASATLLDTYVFGTGTKVTVLGDQEPKSSDKTH\")]\n",
    "\n",
    "\n",
    "test = \"QIHLVQSGTEVKKPGSSVTVSCKAYGVNTFGLYAVNWVRQAPGQSLEYIGQIWRWKSSASHHFRGRVLISAVDLTGSSPPISSLEIKNLTSDDTAVYFCTTTSTYDKWSGLHHDGVMAFSSWGQGTLISVSAASTKGPSVFPLAPSSKSTSGGTAALGCLVKDYFPEPVTVSWNSGALTSGVHTFPAVLQSSGLYSLSSVVTVPSSSLGTQTYICNVNHKPSNTKVDKRVEPKSCDKTHHHHHH\"\n",
    "print(len(test))\n",
    "\n",
    "seq = [\n",
    "    test[:150]\n",
    "    # Alpha\n",
    "    # \"AQSVTQLGSHVSVSEGALVLLRCNYSSSVPPYLFWYVQYPNQGLQLLLKYTSAATLVKGINGFEAEFKKSETSFHLTKPSAHMSDAAEYFCAVSEQDDKIIFGKGTRLHILPN\",\n",
    "    # Beta\n",
    "    # \"ADVTQTPRNRITKTGKRIMLECSQTKGHDRMYWYRQDPGLGLRLIYYSFDVKDINKGEISDGYSVSRQAQAKFSLSLESAIPNQTALYFCATSDESYGYTFGSGTRLTVVEDL\",\n",
    "    # # Light\n",
    "    # \"EIVMTQSPDTLSVSPGERATLSCRASESISSNLAWYQQKPGQVPRLLIYGASTRATGVPARFTGSGSGTEFTLTISSLQSEDFAVYYCQQYNNRLPYTFGQGTKLEIKRTVAAP\",\n",
    "    # # Heavy\n",
    "    # \"EVQLLESGGGLVQPGGSLRLSCAASGFTFNHYAMTWVRQAPGKGLEWVASSSGSGRSTYYTDSVKGRFSVSRDNSKNTLYLQMNSLRAEDTAVYYCAKSSNYYGSGSYSPDDYYHMDVWGQGTTVTVSGASTKGP\"\n",
    "]\n",
    "\n",
    "results = model.number(seq)\n",
    "\n",
    "print(results[0])\n",
    "# print(results[1])\n",
    "# print(results[2])\n",
    "# print(results[3])"
   ]
  },
  {
   "cell_type": "code",
   "execution_count": null,
   "metadata": {},
   "outputs": [],
   "source": [
    "results[0][1]['query_name']"
   ]
  },
  {
   "cell_type": "code",
   "execution_count": null,
   "metadata": {},
   "outputs": [],
   "source": [
    "##### It can also take a list of seqs #####\n",
    "from anarcii import Anarcii\n",
    "\n",
    "model = Anarcii(\n",
    "    seq_type=\"antibody\",\n",
    "    batch_size=128,\n",
    "    cpu=True,\n",
    "    ncpu=12,\n",
    "    mode=\"accuracy\",\n",
    "    verbose=True,\n",
    ")\n",
    "\n",
    "seq = [\"\"]\n",
    "\n",
    "results = model.number(seq)\n",
    "\n",
    "print(results[0])"
   ]
  },
  {
   "cell_type": "code",
   "execution_count": 5,
   "metadata": {},
   "outputs": [
    {
     "name": "stdout",
     "output_type": "stream",
     "text": [
      "Using device CPU with 12 CPUs\n",
      "Batch size: 128\n",
      "\tSpeed is a balance of batch size and length diversity. Adjust accordingly.\n",
      " \tSeqs all similar length (+/-5), increase batch size. Mixed lengths (+/-30), reduce.\n",
      "\n",
      "Recommended batch size for CPU: 8.\n",
      "Running on a list of tuples of format: [(name,sequence), ...].\n",
      "Length of sequence list:  1\n",
      "Making predictions on 1 batches.\n",
      "Numbered 1 seqs in 0.01 mins. \n",
      "\n",
      "([((1, ' '), 'Q'), ((2, ' '), 'I'), ((3, ' '), 'H'), ((4, ' '), 'L'), ((5, ' '), 'V'), ((6, ' '), 'Q'), ((7, ' '), 'S'), ((8, ' '), 'G'), ((9, ' '), 'T'), ((10, ' '), '-'), ((11, ' '), 'E'), ((12, ' '), 'V'), ((13, ' '), 'K'), ((14, ' '), 'K'), ((15, ' '), 'P'), ((16, ' '), 'G'), ((17, ' '), 'S'), ((18, ' '), 'S'), ((19, ' '), 'V'), ((20, ' '), 'T'), ((21, ' '), 'V'), ((22, ' '), 'S'), ((23, ' '), 'C'), ((24, ' '), 'K'), ((25, ' '), 'A'), ((26, ' '), 'Y'), ((27, ' '), 'G'), ((28, ' '), 'V'), ((29, ' '), 'N'), ((30, ' '), 'T'), ((31, ' '), 'F'), ((32, ' '), '-'), ((33, ' '), '-'), ((34, ' '), '-'), ((35, ' '), 'G'), ((36, ' '), 'L'), ((37, ' '), 'Y'), ((38, ' '), 'A'), ((39, ' '), 'V'), ((40, ' '), 'N'), ((41, ' '), 'W'), ((42, ' '), 'V'), ((43, ' '), 'R'), ((44, ' '), 'Q'), ((45, ' '), 'A'), ((46, ' '), 'P'), ((47, ' '), 'G'), ((48, ' '), 'Q'), ((49, ' '), 'S'), ((50, ' '), 'L'), ((51, ' '), 'E'), ((52, ' '), 'Y'), ((53, ' '), 'I'), ((54, ' '), 'G'), ((55, ' '), 'Q'), ((56, ' '), 'I'), ((57, ' '), 'W'), ((58, ' '), 'R'), ((59, ' '), '-'), ((60, ' '), '-'), ((61, ' '), '-'), ((62, ' '), '-'), ((63, ' '), 'W'), ((64, ' '), 'K'), ((65, ' '), 'S'), ((66, ' '), 'S'), ((67, ' '), 'A'), ((68, ' '), 'S'), ((69, ' '), 'H'), ((70, ' '), 'H'), ((71, ' '), 'F'), ((72, ' '), 'R'), ((73, ' '), '-'), ((74, ' '), 'G'), ((75, ' '), 'R'), ((76, ' '), 'V'), ((77, ' '), 'L'), ((78, ' '), 'I'), ((79, ' '), 'S'), ((80, ' '), 'A'), ((80, 'A'), 'V'), ((81, ' '), 'D'), ((81, 'A'), 'L'), ((81, 'B'), 'T'), ((81, 'C'), 'G'), ((82, ' '), 'S'), ((83, ' '), 'S'), ((84, ' '), 'P'), ((85, ' '), 'P'), ((86, ' '), 'I'), ((87, ' '), 'S'), ((88, ' '), 'S'), ((89, ' '), 'L'), ((90, ' '), 'E'), ((91, ' '), 'I'), ((92, ' '), 'K'), ((93, ' '), 'N'), ((94, ' '), 'L'), ((95, ' '), 'T'), ((96, ' '), 'S'), ((97, ' '), 'D'), ((98, ' '), 'D'), ((99, ' '), 'T'), ((100, ' '), 'A'), ((101, ' '), 'V'), ((102, ' '), 'Y'), ((103, ' '), 'F'), ((104, ' '), 'C'), ((105, ' '), 'T'), ((106, ' '), 'T'), ((107, ' '), 'T'), ((108, ' '), 'S'), ((109, ' '), 'T'), ((110, ' '), 'Y'), ((111, ' '), 'D'), ((111, 'A'), 'K'), ((111, 'B'), 'W'), ((111, 'C'), 'S'), ((111, 'D'), 'G'), ((112, 'E'), 'L'), ((112, 'D'), 'H'), ((112, 'C'), 'H'), ((112, 'B'), 'D'), ((112, 'A'), 'G'), ((112, ' '), 'V'), ((113, ' '), 'M'), ((114, ' '), 'A'), ((115, ' '), 'F'), ((116, ' '), 'S'), ((117, ' '), 'S'), ((118, ' '), 'W'), ((119, ' '), 'G'), ((120, ' '), 'Q'), ((121, ' '), 'G'), ((122, ' '), 'T'), ((123, ' '), 'L'), ((124, ' '), 'I'), ((125, ' '), 'S'), ((126, ' '), 'V'), ((127, ' '), 'S'), ((128, ' '), 'A')], {'chain_type': 'H', 'score': 23.003, 'query_start': 0, 'query_end': 131, 'error': None, 'query_name': '4p9h_H'})\n"
     ]
    }
   ],
   "source": [
    "##### It can also take a list of tuples... #####\n",
    "from anarcii import Anarcii\n",
    "\n",
    "model = Anarcii(\n",
    "    seq_type=\"antibody\",\n",
    "    batch_size=128,\n",
    "    cpu=True,\n",
    "    ncpu=12,\n",
    "    mode=\"accuracy\",\n",
    "    verbose=True,\n",
    ")\n",
    "\n",
    "seq = [(\"4p9h_H\", \"QIHLVQSGTEVKKPGSSVTVSCKAYGVNTFGLYAVNWVRQAPGQSLEYIGQIWRWKSSASHHFRGRVLISAVDLTGSSPPISSLEIKNLTSDDTAVYFCTTTSTYDKWSGLHHDGVMAFSSWGQGTLISVSAAS\"),\n",
    "       #(\"seq2\", \"GGGSGGGGIQPGLTQPPSVSKGLRQTATLTCTGNSNNVGNQGAAWLQQHQGHPPKLLSYRNNDRPSGISERFSASRSGNTASLTITGLQPEDEADYYCSTWDSSLSAVVFGGGTKLTVLGQPKAAPSAAAEQKLISEEDLNGAAHHHHHH\"),\n",
    "       #(\"seq3\", \"QVQLVQSGAEVKKPGSSVKVSCKASGGTFSSYAISWVRQAPGQGLEWMGGIIPIFGTANYAQKFQGRVTITADESTSTAYMELSSLRSEDTAVYYCAREPDYYDSSGYYPIDAFDIWGQGTTVTVSSGGGGSGGGGSGGGGSQSALTQPASVSASPGQSITISCTGTSSDVGAYDWVSWYQQHPGKAPKLLIFDVNNRPSGVSHRFSGSKSGNTASLTISGLQAEDEADYYCASATLLDTYVFGTGTKVTVLGDQEPKSSDKTH\")\n",
    "       ]\n",
    "\n",
    "results =  model.number(seq)\n",
    "print(results[0])"
   ]
  },
  {
   "cell_type": "code",
   "execution_count": null,
   "metadata": {},
   "outputs": [],
   "source": [
    "### Want to have output that looks like original ANARCI? Use legacy mode. ###\n",
    "from anarcii import Anarcii\n",
    "\n",
    "model = Anarcii(\n",
    "    seq_type=\"antibody\",\n",
    "    batch_size=128,\n",
    "    cpu=True,\n",
    "    ncpu=12,\n",
    "    mode=\"accuracy\",\n",
    "    verbose=False,\n",
    "    output_format=\"legacy\",\n",
    "    debug_input=False,\n",
    ")\n",
    "\n",
    "seq = [\n",
    "    \"SVKVSCTSSEVTFSSFAISWVRQAPGQGLEWLGGISPMFGTPNYAQKFQGRVTITADQSTRTAYMDLRSLRSEDTAVYYCARSPSYICSGGTCVFDHWGQGTLVTVSSGGGGSG\",\n",
    "    \"LSRFTHKDVPHQGPQFIIQGYKDYVVNEVASLFISADRKLSTLSLPWVSLRDAAVYYCIVTDGYKDYVVNEVASLFISADRKLSTLSLPWVSLRDAAVYYCIVTD\",\n",
    "]  # check fail returns none.\n",
    "\n",
    "results = model.number(seq)\n",
    "\n",
    "numbering, alignment_details, hit_tables = results\n",
    "\n",
    "print(numbering[0])\n",
    "print(alignment_details[0])\n",
    "print(hit_tables[0])\n",
    "\n",
    "print(\"\\n### Check fails return None. ###\")\n",
    "print(numbering[1])\n",
    "print(alignment_details[1])\n",
    "print(hit_tables[1])"
   ]
  },
  {
   "cell_type": "code",
   "execution_count": null,
   "metadata": {},
   "outputs": [],
   "source": [
    "### Can also be passed a fasta file. ###\n",
    "from anarcii import Anarcii\n",
    "\n",
    "model = Anarcii(\n",
    "    seq_type=\"antibody\",\n",
    "    batch_size=128,\n",
    "    cpu=False,\n",
    "    ncpu=12,\n",
    "    mode=\"accuracy\",\n",
    "    verbose=True,\n",
    ")\n",
    "\n",
    "seq = \"./example_data/monoclonals_clean.fasta.gz\"\n",
    "\n",
    "results = model.number(seq)\n",
    "\n",
    "# for i in range(len(results)):\n",
    "#     print(\"\\n\", results[i][1]['query_name'], \"\\n\", results[i][1]['chain_type'], results[i][1]['score'], \"\\n\", results[i][0])"
   ]
  },
  {
   "cell_type": "code",
   "execution_count": null,
   "metadata": {},
   "outputs": [],
   "source": [
    "# Save the last seqs to a csv, text or json file\n",
    "filename = \"./example_outputs/my_numbered_seqs\"\n",
    "\n",
    "model.to_csv(filename + \".csv\")\n",
    "model.to_json(filename + \".json\")\n",
    "model.to_text(filename + \".txt\")"
   ]
  }
 ],
 "metadata": {
  "kernelspec": {
   "display_name": "mobydick",
   "language": "python",
   "name": "python3"
  },
  "language_info": {
   "codemirror_mode": {
    "name": "ipython",
    "version": 3
   },
   "file_extension": ".py",
   "mimetype": "text/x-python",
   "name": "python",
   "nbconvert_exporter": "python",
   "pygments_lexer": "ipython3",
   "version": "3.13.0"
  }
 },
 "nbformat": 4,
 "nbformat_minor": 2
}
