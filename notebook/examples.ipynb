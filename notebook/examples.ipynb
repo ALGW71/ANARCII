{
 "cells": [
  {
   "cell_type": "code",
   "execution_count": null,
   "metadata": {},
   "outputs": [],
   "source": [
    "from anarcii import Anarcii\n",
    "\n",
    "model = Anarcii(seq_type=\"antibody\", batch_size=128, cpu=False, ncpu=12, \n",
    "                mode=\"accuracy\", verbose=False)\n",
    "\n",
    "seq = [\"QVQLVQSGAEVKKPGSSVKVSCTSSEVTFSSFAISWVRQAPGQGLEWLGGISPMFGTPNYAQKFQGRVTITADQSTRTAYMDLRSLRSEDTAVYYCARSPSYICSGGTCVFDHWGQGTLVTVSSGGGGSG\",\n",
    "       \"GGGSGGGGIQPGLTQPPSVSKGLRQTATLTCTGNSNNVGNQGAAWLQQHQGHPPKLLSYRNNDRPSGISERFSASRSGNTASLTITGLQPEDEADYYCSTWDSSLSAVVFGGGTKLTVLGQPKAAPSAAAEQKLISEEDLNGAAHHHHHH\",\n",
    "       \"QVQLVQSGAEVKKPGSSVKVSCKASGGTFSSYAISWVRQAPGQGLEWMGGIIPIFGTANYAQKFQGRVTITADESTSTAYMELSSLRSEDTAVYYCAREPDYYDSSGYYPIDAFDIWGQGTTVTVSSGGGGSGGGGSGGGGSQSALTQPASVSASPGQSITISCTGTSSDVGAYDWVSWYQQHPGKAPKLLIFDVNNRPSGVSHRFSGSKSGNTASLTISGLQAEDEADYYCASATLLDTYVFGTGTKVTVLGDQEPKSSDKTH\"]\n",
    "\n",
    "results =  model.number(seq)\n",
    "\n",
    "print(results[0])\n",
    "print(results[1])\n",
    "print(results[2])"
   ]
  },
  {
   "cell_type": "code",
   "execution_count": 4,
   "metadata": {},
   "outputs": [
    {
     "name": "stdout",
     "output_type": "stream",
     "text": [
      "Using device CPU with 12 CPUs\n",
      "[([((1, ' '), 'L'), ((2, ' '), 'A'), ((3, ' '), 'K'), ((4, ' '), 'T'), ((5, ' '), 'T'), ((6, ' '), 'Q'), ((7, ' '), 'P'), ((8, ' '), 'P'), ((9, ' '), 'S'), ((10, ' '), '-'), ((11, ' '), 'M'), ((12, ' '), 'E'), ((13, ' '), 'A'), ((14, ' '), 'Y'), ((15, ' '), 'E'), ((16, ' '), 'G'), ((17, ' '), 'Q'), ((18, ' '), 'E'), ((19, ' '), 'V'), ((20, ' '), 'N'), ((21, ' '), 'V'), ((22, ' '), 'S'), ((23, ' '), 'C'), ((24, ' '), 'S'), ((25, ' '), 'H'), ((26, ' '), 'T'), ((27, ' '), 'N'), ((28, ' '), 'I'), ((29, ' '), 'A'), ((30, ' '), 'T'), ((31, ' '), '-'), ((32, ' '), '-'), ((33, ' '), '-'), ((34, ' '), '-'), ((35, ' '), '-'), ((36, ' '), 'S'), ((37, ' '), 'E'), ((38, ' '), 'Y'), ((39, ' '), 'I'), ((40, ' '), 'Y'), ((41, ' '), 'W'), ((42, ' '), 'Y'), ((43, ' '), 'R'), ((44, ' '), 'Q'), ((45, ' '), 'V'), ((46, ' '), 'P'), ((47, ' '), 'H'), ((48, ' '), 'Q'), ((49, ' '), 'G'), ((50, ' '), 'P'), ((51, ' '), 'Q'), ((52, ' '), 'F'), ((53, ' '), 'I'), ((54, ' '), 'I'), ((55, ' '), 'Q'), ((56, ' '), 'G'), ((57, ' '), 'Y'), ((58, ' '), 'K'), ((59, ' '), '-'), ((60, ' '), '-'), ((61, ' '), '-'), ((62, ' '), '-'), ((63, ' '), '-'), ((64, ' '), 'D'), ((65, ' '), 'Y'), ((66, ' '), 'V'), ((67, ' '), 'V'), ((68, ' '), 'N'), ((69, ' '), 'E'), ((70, ' '), 'V'), ((71, ' '), 'A'), ((72, ' '), 'S'), ((73, ' '), '-'), ((74, ' '), '-'), ((75, ' '), '-'), ((76, ' '), 'L'), ((77, ' '), 'F'), ((78, ' '), 'I'), ((79, ' '), 'S'), ((80, ' '), 'A'), ((81, ' '), 'D'), ((82, ' '), 'R'), ((83, ' '), 'K'), ((84, ' '), 'L'), ((85, ' '), 'S'), ((86, ' '), 'T'), ((87, ' '), 'L'), ((88, ' '), 'S'), ((89, ' '), 'L'), ((90, ' '), 'P'), ((91, ' '), 'W'), ((92, ' '), 'V'), ((93, ' '), 'S'), ((94, ' '), 'L'), ((95, ' '), 'R'), ((96, ' '), '-'), ((97, ' '), '-'), ((98, ' '), 'D'), ((99, ' '), 'A'), ((100, ' '), 'A'), ((101, ' '), 'V'), ((102, ' '), 'Y'), ((103, ' '), 'Y'), ((104, ' '), 'C'), ((105, ' '), 'I'), ((106, ' '), 'V'), ((107, ' '), '-'), ((108, ' '), '-'), ((109, ' '), '-'), ((110, ' '), '-'), ((111, ' '), '-'), ((112, ' '), '-'), ((113, ' '), '-'), ((114, ' '), '-'), ((115, ' '), '-'), ((116, ' '), 'T'), ((117, ' '), 'D'), ((118, ' '), '-'), ((119, ' '), '-'), ((120, ' '), '-'), ((121, ' '), '-'), ((122, ' '), '-'), ((123, ' '), '-'), ((124, ' '), '-'), ((125, ' '), '-'), ((126, ' '), '-'), ((127, ' '), '-'), ((128, ' '), '-')], 0, 91), (None, None, None)]\n",
      "[[{'chain_type': 'L', 'score': 19.882, 'query_start': 0, 'query_end': 91, 'error': None, 'query_name': 'seq0', 'species': None, 'scheme': 'imgt'}], [{'chain_type': 'F', 'score': 14.852, 'query_start': None, 'query_end': None, 'error': 'Score less than cut off.', 'query_name': 'seq1', 'species': None, 'scheme': 'imgt'}]]\n",
      "[[None], [None]]\n"
     ]
    }
   ],
   "source": [
    "# Want to have output that looks like original ANARCI?\n",
    "from anarcii import Anarcii\n",
    "\n",
    "model = Anarcii(seq_type=\"antibody\", batch_size=128, cpu=True, ncpu=12, \n",
    "                mode=\"accuracy\", verbose=False, \n",
    "                output_format=\"legacy\")\n",
    "\n",
    "seq = [\"LAKTTQPPSMEAYEGQEVNVSCSHTNIATSEYIYWYRQVPHQGPQFIIQGYKDYVVNEVASLFISADRKLSTLSLPWVSLRDAAVYYCIVTD\",\n",
    "       \"LSRFTHKDVPHQGPQFIIQGYKDYVVNEVASLFISADRKLSTLSLPWVSLRDAAVYYCIVTD\"] # check fail returns none.\n",
    "\n",
    "results =  model.number(seq)\n",
    "\n",
    "numbering, alignment_details, hit_tables = results\n",
    "\n",
    "print(numbering)\n",
    "print(alignment_details)\n",
    "print(hit_tables)"
   ]
  },
  {
   "cell_type": "code",
   "execution_count": null,
   "metadata": {},
   "outputs": [],
   "source": [
    "from anarcii import Anarcii\n",
    "\n",
    "model = Anarcii(seq_type=\"antibody\", batch_size=128, cpu=False, ncpu=12, \n",
    "                mode=\"accuracy\", verbose=False)\n",
    "\n",
    "seq = \"./example_data/monoclonals_clean.fasta.gz\"\n",
    "\n",
    "results =  model.number(seq)\n",
    "\n",
    "for i in range(len(results)):\n",
    "    print(\"\\n\", results[i][1]['query_name'], \"\\n\", results[i][1]['chain_type'], results[i][1]['score'], \"\\n\", results[i][0])\n"
   ]
  },
  {
   "cell_type": "code",
   "execution_count": null,
   "metadata": {},
   "outputs": [],
   "source": [
    "# Save the last seqs to a csv, text or json file\n",
    "filename = \"./example_outputs/my_numbered_seqs\"\n",
    "\n",
    "model.to_csv(filename + \".csv\")\n",
    "model.to_json(filename + \".json\")\n",
    "model.to_text(filename + \".txt\")"
   ]
  }
 ],
 "metadata": {
  "kernelspec": {
   "display_name": "mobydick",
   "language": "python",
   "name": "python3"
  },
  "language_info": {
   "codemirror_mode": {
    "name": "ipython",
    "version": 3
   },
   "file_extension": ".py",
   "mimetype": "text/x-python",
   "name": "python",
   "nbconvert_exporter": "python",
   "pygments_lexer": "ipython3",
   "version": "3.13.0"
  }
 },
 "nbformat": 4,
 "nbformat_minor": 2
}
