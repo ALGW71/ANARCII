{
 "cells": [
  {
   "cell_type": "code",
   "execution_count": 1,
   "metadata": {},
   "outputs": [
    {
     "name": "stdout",
     "output_type": "stream",
     "text": [
      "Using device CPU with 12 CPUs\n",
      "Number of high scoring chains found:  4 \n",
      " Indices:  [10, 83, 156, 229] \n",
      " Values:  [35.573, 35.573, 35.573, 35.573]\n",
      "QQVRQSPQSLTVWEGETAILNCSYEDSTFNYFPWYQQFPGEGPALLISIRSVSDKKEDGRFTIFFNKREKKLSLHITDSQPGDSATYFCAARYQGGRALIFGTGTTVSVSPGSADAAAVTLLEQNPRWRLVPRGQALINKERHEREQQVRQSPQSLTVWE\n",
      "QQVRQSPQSLTVWEGETAILNCSYEDSTFNYFPWYQQFPGEGPALLISIRSVSDKKEDGRFTIFFNKREKKLSLHITDSQPGDSATYFCAARYQGGRALIFGTGTTVSVSPGSADAAAVTLLEQNPRWRLVPRGQALINKERHEREQQVRQSPQSLTVWE\n",
      "QQVRQSPQSLTVWEGETAILNCSYEDSTFNYFPWYQQFPGEGPALLISIRSVSDKKEDGRFTIFFNKREKKLSLHITDSQPGDSATYFCAARYQGGRALIFGTGTTVSVSPGSADAAAVTLLEQNPRWRLVPRGQALINKERHEREQQVRQSPQSLTVWE\n",
      "QQVRQSPQSLTVWEGETAILNCSYEDSTFNYFPWYQQFPGEGPALLISIRSVSDKKEDGRFTIFFNKREKKLSLHITDSQPGDSATYFCAARYQGGRALIFGTGTTVSVSPGSADAAAVTLLEQNPRWRLVPRGQ\n",
      "seq0 split into multiple seqs\n",
      "\n",
      " seq0_1 \n",
      " A 31.927 \n",
      " [((1, ' '), '-'), ((2, ' '), 'Q'), ((3, ' '), 'Q'), ((4, ' '), 'V'), ((5, ' '), 'R'), ((6, ' '), 'Q'), ((7, ' '), 'S'), ((8, ' '), 'P'), ((9, ' '), 'Q'), ((10, ' '), 'S'), ((11, ' '), 'L'), ((12, ' '), 'T'), ((13, ' '), 'V'), ((14, ' '), 'W'), ((15, ' '), 'E'), ((16, ' '), 'G'), ((17, ' '), 'E'), ((18, ' '), 'T'), ((19, ' '), 'A'), ((20, ' '), 'I'), ((21, ' '), 'L'), ((22, ' '), 'N'), ((23, ' '), 'C'), ((24, ' '), 'S'), ((25, ' '), 'Y'), ((26, ' '), 'E'), ((27, ' '), 'D'), ((28, ' '), 'S'), ((29, ' '), 'T'), ((30, ' '), '-'), ((31, ' '), '-'), ((32, ' '), '-'), ((33, ' '), '-'), ((34, ' '), '-'), ((35, ' '), '-'), ((36, ' '), 'F'), ((37, ' '), 'N'), ((38, ' '), 'Y'), ((39, ' '), 'F'), ((40, ' '), 'P'), ((41, ' '), 'W'), ((42, ' '), 'Y'), ((43, ' '), 'Q'), ((44, ' '), 'Q'), ((45, ' '), 'F'), ((46, ' '), 'P'), ((47, ' '), 'G'), ((48, ' '), 'E'), ((49, ' '), 'G'), ((50, ' '), 'P'), ((51, ' '), 'A'), ((52, ' '), 'L'), ((53, ' '), 'L'), ((54, ' '), 'I'), ((55, ' '), 'S'), ((56, ' '), 'I'), ((57, ' '), 'R'), ((58, ' '), 'S'), ((59, ' '), 'V'), ((60, ' '), '-'), ((61, ' '), '-'), ((62, ' '), '-'), ((63, ' '), 'S'), ((64, ' '), 'D'), ((65, ' '), 'K'), ((66, ' '), 'K'), ((67, ' '), 'E'), ((68, ' '), 'D'), ((69, ' '), '-'), ((70, ' '), '-'), ((71, ' '), '-'), ((72, ' '), '-'), ((73, ' '), '-'), ((74, ' '), 'G'), ((75, ' '), 'R'), ((76, ' '), 'F'), ((77, ' '), 'T'), ((78, ' '), 'I'), ((79, ' '), 'F'), ((80, ' '), 'F'), ((81, ' '), 'N'), ((82, ' '), 'K'), ((83, ' '), 'R'), ((84, ' '), 'E'), ((85, ' '), 'K'), ((86, ' '), 'K'), ((87, ' '), 'L'), ((88, ' '), 'S'), ((89, ' '), 'L'), ((90, ' '), 'H'), ((91, ' '), 'I'), ((92, ' '), 'T'), ((93, ' '), 'D'), ((94, ' '), 'S'), ((95, ' '), 'Q'), ((96, ' '), 'P'), ((97, ' '), 'G'), ((98, ' '), 'D'), ((99, ' '), 'S'), ((100, ' '), 'A'), ((101, ' '), 'T'), ((102, ' '), 'Y'), ((103, ' '), 'F'), ((104, ' '), 'C'), ((105, ' '), 'A'), ((106, ' '), 'A'), ((107, ' '), 'R'), ((108, ' '), 'Y'), ((109, ' '), 'Q'), ((110, ' '), 'G'), ((111, ' '), '-'), ((112, ' '), '-'), ((113, ' '), 'G'), ((114, ' '), 'R'), ((115, ' '), 'A'), ((116, ' '), 'L'), ((117, ' '), 'I'), ((118, ' '), 'F'), ((119, ' '), 'G'), ((120, ' '), 'T'), ((121, ' '), 'G'), ((122, ' '), 'T'), ((123, ' '), 'T'), ((124, ' '), 'V'), ((125, ' '), 'S'), ((126, ' '), 'V'), ((127, ' '), 'S'), ((128, ' '), 'P')]\n",
      "\n",
      " seq0_2 \n",
      " A 31.927 \n",
      " [((1, ' '), '-'), ((2, ' '), 'Q'), ((3, ' '), 'Q'), ((4, ' '), 'V'), ((5, ' '), 'R'), ((6, ' '), 'Q'), ((7, ' '), 'S'), ((8, ' '), 'P'), ((9, ' '), 'Q'), ((10, ' '), 'S'), ((11, ' '), 'L'), ((12, ' '), 'T'), ((13, ' '), 'V'), ((14, ' '), 'W'), ((15, ' '), 'E'), ((16, ' '), 'G'), ((17, ' '), 'E'), ((18, ' '), 'T'), ((19, ' '), 'A'), ((20, ' '), 'I'), ((21, ' '), 'L'), ((22, ' '), 'N'), ((23, ' '), 'C'), ((24, ' '), 'S'), ((25, ' '), 'Y'), ((26, ' '), 'E'), ((27, ' '), 'D'), ((28, ' '), 'S'), ((29, ' '), 'T'), ((30, ' '), '-'), ((31, ' '), '-'), ((32, ' '), '-'), ((33, ' '), '-'), ((34, ' '), '-'), ((35, ' '), '-'), ((36, ' '), 'F'), ((37, ' '), 'N'), ((38, ' '), 'Y'), ((39, ' '), 'F'), ((40, ' '), 'P'), ((41, ' '), 'W'), ((42, ' '), 'Y'), ((43, ' '), 'Q'), ((44, ' '), 'Q'), ((45, ' '), 'F'), ((46, ' '), 'P'), ((47, ' '), 'G'), ((48, ' '), 'E'), ((49, ' '), 'G'), ((50, ' '), 'P'), ((51, ' '), 'A'), ((52, ' '), 'L'), ((53, ' '), 'L'), ((54, ' '), 'I'), ((55, ' '), 'S'), ((56, ' '), 'I'), ((57, ' '), 'R'), ((58, ' '), 'S'), ((59, ' '), 'V'), ((60, ' '), '-'), ((61, ' '), '-'), ((62, ' '), '-'), ((63, ' '), 'S'), ((64, ' '), 'D'), ((65, ' '), 'K'), ((66, ' '), 'K'), ((67, ' '), 'E'), ((68, ' '), 'D'), ((69, ' '), '-'), ((70, ' '), '-'), ((71, ' '), '-'), ((72, ' '), '-'), ((73, ' '), '-'), ((74, ' '), 'G'), ((75, ' '), 'R'), ((76, ' '), 'F'), ((77, ' '), 'T'), ((78, ' '), 'I'), ((79, ' '), 'F'), ((80, ' '), 'F'), ((81, ' '), 'N'), ((82, ' '), 'K'), ((83, ' '), 'R'), ((84, ' '), 'E'), ((85, ' '), 'K'), ((86, ' '), 'K'), ((87, ' '), 'L'), ((88, ' '), 'S'), ((89, ' '), 'L'), ((90, ' '), 'H'), ((91, ' '), 'I'), ((92, ' '), 'T'), ((93, ' '), 'D'), ((94, ' '), 'S'), ((95, ' '), 'Q'), ((96, ' '), 'P'), ((97, ' '), 'G'), ((98, ' '), 'D'), ((99, ' '), 'S'), ((100, ' '), 'A'), ((101, ' '), 'T'), ((102, ' '), 'Y'), ((103, ' '), 'F'), ((104, ' '), 'C'), ((105, ' '), 'A'), ((106, ' '), 'A'), ((107, ' '), 'R'), ((108, ' '), 'Y'), ((109, ' '), 'Q'), ((110, ' '), 'G'), ((111, ' '), '-'), ((112, ' '), '-'), ((113, ' '), 'G'), ((114, ' '), 'R'), ((115, ' '), 'A'), ((116, ' '), 'L'), ((117, ' '), 'I'), ((118, ' '), 'F'), ((119, ' '), 'G'), ((120, ' '), 'T'), ((121, ' '), 'G'), ((122, ' '), 'T'), ((123, ' '), 'T'), ((124, ' '), 'V'), ((125, ' '), 'S'), ((126, ' '), 'V'), ((127, ' '), 'S'), ((128, ' '), 'P')]\n",
      "\n",
      " seq0_3 \n",
      " A 31.927 \n",
      " [((1, ' '), '-'), ((2, ' '), 'Q'), ((3, ' '), 'Q'), ((4, ' '), 'V'), ((5, ' '), 'R'), ((6, ' '), 'Q'), ((7, ' '), 'S'), ((8, ' '), 'P'), ((9, ' '), 'Q'), ((10, ' '), 'S'), ((11, ' '), 'L'), ((12, ' '), 'T'), ((13, ' '), 'V'), ((14, ' '), 'W'), ((15, ' '), 'E'), ((16, ' '), 'G'), ((17, ' '), 'E'), ((18, ' '), 'T'), ((19, ' '), 'A'), ((20, ' '), 'I'), ((21, ' '), 'L'), ((22, ' '), 'N'), ((23, ' '), 'C'), ((24, ' '), 'S'), ((25, ' '), 'Y'), ((26, ' '), 'E'), ((27, ' '), 'D'), ((28, ' '), 'S'), ((29, ' '), 'T'), ((30, ' '), '-'), ((31, ' '), '-'), ((32, ' '), '-'), ((33, ' '), '-'), ((34, ' '), '-'), ((35, ' '), '-'), ((36, ' '), 'F'), ((37, ' '), 'N'), ((38, ' '), 'Y'), ((39, ' '), 'F'), ((40, ' '), 'P'), ((41, ' '), 'W'), ((42, ' '), 'Y'), ((43, ' '), 'Q'), ((44, ' '), 'Q'), ((45, ' '), 'F'), ((46, ' '), 'P'), ((47, ' '), 'G'), ((48, ' '), 'E'), ((49, ' '), 'G'), ((50, ' '), 'P'), ((51, ' '), 'A'), ((52, ' '), 'L'), ((53, ' '), 'L'), ((54, ' '), 'I'), ((55, ' '), 'S'), ((56, ' '), 'I'), ((57, ' '), 'R'), ((58, ' '), 'S'), ((59, ' '), 'V'), ((60, ' '), '-'), ((61, ' '), '-'), ((62, ' '), '-'), ((63, ' '), 'S'), ((64, ' '), 'D'), ((65, ' '), 'K'), ((66, ' '), 'K'), ((67, ' '), 'E'), ((68, ' '), 'D'), ((69, ' '), '-'), ((70, ' '), '-'), ((71, ' '), '-'), ((72, ' '), '-'), ((73, ' '), '-'), ((74, ' '), 'G'), ((75, ' '), 'R'), ((76, ' '), 'F'), ((77, ' '), 'T'), ((78, ' '), 'I'), ((79, ' '), 'F'), ((80, ' '), 'F'), ((81, ' '), 'N'), ((82, ' '), 'K'), ((83, ' '), 'R'), ((84, ' '), 'E'), ((85, ' '), 'K'), ((86, ' '), 'K'), ((87, ' '), 'L'), ((88, ' '), 'S'), ((89, ' '), 'L'), ((90, ' '), 'H'), ((91, ' '), 'I'), ((92, ' '), 'T'), ((93, ' '), 'D'), ((94, ' '), 'S'), ((95, ' '), 'Q'), ((96, ' '), 'P'), ((97, ' '), 'G'), ((98, ' '), 'D'), ((99, ' '), 'S'), ((100, ' '), 'A'), ((101, ' '), 'T'), ((102, ' '), 'Y'), ((103, ' '), 'F'), ((104, ' '), 'C'), ((105, ' '), 'A'), ((106, ' '), 'A'), ((107, ' '), 'R'), ((108, ' '), 'Y'), ((109, ' '), 'Q'), ((110, ' '), 'G'), ((111, ' '), '-'), ((112, ' '), '-'), ((113, ' '), 'G'), ((114, ' '), 'R'), ((115, ' '), 'A'), ((116, ' '), 'L'), ((117, ' '), 'I'), ((118, ' '), 'F'), ((119, ' '), 'G'), ((120, ' '), 'T'), ((121, ' '), 'G'), ((122, ' '), 'T'), ((123, ' '), 'T'), ((124, ' '), 'V'), ((125, ' '), 'S'), ((126, ' '), 'V'), ((127, ' '), 'S'), ((128, ' '), 'P')]\n",
      "\n",
      " seq0_4 \n",
      " A 31.98 \n",
      " [((1, ' '), '-'), ((2, ' '), 'Q'), ((3, ' '), 'Q'), ((4, ' '), 'V'), ((5, ' '), 'R'), ((6, ' '), 'Q'), ((7, ' '), 'S'), ((8, ' '), 'P'), ((9, ' '), 'Q'), ((10, ' '), 'S'), ((11, ' '), 'L'), ((12, ' '), 'T'), ((13, ' '), 'V'), ((14, ' '), 'W'), ((15, ' '), 'E'), ((16, ' '), 'G'), ((17, ' '), 'E'), ((18, ' '), 'T'), ((19, ' '), 'A'), ((20, ' '), 'I'), ((21, ' '), 'L'), ((22, ' '), 'N'), ((23, ' '), 'C'), ((24, ' '), 'S'), ((25, ' '), 'Y'), ((26, ' '), 'E'), ((27, ' '), 'D'), ((28, ' '), 'S'), ((29, ' '), 'T'), ((30, ' '), '-'), ((31, ' '), '-'), ((32, ' '), '-'), ((33, ' '), '-'), ((34, ' '), '-'), ((35, ' '), '-'), ((36, ' '), 'F'), ((37, ' '), 'N'), ((38, ' '), 'Y'), ((39, ' '), 'F'), ((40, ' '), 'P'), ((41, ' '), 'W'), ((42, ' '), 'Y'), ((43, ' '), 'Q'), ((44, ' '), 'Q'), ((45, ' '), 'F'), ((46, ' '), 'P'), ((47, ' '), 'G'), ((48, ' '), 'E'), ((49, ' '), 'G'), ((50, ' '), 'P'), ((51, ' '), 'A'), ((52, ' '), 'L'), ((53, ' '), 'L'), ((54, ' '), 'I'), ((55, ' '), 'S'), ((56, ' '), 'I'), ((57, ' '), 'R'), ((58, ' '), 'S'), ((59, ' '), 'V'), ((60, ' '), '-'), ((61, ' '), '-'), ((62, ' '), '-'), ((63, ' '), 'S'), ((64, ' '), 'D'), ((65, ' '), 'K'), ((66, ' '), 'K'), ((67, ' '), 'E'), ((68, ' '), 'D'), ((69, ' '), '-'), ((70, ' '), '-'), ((71, ' '), '-'), ((72, ' '), '-'), ((73, ' '), '-'), ((74, ' '), 'G'), ((75, ' '), 'R'), ((76, ' '), 'F'), ((77, ' '), 'T'), ((78, ' '), 'I'), ((79, ' '), 'F'), ((80, ' '), 'F'), ((81, ' '), 'N'), ((82, ' '), 'K'), ((83, ' '), 'R'), ((84, ' '), 'E'), ((85, ' '), 'K'), ((86, ' '), 'K'), ((87, ' '), 'L'), ((88, ' '), 'S'), ((89, ' '), 'L'), ((90, ' '), 'H'), ((91, ' '), 'I'), ((92, ' '), 'T'), ((93, ' '), 'D'), ((94, ' '), 'S'), ((95, ' '), 'Q'), ((96, ' '), 'P'), ((97, ' '), 'G'), ((98, ' '), 'D'), ((99, ' '), 'S'), ((100, ' '), 'A'), ((101, ' '), 'T'), ((102, ' '), 'Y'), ((103, ' '), 'F'), ((104, ' '), 'C'), ((105, ' '), 'A'), ((106, ' '), 'A'), ((107, ' '), 'R'), ((108, ' '), 'Y'), ((109, ' '), 'Q'), ((110, ' '), 'G'), ((111, ' '), '-'), ((112, ' '), '-'), ((113, ' '), 'G'), ((114, ' '), 'R'), ((115, ' '), 'A'), ((116, ' '), 'L'), ((117, ' '), 'I'), ((118, ' '), 'F'), ((119, ' '), 'G'), ((120, ' '), 'T'), ((121, ' '), 'G'), ((122, ' '), 'T'), ((123, ' '), 'T'), ((124, ' '), 'V'), ((125, ' '), 'S'), ((126, ' '), 'V'), ((127, ' '), 'S'), ((128, ' '), 'P')]\n"
     ]
    }
   ],
   "source": [
    "from anarcii import Anarcii\n",
    "\n",
    "model = Anarcii(seq_type=\"tcr\", batch_size=128, cpu=True, ncpu=12, \n",
    "                mode=\"accuracy\", \n",
    "                verbose=False,\n",
    "                scfv_or_concatenated_chains=True)\n",
    "\n",
    "seq = [\"QQVRQSPQSLTVWEGETAILNCSYEDSTFNYFPWYQQFPGEGPALLISIRSVSDKKEDGRFTIFFNKREKKLSLHITDSQPGDSATYFCAARYQGGRALIFGTGTTVSVSPGSADAAAVTLLEQNPRWRLVPRGQ\"+\n",
    "       \"ALINKERHERE\"+\n",
    "       \"QQVRQSPQSLTVWEGETAILNCSYEDSTFNYFPWYQQFPGEGPALLISIRSVSDKKEDGRFTIFFNKREKKLSLHITDSQPGDSATYFCAARYQGGRALIFGTGTTVSVSPGSADAAAVTLLEQNPRWRLVPRGQ\"+\n",
    "       \"ALINKERHERE\"+\n",
    "       \"QQVRQSPQSLTVWEGETAILNCSYEDSTFNYFPWYQQFPGEGPALLISIRSVSDKKEDGRFTIFFNKREKKLSLHITDSQPGDSATYFCAARYQGGRALIFGTGTTVSVSPGSADAAAVTLLEQNPRWRLVPRGQ\"+\n",
    "       \"ALINKERHERE\"+\n",
    "       \"QQVRQSPQSLTVWEGETAILNCSYEDSTFNYFPWYQQFPGEGPALLISIRSVSDKKEDGRFTIFFNKREKKLSLHITDSQPGDSATYFCAARYQGGRALIFGTGTTVSVSPGSADAAAVTLLEQNPRWRLVPRGQ\"]\n",
    "\n",
    "# seq = [\"GGSGGGGSQSALTQPASVSASPGQSITISCTGTSSDVGAYDWVSWYQQHPGKAPKLLIFDVNNRPSGVSHRFSGSKSGNTASLTISGLQAEDEADYYCASATLLDTYVFGTGTKVTVLGDQEPKSSDKTH\"]\n",
    "\n",
    "results =  model.number(seq)\n",
    "\n",
    "for i in range(len(results)):\n",
    "    print(\"\\n\", results[i][1]['query_name'], \"\\n\", results[i][1]['chain_type'], results[i][1]['score'], \"\\n\", results[i][0])\n"
   ]
  },
  {
   "cell_type": "code",
   "execution_count": null,
   "metadata": {},
   "outputs": [],
   "source": [
    "from anarcii import Anarcii\n",
    "\n",
    "model = Anarcii(seq_type=\"antibody\", batch_size=128, cpu=True, ncpu=12, \n",
    "                mode=\"accuracy\", \n",
    "                verbose=False,\n",
    "                scfv_or_concatenated_chains=True)\n",
    "\n",
    "seqs = [(\"pdb1\", \"QVQLVQSGAEVKKPGSSVKVSCTSSEVTFSSFAISWVRQAPGQGLEWLGGISPMFGTPNYAQKFQGRVTITADQSTRTAYMDLRSLRSEDTAVYYCARSPSYICSGGTCVFDHWGQGTLVTVSSGGGGSGGGGSGGGGIQPGLTQPPSVSKGLRQTATLTCTGNSNNVGNQGAAWLQQHQGHPPKLLSYRNNDRPSGISERFSASRSGNTASLTITGLQPEDEADYYCSTWDSSLSAVVFGGGTKLTVLGQPKAAPSAAAEQKLISEEDLNGAAHHHHHH\"),\n",
    "       (\"pdb2\", \"QVQLVQSGAEVKKPGSSVKVSCKASGGTFSSYAISWVRQAPGQGLEWMGGIIPIFGTANYAQKFQGRVTITADESTSTAYMELSSLRSEDTAVYYCAREPDYYDSSGYYPIDAFDIWGQGTTVTVSSGGGGSGGGGSGGGGSQSALTQPASVSASPGQSITISCTGTSSDVGAYDWVSWYQQHPGKAPKLLIFDVNNRPSGVSHRFSGSKSGNTASLTISGLQAEDEADYYCASATLLDTYVFGTGTKVTVLGDQEPKSSDKTH\"),\n",
    "       (\"6wzn\", \"GAHADIQMTQSPSFLSASVGDRVTITCRASQGISSWLAWYQQKPGKAPKLLIYAASSLQSGVPSRFSGSGSGTDFTLTISSLQPEDFATYYCQQANSFPLTFGGGTRLEIKSGGSTITSVIKPEMKIKLRMEGAVNGHKFVIEGEGIGKPYEGTQTLDLTVEEGAPLPFSYDILTPAFQYGNRAFTKYPEDIPDYFKQAFPEGYSWERSMTYEDQGICIATSDITMEGDCFFYEIRFDGTNFPPNGPVMQKKTLKWEPSTEKMYVEDGVLKGDVEMALLLEGGGHYRCDFKTTYKAKKDVRLPDAHEVDHRIEILSHDKDYNKVRLYEHAEARYSGGGSGSSSGTQVQLVESGGGLVQPGGSLRLSCAASGLTFSNYAMNWVRQAPGKGLEWVSSISSRGDTTYYADSVKGRFTISRDNSKSTLYLQMNSLRAEDAAVYYCARLRNSGGMDVWGPGTTVTVSSAS\"),\n",
    "       (\"8kgz\", \"MSDKIIHLTDDSFDTDVLKADGAILVDFWAEWCGPCKMIAPILDEIADEYQGKLTVAKLNIDQNPGTAPKYGIRGIPTLLLFKNGEVAATKVGALSKGQLKEFLDANLAGSGSGHMHHHHHHSSGLVPRGSGMKETAAAKFERQHMDSPDLGTDDDDKAMGQVQLQESGPSLVKPSQTLSLTCTVSGFSITSDGVLWVRQAPGKALEWVGAIYQNGATYYNPALKSRLSITRDTSKSQVSLSLSSVTTEDTAVYYCARDTDYDGMDVWGRGLLVTVSSGGGGSGGGGSGGGGSQAVLTQPSSVSGSLGQSVSITCSGSSSNVGYGNYVSWFQQVPGSAPKLLIYGATSRASGVPDRFSGSRSGNTATLTISSLQAEDEADYYCASGDSGSSLVFGSGTRLTVLGLEHHHHHH\")]\n",
    "\n",
    "for seq in seqs:\n",
    "       print(len(seq[1]))\n",
    "       results =  model.number([seq])\n",
    "       for i in range(len(results)):\n",
    "              print(\"\\n\", results[i][1]['query_name'], \"\\n\", results[i][1]['chain_type'], results[i][1]['score'], \"\\n\", results[i][0], \"\\n\\n\")\n"
   ]
  }
 ],
 "metadata": {
  "kernelspec": {
   "display_name": "mobydick",
   "language": "python",
   "name": "python3"
  },
  "language_info": {
   "codemirror_mode": {
    "name": "ipython",
    "version": 3
   },
   "file_extension": ".py",
   "mimetype": "text/x-python",
   "name": "python",
   "nbconvert_exporter": "python",
   "pygments_lexer": "ipython3",
   "version": "3.13.0"
  }
 },
 "nbformat": 4,
 "nbformat_minor": 2
}
