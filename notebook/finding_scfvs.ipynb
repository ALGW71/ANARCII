{
 "cells": [
  {
   "cell_type": "code",
   "execution_count": null,
   "metadata": {},
   "outputs": [],
   "source": [
    "from anarcii import Anarcii\n",
    "\n",
    "model = Anarcii(seq_type=\"tcr\", batch_size=128, cpu=True, ncpu=12, \n",
    "                mode=\"accuracy\", \n",
    "                verbose=False,\n",
    "                scfv_or_concatenated_chains=True)\n",
    "\n",
    "seq = [\"QQVRQSPQSLTVWEGETAILNCSYEDSTFNYFPWYQQFPGEGPALLISIRSVSDKKEDGRFTIFFNKREKKLSLHITDSQPGDSATYFCAARYQGGRALIFGTGTTVSVSPGSADAAAVTLLEQNPRWRLVPRGQ\"+\n",
    "       \"ALINKERHERE\"+\n",
    "       \"QQVRQSPQSLTVWEGETAILNCSYEDSTFNYFPWYQQFPGEGPALLISIRSVSDKKEDGRFTIFFNKREKKLSLHITDSQPGDSATYFCAARYQGGRALIFGTGTTVSVSPGSADAAAVTLLEQNPRWRLVPRGQ\"+\n",
    "       \"ALINKERHERE\"+\n",
    "       \"QQVRQSPQSLTVWEGETAILNCSYEDSTFNYFPWYQQFPGEGPALLISIRSVSDKKEDGRFTIFFNKREKKLSLHITDSQPGDSATYFCAARYQGGRALIFGTGTTVSVSPGSADAAAVTLLEQNPRWRLVPRGQ\"+\n",
    "       \"ALINKERHERE\"+\n",
    "       \"QQVRQSPQSLTVWEGETAILNCSYEDSTFNYFPWYQQFPGEGPALLISIRSVSDKKEDGRFTIFFNKREKKLSLHITDSQPGDSATYFCAARYQGGRALIFGTGTTVSVSPGSADAAAVTLLEQNPRWRLVPRGQ\"]\n",
    "\n",
    "# seq = [\"GGSGGGGSQSALTQPASVSASPGQSITISCTGTSSDVGAYDWVSWYQQHPGKAPKLLIFDVNNRPSGVSHRFSGSKSGNTASLTISGLQAEDEADYYCASATLLDTYVFGTGTKVTVLGDQEPKSSDKTH\"]\n",
    "\n",
    "results =  model.number(seq)\n",
    "\n",
    "for i in range(len(results)):\n",
    "    print(\"\\n\", results[i][1]['query_name'], \"\\n\", results[i][1]['chain_type'], results[i][1]['score'], \"\\n\", results[i][0])\n"
   ]
  },
  {
   "cell_type": "code",
   "execution_count": null,
   "metadata": {},
   "outputs": [
    {
     "name": "stdout",
     "output_type": "stream",
     "text": [
      "Using device CPU with 12 CPUs\n",
      "323\n",
      "Number of high scoring chains found:  2 \n",
      " Indices:  [18, 103] \n",
      " Values:  [42.5, 36.793]\n",
      "QLKMEANIDRIKVSKAAADLMAYCEAHAKEDPLLTPVPASQNPFREKKFFCDVQLVESGGGLVQPGGSRKLSCSASGFAFSSFGMHWVRQAPEKGLEWVAYISSGSGTIYYADTVKGRFTISRDDPKNTLFLQMTSLRSEDTAMYYCVRSIYYYGSSPFD\n",
      "SSGGGGSGGGGSGGGGSDIVMTQATSSVPVTPGESVSISCRSSKSLLHSNGNTYLYWFLQRPGQSPQLLIYRMSNLASGVPERFSGSGSGTAFTLTISRLEAEDVGVYYCMQHLEYPLTFGAGTKLELKGSLEVLFQ\n",
      "7VH0 split into multiple seqs\n",
      "\n",
      " 7VH0_1 \n",
      " H 15.531 \n",
      " [((1, ' '), '-'), ((2, ' '), '-'), ((3, ' '), '-'), ((4, ' '), '-'), ((5, ' '), '-'), ((6, ' '), '-'), ((7, ' '), '-'), ((8, ' '), '-'), ((9, ' '), '-'), ((10, ' '), '-'), ((11, ' '), '-'), ((12, ' '), '-'), ((13, ' '), 'Q'), ((14, ' '), 'N'), ((15, ' '), 'P'), ((16, ' '), 'F'), ((17, ' '), 'R'), ((18, ' '), 'E'), ((19, ' '), 'K'), ((20, ' '), 'K'), ((21, ' '), 'F'), ((22, ' '), 'F'), ((23, ' '), 'C'), ((24, ' '), 'D'), ((25, ' '), 'V'), ((26, ' '), 'Q'), ((27, ' '), 'L'), ((28, ' '), 'V'), ((29, ' '), 'E'), ((30, ' '), 'S'), ((31, ' '), '-'), ((32, ' '), '-'), ((33, ' '), '-'), ((34, ' '), '-'), ((35, ' '), 'G'), ((36, ' '), 'G'), ((37, ' '), 'G'), ((38, ' '), 'L'), ((39, ' '), 'V'), ((40, ' '), '-'), ((41, ' '), '-'), ((42, ' '), '-'), ((43, ' '), '-'), ((44, ' '), '-'), ((45, ' '), 'Q'), ((46, ' '), 'P'), ((47, ' '), 'G'), ((48, ' '), 'G'), ((49, ' '), 'S'), ((50, ' '), 'R'), ((51, ' '), 'K'), ((52, ' '), 'L'), ((53, ' '), 'S'), ((54, ' '), 'C'), ((55, ' '), 'S'), ((56, ' '), 'A'), ((57, ' '), 'S'), ((58, ' '), 'G'), ((59, ' '), 'F'), ((60, ' '), '-'), ((61, ' '), '-'), ((62, ' '), '-'), ((63, ' '), 'A'), ((64, ' '), 'F'), ((65, ' '), 'S'), ((66, ' '), 'S'), ((67, ' '), 'F'), ((68, ' '), 'G'), ((68, 'A'), 'M'), ((69, ' '), 'H'), ((70, ' '), 'W'), ((71, ' '), 'V'), ((72, ' '), 'R'), ((73, ' '), 'Q'), ((74, ' '), 'A'), ((75, ' '), 'P'), ((76, ' '), 'E'), ((77, ' '), 'K'), ((78, ' '), 'G'), ((79, ' '), 'L'), ((80, ' '), 'E'), ((80, 'A'), 'W'), ((80, 'B'), 'V'), ((80, 'C'), 'A'), ((81, ' '), 'Y'), ((82, ' '), 'I'), ((83, ' '), 'S'), ((84, ' '), 'S'), ((85, ' '), 'G'), ((86, ' '), 'S'), ((87, ' '), 'G'), ((88, ' '), 'T'), ((89, ' '), 'I'), ((90, ' '), 'Y'), ((91, ' '), 'Y'), ((92, ' '), 'A'), ((93, ' '), 'D'), ((94, ' '), 'T'), ((95, ' '), 'V'), ((96, ' '), 'K'), ((97, ' '), 'G'), ((98, ' '), 'R'), ((99, ' '), 'F'), ((100, ' '), 'T'), ((101, ' '), 'I'), ((102, ' '), 'S'), ((103, ' '), 'R'), ((104, ' '), 'D'), ((105, ' '), 'D'), ((106, ' '), 'P'), ((107, ' '), 'K'), ((108, ' '), 'N'), ((109, ' '), 'T'), ((110, ' '), 'L'), ((111, ' '), 'F'), ((112, ' '), 'L'), ((113, ' '), 'Q'), ((114, ' '), 'M'), ((115, ' '), 'T'), ((116, ' '), 'S'), ((117, ' '), 'L'), ((118, ' '), 'R'), ((119, ' '), 'S'), ((120, ' '), 'E'), ((121, ' '), 'D'), ((122, ' '), 'T'), ((123, ' '), 'A'), ((124, ' '), 'M'), ((125, ' '), 'Y'), ((126, ' '), 'Y'), ((127, ' '), 'C'), ((128, ' '), 'V')] \n",
      "\n",
      "\n",
      "\n",
      " 7VH0_2 \n",
      " K 29.289 \n",
      " [((1, ' '), 'D'), ((2, ' '), 'I'), ((3, ' '), 'V'), ((4, ' '), 'M'), ((5, ' '), 'T'), ((6, ' '), 'Q'), ((7, ' '), 'A'), ((8, ' '), 'T'), ((9, ' '), 'S'), ((10, ' '), 'S'), ((11, ' '), 'V'), ((12, ' '), 'P'), ((13, ' '), 'V'), ((14, ' '), 'T'), ((15, ' '), 'P'), ((16, ' '), 'G'), ((17, ' '), 'E'), ((18, ' '), 'S'), ((19, ' '), 'V'), ((20, ' '), 'S'), ((21, ' '), 'I'), ((22, ' '), 'S'), ((23, ' '), 'C'), ((24, ' '), 'R'), ((25, ' '), 'S'), ((26, ' '), 'S'), ((27, ' '), 'K'), ((28, ' '), 'S'), ((29, ' '), 'L'), ((30, ' '), 'L'), ((31, ' '), 'H'), ((32, ' '), 'S'), ((33, ' '), '-'), ((34, ' '), 'N'), ((35, ' '), 'G'), ((36, ' '), 'N'), ((37, ' '), 'T'), ((38, ' '), 'Y'), ((39, ' '), 'L'), ((40, ' '), 'Y'), ((41, ' '), 'W'), ((42, ' '), 'F'), ((43, ' '), 'L'), ((44, ' '), 'Q'), ((45, ' '), 'R'), ((46, ' '), 'P'), ((47, ' '), 'G'), ((48, ' '), 'Q'), ((49, ' '), 'S'), ((50, ' '), 'P'), ((51, ' '), 'Q'), ((52, ' '), 'L'), ((53, ' '), 'L'), ((54, ' '), 'I'), ((55, ' '), 'Y'), ((56, ' '), 'R'), ((57, ' '), 'M'), ((58, ' '), '-'), ((59, ' '), '-'), ((60, ' '), '-'), ((61, ' '), '-'), ((62, ' '), '-'), ((63, ' '), '-'), ((64, ' '), '-'), ((65, ' '), 'S'), ((66, ' '), 'N'), ((67, ' '), 'L'), ((68, ' '), 'A'), ((69, ' '), 'S'), ((70, ' '), 'G'), ((71, ' '), 'V'), ((72, ' '), 'P'), ((73, ' '), '-'), ((74, ' '), 'E'), ((75, ' '), 'R'), ((76, ' '), 'F'), ((77, ' '), 'S'), ((78, ' '), 'G'), ((79, ' '), 'S'), ((80, ' '), 'G'), ((81, ' '), '-'), ((82, ' '), '-'), ((83, ' '), 'S'), ((84, ' '), 'G'), ((85, ' '), 'T'), ((86, ' '), 'A'), ((87, ' '), 'F'), ((88, ' '), 'T'), ((89, ' '), 'L'), ((90, ' '), 'T'), ((91, ' '), 'I'), ((92, ' '), 'S'), ((93, ' '), 'R'), ((94, ' '), 'L'), ((95, ' '), 'E'), ((96, ' '), 'A'), ((97, ' '), 'E'), ((98, ' '), 'D'), ((99, ' '), 'V'), ((100, ' '), 'G'), ((101, ' '), 'V'), ((102, ' '), 'Y'), ((103, ' '), 'Y'), ((104, ' '), 'C'), ((105, ' '), 'M'), ((106, ' '), 'Q'), ((107, ' '), 'H'), ((108, ' '), 'L'), ((109, ' '), 'E'), ((110, ' '), '-'), ((111, ' '), '-'), ((112, ' '), '-'), ((113, ' '), '-'), ((114, ' '), 'Y'), ((115, ' '), 'P'), ((116, ' '), 'L'), ((117, ' '), 'T'), ((118, ' '), 'F'), ((119, ' '), 'G'), ((120, ' '), 'A'), ((121, ' '), 'G'), ((122, ' '), 'T'), ((123, ' '), 'K'), ((124, ' '), 'L'), ((125, ' '), 'E'), ((126, ' '), 'L'), ((127, ' '), 'K'), ((128, ' '), '-')] \n",
      "\n",
      "\n"
     ]
    }
   ],
   "source": [
    "from anarcii import Anarcii\n",
    "\n",
    "model = Anarcii(seq_type=\"antibody\", batch_size=128, cpu=True, ncpu=12, \n",
    "                mode=\"accuracy\", \n",
    "                verbose=False,\n",
    "                scfv_or_concatenated_chains=True)\n",
    "\n",
    "seqs = [#(\"pdb1\", \"QVQLVQSGAEVKKPGSSVKVSCTSSEVTFSSFAISWVRQAPGQGLEWLGGISPMFGTPNYAQKFQGRVTITADQSTRTAYMDLRSLRSEDTAVYYCARSPSYICSGGTCVFDHWGQGTLVTVSSGGGGSGGGGSGGGGIQPGLTQPPSVSKGLRQTATLTCTGNSNNVGNQGAAWLQQHQGHPPKLLSYRNNDRPSGISERFSASRSGNTASLTITGLQPEDEADYYCSTWDSSLSAVVFGGGTKLTVLGQPKAAPSAAAEQKLISEEDLNGAAHHHHHH\"),\n",
    "       #(\"pdb2\", \"QVQLVQSGAEVKKPGSSVKVSCKASGGTFSSYAISWVRQAPGQGLEWMGGIIPIFGTANYAQKFQGRVTITADESTSTAYMELSSLRSEDTAVYYCAREPDYYDSSGYYPIDAFDIWGQGTTVTVSSGGGGSGGGGSGGGGSQSALTQPASVSASPGQSITISCTGTSSDVGAYDWVSWYQQHPGKAPKLLIFDVNNRPSGVSHRFSGSKSGNTASLTISGLQAEDEADYYCASATLLDTYVFGTGTKVTVLGDQEPKSSDKTH\"),\n",
    "       #(\"6wzn\", \"GAHADIQMTQSPSFLSASVGDRVTITCRASQGISSWLAWYQQKPGKAPKLLIYAASSLQSGVPSRFSGSGSGTDFTLTISSLQPEDFATYYCQQANSFPLTFGGGTRLEIKSGGSTITSVIKPEMKIKLRMEGAVNGHKFVIEGEGIGKPYEGTQTLDLTVEEGAPLPFSYDILTPAFQYGNRAFTKYPEDIPDYFKQAFPEGYSWERSMTYEDQGICIATSDITMEGDCFFYEIRFDGTNFPPNGPVMQKKTLKWEPSTEKMYVEDGVLKGDVEMALLLEGGGHYRCDFKTTYKAKKDVRLPDAHEVDHRIEILSHDKDYNKVRLYEHAEARYSGGGSGSSSGTQVQLVESGGGLVQPGGSLRLSCAASGLTFSNYAMNWVRQAPGKGLEWVSSISSRGDTTYYADSVKGRFTISRDNSKSTLYLQMNSLRAEDAAVYYCARLRNSGGMDVWGPGTTVTVSSAS\"),\n",
    "       #(\"8kgz\", \"MSDKIIHLTDDSFDTDVLKADGAILVDFWAEWCGPCKMIAPILDEIADEYQGKLTVAKLNIDQNPGTAPKYGIRGIPTLLLFKNGEVAATKVGALSKGQLKEFLDANLAGSGSGHMHHHHHHSSGLVPRGSGMKETAAAKFERQHMDSPDLGTDDDDKAMGQVQLQESGPSLVKPSQTLSLTCTVSGFSITSDGVLWVRQAPGKALEWVGAIYQNGATYYNPALKSRLSITRDTSKSQVSLSLSSVTTEDTAVYYCARDTDYDGMDVWGRGLLVTVSSGGGGSGGGGSGGGGSQAVLTQPSSVSGSLGQSVSITCSGSSSNVGYGNYVSWFQQVPGSAPKLLIYGATSRASGVPDRFSGSRSGNTATLTISSLQAEDEADYYCASGDSGSSLVFGSGTRLTVLGLEHHHHHH\"),\n",
    "       \n",
    "       # Struggles with 7VH0 - beginning of the sequence seems to confuse it...\n",
    "       (\"7VH0\", \"ASNNTASIAQARKLVQQLKMEANIDRIKVSKAAADLMAYCEAHAKEDPLLTPVPASQNPFREKKFFCDVQLVESGGGLVQPGGSRKLSCSASGFAFSSFGMHWVRQAPEKGLEWVAYISSGSGTIYYADTVKGRFTISRDDPKNTLFLQMTSLRSEDTAMYYCVRSIYYYGSSPFDFWGQGTTLTVSSGGGGSGGGGSGGGGSDIVMTQATSSVPVTPGESVSISCRSSKSLLHSNGNTYLYWFLQRPGQSPQLLIYRMSNLASGVPERFSGSGSGTAFTLTISRLEAEDVGVYYCMQHLEYPLTFGAGTKLELKGSLEVLFQ\")]\n",
    "\n",
    "for seq in seqs:\n",
    "       print(len(seq[1]))\n",
    "       results =  model.number([seq])\n",
    "       for i in range(len(results)):\n",
    "              print(\"\\n\", results[i][1]['query_name'], \"\\n\", results[i][1]['chain_type'], results[i][1]['score'], \"\\n\", results[i][0], \"\\n\\n\")\n"
   ]
  },
  {
   "cell_type": "code",
   "execution_count": null,
   "metadata": {},
   "outputs": [],
   "source": [
    "from anarcii import Anarcii\n",
    "\n",
    "model = Anarcii(seq_type=\"antibody\", batch_size=128, cpu=True, ncpu=12, \n",
    "                mode=\"accuracy\", \n",
    "                verbose=False,\n",
    "                scfv_or_concatenated_chains=True)\n",
    "\n",
    "seqs = [\"APTFVSVAPGQTARITCGEESLGSRSVIWYQQRPGQAPSLIIYNNNDRPSGIPDRFSGSPGSTFGTTATLTITSVEAGDEADYYCHIWDSRRPTNWVFGEGTTLIVLSQPKAAPSVTLFPPSSEELQANKATLVCLISDFYPGAVTVAWKADSSPVKAGVETTTPSKQSNNKYAASSYLSLTPEQWKSHKSYSCQVTHEGSTVEKTVAPTECS\",\n",
    "        \"EVQLQQSGPELVKPGASVKISCKASGYTFTDYYMNWVKQSHGKSLEWIGNINPNNGGTSYNQKFKGKATLTVDKSSTTAYMELRSLTSEDSAVYYCTRSPVRPYYFDYWGQGTTLTVXXXXXXXXXXXXXXXXXDIVMTQSHKFMSTSVGDRVSITCKASQDVSTAVAWYQQKPGQSPKLLIYSASYRYTGVPDRFTGSGSGTDFTFTISSVQAEDLAVYYCQQHYSIPRTFGGGTKLEI\"]\n",
    "\n",
    "for seq in seqs:\n",
    "       print(len(seq))\n",
    "       results =  model.number([seq])\n",
    "\n",
    "       for i in range(len(results)):\n",
    "              print(\"\\n\", results[i][1]['query_name'], \"\\n\", results[i][1]['chain_type'], results[i][1]['score'], \"\\n\", results[i][0], \"\\n\\n\")"
   ]
  }
 ],
 "metadata": {
  "kernelspec": {
   "display_name": "mobydick",
   "language": "python",
   "name": "python3"
  },
  "language_info": {
   "codemirror_mode": {
    "name": "ipython",
    "version": 3
   },
   "file_extension": ".py",
   "mimetype": "text/x-python",
   "name": "python",
   "nbconvert_exporter": "python",
   "pygments_lexer": "ipython3",
   "version": "3.13.0"
  }
 },
 "nbformat": 4,
 "nbformat_minor": 2
}
