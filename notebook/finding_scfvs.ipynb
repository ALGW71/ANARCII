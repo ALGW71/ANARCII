{
 "cells": [
  {
   "cell_type": "code",
   "execution_count": 1,
   "metadata": {},
   "outputs": [
    {
     "name": "stdout",
     "output_type": "stream",
     "text": [
      "Using device CPU with 12 CPUs\n",
      "\n",
      " seq0 \n",
      " H 20.301 \n",
      " [((1, ' '), '-'), ((2, ' '), 'Q'), ((3, ' '), 'Q'), ((4, ' '), 'V'), ((5, ' '), 'R'), ((6, ' '), 'Q'), ((7, ' '), 'S'), ((8, ' '), 'P'), ((9, ' '), 'Q'), ((10, ' '), 'S'), ((11, ' '), 'L'), ((12, ' '), 'T'), ((13, ' '), 'V'), ((14, ' '), 'W'), ((15, ' '), 'E'), ((16, ' '), 'G'), ((17, ' '), 'E'), ((18, ' '), 'T'), ((19, ' '), 'A'), ((20, ' '), 'I'), ((21, ' '), 'L'), ((22, ' '), 'N'), ((23, ' '), 'C'), ((24, ' '), 'S'), ((25, ' '), 'Y'), ((26, ' '), 'E'), ((27, ' '), 'D'), ((28, ' '), 'S'), ((29, ' '), 'T'), ((30, ' '), '-'), ((31, ' '), '-'), ((32, ' '), '-'), ((33, ' '), '-'), ((34, ' '), '-'), ((35, ' '), '-'), ((36, ' '), 'F'), ((37, ' '), 'N'), ((38, ' '), 'Y'), ((39, ' '), 'F'), ((40, ' '), 'P'), ((41, ' '), 'W'), ((42, ' '), 'Y'), ((43, ' '), 'Q'), ((44, ' '), 'Q'), ((45, ' '), 'F'), ((46, ' '), 'P'), ((47, ' '), 'G'), ((48, ' '), 'E'), ((49, ' '), 'G'), ((50, ' '), 'P'), ((51, ' '), 'A'), ((52, ' '), 'L'), ((53, ' '), 'L'), ((54, ' '), 'I'), ((55, ' '), 'S'), ((56, ' '), 'I'), ((57, ' '), 'R'), ((58, ' '), 'S'), ((59, ' '), 'V'), ((60, ' '), 'S'), ((60, 'A'), 'D'), ((60, 'B'), 'K'), ((61, 'B'), 'K'), ((61, 'A'), 'E'), ((61, ' '), 'D'), ((62, ' '), 'G'), ((63, ' '), 'R'), ((64, ' '), 'F'), ((65, ' '), 'T'), ((66, ' '), 'I'), ((67, ' '), 'F'), ((68, ' '), 'F'), ((69, ' '), 'N'), ((70, ' '), 'K'), ((71, ' '), 'R'), ((72, ' '), 'E'), ((73, ' '), 'K'), ((74, ' '), 'K'), ((75, ' '), 'L'), ((76, ' '), 'S'), ((77, ' '), 'L'), ((78, ' '), 'H'), ((79, ' '), 'I'), ((80, ' '), 'T'), ((81, ' '), 'D'), ((82, ' '), 'S'), ((83, ' '), 'Q'), ((84, ' '), 'P'), ((85, ' '), '-'), ((86, ' '), '-'), ((87, ' '), '-'), ((88, ' '), '-'), ((89, ' '), '-'), ((90, ' '), '-'), ((91, ' '), '-'), ((92, ' '), '-'), ((93, ' '), '-'), ((94, ' '), '-'), ((95, ' '), '-'), ((96, ' '), '-'), ((97, ' '), 'G'), ((98, ' '), 'D'), ((99, ' '), 'S'), ((100, ' '), 'A'), ((101, ' '), 'T'), ((102, ' '), 'Y'), ((103, ' '), 'F'), ((104, ' '), 'C'), ((105, ' '), 'A'), ((106, ' '), 'A'), ((107, ' '), 'R'), ((108, ' '), 'Y'), ((109, ' '), 'Q'), ((110, ' '), 'G'), ((111, ' '), '-'), ((112, ' '), '-'), ((113, ' '), 'G'), ((114, ' '), 'R'), ((115, ' '), 'A'), ((116, ' '), 'L'), ((117, ' '), 'I'), ((118, ' '), 'F'), ((119, ' '), 'G'), ((120, ' '), 'T'), ((121, ' '), 'G'), ((122, ' '), 'T'), ((123, ' '), 'T'), ((124, ' '), 'V'), ((125, ' '), 'S'), ((126, ' '), 'V'), ((127, ' '), 'S'), ((128, ' '), 'P')]\n"
     ]
    }
   ],
   "source": [
    "from anarcii import Anarcii\n",
    "\n",
    "model = Anarcii(seq_type=\"antibody\", batch_size=128, cpu=True, ncpu=12, \n",
    "                mode=\"accuracy\", \n",
    "                verbose=False,\n",
    "                scfv_or_concatenated_chains=False)\n",
    "\n",
    "seq = [\"QQVRQSPQSLTVWEGETAILNCSYEDSTFNYFPWYQQFPGEGPALLISIRSVSDKKEDGRFTIFFNKREKKLSLHITDSQPGDSATYFCAARYQGGRALIFGTGTTVSVSPGSADAAAVTLLEQNPRWRLVPRGQ\"+\n",
    "       \"ALINKERHERE\"+\n",
    "       \"QQVRQSPQSLTVWEGETAILNCSYEDSTFNYFPWYQQFPGEGPALLISIRSVSDKKEDGRFTIFFNKREKKLSLHITDSQPGDSATYFCAARYQGGRALIFGTGTTVSVSPGSADAAAVTLLEQNPRWRLVPRGQ\"+\n",
    "       \"ALINKERHERE\"+\n",
    "       \"QQVRQSPQSLTVWEGETAILNCSYEDSTFNYFPWYQQFPGEGPALLISIRSVSDKKEDGRFTIFFNKREKKLSLHITDSQPGDSATYFCAARYQGGRALIFGTGTTVSVSPGSADAAAVTLLEQNPRWRLVPRGQ\"+\n",
    "       \"ALINKERHERE\"+\n",
    "       \"QQVRQSPQSLTVWEGETAILNCSYEDSTFNYFPWYQQFPGEGPALLISIRSVSDKKEDGRFTIFFNKREKKLSLHITDSQPGDSATYFCAARYQGGRALIFGTGTTVSVSPGSADAAAVTLLEQNPRWRLVPRGQ\"]\n",
    "\n",
    "# seq = [\"GGSGGGGSQSALTQPASVSASPGQSITISCTGTSSDVGAYDWVSWYQQHPGKAPKLLIFDVNNRPSGVSHRFSGSKSGNTASLTISGLQAEDEADYYCASATLLDTYVFGTGTKVTVLGDQEPKSSDKTH\"]\n",
    "\n",
    "results =  model.number(seq)\n",
    "\n",
    "for i in range(len(results)):\n",
    "    print(\"\\n\", results[i][1]['query_name'], \"\\n\", results[i][1]['chain_type'], results[i][1]['score'], \"\\n\", results[i][0])\n"
   ]
  },
  {
   "cell_type": "code",
   "execution_count": 3,
   "metadata": {},
   "outputs": [
    {
     "name": "stdout",
     "output_type": "stream",
     "text": [
      "Using device CPU with 12 CPUs\n",
      "280\n",
      "\n",
      " seq0 \n",
      " H 29.934 \n",
      " [((1, ' '), 'Q'), ((2, ' '), 'V'), ((3, ' '), 'Q'), ((4, ' '), 'L'), ((5, ' '), 'V'), ((6, ' '), 'Q'), ((7, ' '), 'S'), ((8, ' '), 'G'), ((9, ' '), 'A'), ((10, ' '), '-'), ((11, ' '), 'E'), ((12, ' '), 'V'), ((13, ' '), 'K'), ((14, ' '), 'K'), ((15, ' '), 'P'), ((16, ' '), 'G'), ((17, ' '), 'S'), ((18, ' '), 'S'), ((19, ' '), 'V'), ((20, ' '), 'K'), ((21, ' '), 'V'), ((22, ' '), 'S'), ((23, ' '), 'C'), ((24, ' '), 'T'), ((25, ' '), 'S'), ((26, ' '), 'S'), ((27, ' '), 'E'), ((28, ' '), 'V'), ((29, ' '), 'T'), ((30, ' '), 'F'), ((31, ' '), '-'), ((32, ' '), '-'), ((33, ' '), '-'), ((34, ' '), '-'), ((35, ' '), 'S'), ((36, ' '), 'S'), ((37, ' '), 'F'), ((38, ' '), 'A'), ((39, ' '), 'I'), ((40, ' '), 'S'), ((41, ' '), 'W'), ((42, ' '), 'V'), ((43, ' '), 'R'), ((44, ' '), 'Q'), ((45, ' '), 'A'), ((46, ' '), 'P'), ((47, ' '), 'G'), ((48, ' '), 'Q'), ((49, ' '), 'G'), ((50, ' '), 'L'), ((51, ' '), 'E'), ((52, ' '), 'W'), ((53, ' '), 'L'), ((54, ' '), 'G'), ((55, ' '), 'G'), ((56, ' '), 'I'), ((57, ' '), 'S'), ((58, ' '), 'P'), ((59, ' '), 'M'), ((60, ' '), '-'), ((61, ' '), '-'), ((62, ' '), 'F'), ((63, ' '), 'G'), ((64, ' '), 'T'), ((65, ' '), 'P'), ((66, ' '), 'N'), ((67, ' '), 'Y'), ((68, ' '), 'A'), ((69, ' '), 'Q'), ((70, ' '), 'K'), ((71, ' '), 'F'), ((72, ' '), 'Q'), ((73, ' '), '-'), ((74, ' '), 'G'), ((75, ' '), 'R'), ((76, ' '), 'V'), ((77, ' '), 'T'), ((78, ' '), 'I'), ((79, ' '), 'T'), ((80, ' '), 'A'), ((81, ' '), 'D'), ((82, ' '), 'Q'), ((83, ' '), 'S'), ((84, ' '), 'T'), ((85, ' '), 'R'), ((86, ' '), 'T'), ((87, ' '), 'A'), ((88, ' '), 'Y'), ((89, ' '), 'M'), ((90, ' '), 'D'), ((91, ' '), 'L'), ((92, ' '), 'R'), ((93, ' '), 'S'), ((94, ' '), 'L'), ((95, ' '), 'R'), ((96, ' '), 'S'), ((97, ' '), 'E'), ((98, ' '), 'D'), ((99, ' '), 'T'), ((100, ' '), 'A'), ((101, ' '), 'V'), ((102, ' '), 'Y'), ((103, ' '), 'Y'), ((104, ' '), 'C'), ((105, ' '), 'A'), ((106, ' '), 'R'), ((107, ' '), 'S'), ((108, ' '), 'P'), ((109, ' '), 'S'), ((110, ' '), 'Y'), ((111, ' '), 'I'), ((111, 'A'), 'C'), ((111, 'B'), 'S'), ((112, 'B'), 'G'), ((112, 'A'), 'G'), ((112, ' '), 'T'), ((113, ' '), 'C'), ((114, ' '), 'V'), ((115, ' '), 'F'), ((116, ' '), 'D'), ((117, ' '), 'H'), ((118, ' '), 'W'), ((119, ' '), 'G'), ((120, ' '), 'Q'), ((121, ' '), 'G'), ((122, ' '), 'T'), ((123, ' '), 'L'), ((124, ' '), 'V'), ((125, ' '), 'T'), ((126, ' '), 'V'), ((127, ' '), 'S'), ((128, ' '), 'S')] \n",
      "\n",
      "\n",
      "264\n",
      "\n",
      " seq0 \n",
      " H 29.409 \n",
      " [((1, ' '), 'Q'), ((2, ' '), 'V'), ((3, ' '), 'Q'), ((4, ' '), 'L'), ((5, ' '), 'V'), ((6, ' '), 'Q'), ((7, ' '), 'S'), ((8, ' '), 'G'), ((9, ' '), 'A'), ((10, ' '), '-'), ((11, ' '), 'E'), ((12, ' '), 'V'), ((13, ' '), 'K'), ((14, ' '), 'K'), ((15, ' '), 'P'), ((16, ' '), 'G'), ((17, ' '), 'S'), ((18, ' '), 'S'), ((19, ' '), 'V'), ((20, ' '), 'K'), ((21, ' '), 'V'), ((22, ' '), 'S'), ((23, ' '), 'C'), ((24, ' '), 'K'), ((25, ' '), 'A'), ((26, ' '), 'S'), ((27, ' '), 'G'), ((28, ' '), 'G'), ((29, ' '), 'T'), ((30, ' '), 'F'), ((31, ' '), '-'), ((32, ' '), '-'), ((33, ' '), '-'), ((34, ' '), '-'), ((35, ' '), 'S'), ((36, ' '), 'S'), ((37, ' '), 'Y'), ((38, ' '), 'A'), ((39, ' '), 'I'), ((40, ' '), 'S'), ((41, ' '), 'W'), ((42, ' '), 'V'), ((43, ' '), 'R'), ((44, ' '), 'Q'), ((45, ' '), 'A'), ((46, ' '), 'P'), ((47, ' '), 'G'), ((48, ' '), 'Q'), ((49, ' '), 'G'), ((50, ' '), 'L'), ((51, ' '), 'E'), ((52, ' '), 'W'), ((53, ' '), 'M'), ((54, ' '), 'G'), ((55, ' '), 'G'), ((56, ' '), 'I'), ((57, ' '), 'I'), ((58, ' '), 'P'), ((59, ' '), 'I'), ((60, ' '), '-'), ((61, ' '), '-'), ((62, ' '), 'F'), ((63, ' '), 'G'), ((64, ' '), 'T'), ((65, ' '), 'A'), ((66, ' '), 'N'), ((67, ' '), 'Y'), ((68, ' '), 'A'), ((69, ' '), 'Q'), ((70, ' '), 'K'), ((71, ' '), 'F'), ((72, ' '), 'Q'), ((73, ' '), '-'), ((74, ' '), 'G'), ((75, ' '), 'R'), ((76, ' '), 'V'), ((77, ' '), 'T'), ((78, ' '), 'I'), ((79, ' '), 'T'), ((80, ' '), 'A'), ((81, ' '), 'D'), ((82, ' '), 'E'), ((83, ' '), 'S'), ((84, ' '), 'T'), ((85, ' '), 'S'), ((86, ' '), 'T'), ((87, ' '), 'A'), ((88, ' '), 'Y'), ((89, ' '), 'M'), ((90, ' '), 'E'), ((91, ' '), 'L'), ((92, ' '), 'S'), ((93, ' '), 'S'), ((94, ' '), 'L'), ((95, ' '), 'R'), ((96, ' '), 'S'), ((97, ' '), 'E'), ((98, ' '), 'D'), ((99, ' '), 'T'), ((100, ' '), 'A'), ((101, ' '), 'V'), ((102, ' '), 'Y'), ((103, ' '), 'Y'), ((104, ' '), 'C'), ((105, ' '), 'A'), ((106, ' '), 'R'), ((107, ' '), 'E'), ((108, ' '), 'P'), ((109, ' '), 'D'), ((110, ' '), 'Y'), ((111, ' '), 'Y'), ((111, 'A'), 'D'), ((111, 'B'), 'S'), ((111, 'C'), 'S'), ((112, 'D'), 'G'), ((112, 'C'), 'Y'), ((112, 'B'), 'Y'), ((112, 'A'), 'P'), ((112, ' '), 'I'), ((113, ' '), 'D'), ((114, ' '), 'A'), ((115, ' '), 'F'), ((116, ' '), 'D'), ((117, ' '), 'I'), ((118, ' '), 'W'), ((119, ' '), 'G'), ((120, ' '), 'Q'), ((121, ' '), 'G'), ((122, ' '), 'T'), ((123, ' '), 'T'), ((124, ' '), 'V'), ((125, ' '), 'T'), ((126, ' '), 'V'), ((127, ' '), '-'), ((128, ' '), '-')] \n",
      "\n",
      "\n"
     ]
    }
   ],
   "source": [
    "from anarcii import Anarcii\n",
    "\n",
    "model = Anarcii(seq_type=\"antibody\", batch_size=128, cpu=True, ncpu=12, \n",
    "                mode=\"accuracy\", \n",
    "                verbose=False,\n",
    "                scfv_or_concatenated_chains=False)\n",
    "\n",
    "seqs = [\"QVQLVQSGAEVKKPGSSVKVSCTSSEVTFSSFAISWVRQAPGQGLEWLGGISPMFGTPNYAQKFQGRVTITADQSTRTAYMDLRSLRSEDTAVYYCARSPSYICSGGTCVFDHWGQGTLVTVSSGGGGSGGGGSGGGGIQPGLTQPPSVSKGLRQTATLTCTGNSNNVGNQGAAWLQQHQGHPPKLLSYRNNDRPSGISERFSASRSGNTASLTITGLQPEDEADYYCSTWDSSLSAVVFGGGTKLTVLGQPKAAPSAAAEQKLISEEDLNGAAHHHHHH\",\n",
    "       \"QVQLVQSGAEVKKPGSSVKVSCKASGGTFSSYAISWVRQAPGQGLEWMGGIIPIFGTANYAQKFQGRVTITADESTSTAYMELSSLRSEDTAVYYCAREPDYYDSSGYYPIDAFDIWGQGTTVTVSSGGGGSGGGGSGGGGSQSALTQPASVSASPGQSITISCTGTSSDVGAYDWVSWYQQHPGKAPKLLIFDVNNRPSGVSHRFSGSKSGNTASLTISGLQAEDEADYYCASATLLDTYVFGTGTKVTVLGDQEPKSSDKTH\"]\n",
    "\n",
    "for seq in seqs:\n",
    "       print(len(seq))\n",
    "       results =  model.number([seq])\n",
    "       for i in range(len(results)):\n",
    "              print(\"\\n\", results[i][1]['query_name'], \"\\n\", results[i][1]['chain_type'], results[i][1]['score'], \"\\n\", results[i][0], \"\\n\\n\")\n"
   ]
  }
 ],
 "metadata": {
  "kernelspec": {
   "display_name": "mobydick",
   "language": "python",
   "name": "python3"
  },
  "language_info": {
   "codemirror_mode": {
    "name": "ipython",
    "version": 3
   },
   "file_extension": ".py",
   "mimetype": "text/x-python",
   "name": "python",
   "nbconvert_exporter": "python",
   "pygments_lexer": "ipython3",
   "version": "3.13.0"
  }
 },
 "nbformat": 4,
 "nbformat_minor": 2
}
