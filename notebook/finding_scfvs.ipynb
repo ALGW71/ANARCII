{
 "cells": [
  {
   "cell_type": "code",
   "execution_count": null,
   "metadata": {},
   "outputs": [
    {
     "name": "stdout",
     "output_type": "stream",
     "text": [
      "Using device CPU with 12 CPUs\n",
      "([((1, ' '), '-'), ((2, ' '), 'Q'), ((3, ' '), 'Q'), ((4, ' '), 'V'), ((5, ' '), 'R'), ((6, ' '), 'Q'), ((7, ' '), 'S'), ((8, ' '), 'P'), ((9, ' '), 'Q'), ((10, ' '), 'S'), ((11, ' '), 'L'), ((12, ' '), 'T'), ((13, ' '), 'V'), ((14, ' '), 'W'), ((15, ' '), 'E'), ((16, ' '), 'G'), ((17, ' '), 'E'), ((18, ' '), 'T'), ((19, ' '), 'A'), ((20, ' '), 'I'), ((21, ' '), 'L'), ((22, ' '), 'N'), ((23, ' '), 'C'), ((24, ' '), 'S'), ((25, ' '), 'Y'), ((26, ' '), 'E'), ((27, ' '), 'D'), ((28, ' '), 'S'), ((29, ' '), 'T'), ((30, ' '), '-'), ((31, ' '), '-'), ((32, ' '), '-'), ((33, ' '), '-'), ((34, ' '), '-'), ((35, ' '), '-'), ((36, ' '), 'F'), ((37, ' '), 'N'), ((38, ' '), 'Y'), ((39, ' '), 'F'), ((40, ' '), 'P'), ((41, ' '), 'W'), ((42, ' '), 'Y'), ((43, ' '), 'Q'), ((44, ' '), 'Q'), ((45, ' '), 'F'), ((46, ' '), 'P'), ((47, ' '), 'G'), ((48, ' '), 'E'), ((49, ' '), 'G'), ((50, ' '), 'P'), ((51, ' '), 'A'), ((52, ' '), 'L'), ((53, ' '), 'L'), ((54, ' '), 'I'), ((55, ' '), 'S'), ((56, ' '), 'I'), ((57, ' '), 'R'), ((58, ' '), 'S'), ((59, ' '), 'V'), ((60, ' '), 'S'), ((60, 'A'), 'D'), ((60, 'B'), 'K'), ((61, 'B'), 'K'), ((61, 'A'), 'E'), ((61, ' '), 'D'), ((62, ' '), 'G'), ((63, ' '), 'R'), ((64, ' '), 'F'), ((65, ' '), 'T'), ((66, ' '), 'I'), ((67, ' '), 'F'), ((68, ' '), 'F'), ((69, ' '), 'N'), ((70, ' '), 'K'), ((71, ' '), 'R'), ((72, ' '), 'E'), ((73, ' '), 'K'), ((74, ' '), 'K'), ((75, ' '), 'L'), ((76, ' '), 'S'), ((77, ' '), 'L'), ((78, ' '), 'H'), ((79, ' '), 'I'), ((80, ' '), 'T'), ((81, ' '), 'D'), ((82, ' '), 'S'), ((83, ' '), 'Q'), ((84, ' '), 'P'), ((85, ' '), '-'), ((86, ' '), '-'), ((87, ' '), '-'), ((88, ' '), '-'), ((89, ' '), '-'), ((90, ' '), '-'), ((91, ' '), '-'), ((92, ' '), '-'), ((93, ' '), '-'), ((94, ' '), '-'), ((95, ' '), '-'), ((96, ' '), '-'), ((97, ' '), 'G'), ((98, ' '), 'D'), ((99, ' '), 'S'), ((100, ' '), 'A'), ((101, ' '), 'T'), ((102, ' '), 'Y'), ((103, ' '), 'F'), ((104, ' '), 'C'), ((105, ' '), 'A'), ((106, ' '), 'A'), ((107, ' '), 'R'), ((108, ' '), 'Y'), ((109, ' '), 'Q'), ((110, ' '), 'G'), ((111, ' '), '-'), ((112, ' '), '-'), ((113, ' '), 'G'), ((114, ' '), 'R'), ((115, ' '), 'A'), ((116, ' '), 'L'), ((117, ' '), 'I'), ((118, ' '), 'F'), ((119, ' '), 'G'), ((120, ' '), 'T'), ((121, ' '), 'G'), ((122, ' '), 'T'), ((123, ' '), 'T'), ((124, ' '), 'V'), ((125, ' '), 'S'), ((126, ' '), 'V'), ((127, ' '), 'S'), ((128, ' '), 'P')], {'chain_type': 'H', 'score': 20.281, 'query_start': 0, 'query_end': 110, 'error': None, 'query_name': 'seq0'})\n"
     ]
    }
   ],
   "source": [
    "from anarcii import Anarcii\n",
    "\n",
    "model = Anarcii(seq_type=\"antibody\", batch_size=128, cpu=True, ncpu=12, \n",
    "                mode=\"accuracy\", verbose=False)\n",
    "\n",
    "seq = [\"QQVRQSPQSLTVWEGETAILNCSYEDSTFNYFPWYQQFPGEGPALLISIRSVSDKKEDGRFTIFFNKREKKLSLHITDSQPGDSATYFCAARYQGGRALIFGTGTTVSVSPGSADAAAVTLLEQNPRWRLVPRGQ\"+\n",
    "       \"ALINKERHERE\"+\n",
    "       \"QQVRQSPQSLTVWEGETAILNCSYEDSTFNYFPWYQQFPGEGPALLISIRSVSDKKEDGRFTIFFNKREKKLSLHITDSQPGDSATYFCAARYQGGRALIFGTGTTVSVSPGSADAAAVTLLEQNPRWRLVPRGQ\"+\n",
    "       \"ALINKERHERE\"+\n",
    "       \"QQVRQSPQSLTVWEGETAILNCSYEDSTFNYFPWYQQFPGEGPALLISIRSVSDKKEDGRFTIFFNKREKKLSLHITDSQPGDSATYFCAARYQGGRALIFGTGTTVSVSPGSADAAAVTLLEQNPRWRLVPRGQ\"]\n",
    "\n",
    "results =  model.number(seq)\n",
    "\n",
    "print(results[0])"
   ]
  }
 ],
 "metadata": {
  "kernelspec": {
   "display_name": "mobydick",
   "language": "python",
   "name": "python3"
  },
  "language_info": {
   "codemirror_mode": {
    "name": "ipython",
    "version": 3
   },
   "file_extension": ".py",
   "mimetype": "text/x-python",
   "name": "python",
   "nbconvert_exporter": "python",
   "pygments_lexer": "ipython3",
   "version": "3.9.20"
  }
 },
 "nbformat": 4,
 "nbformat_minor": 2
}
