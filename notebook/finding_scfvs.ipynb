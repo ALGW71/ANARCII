{
 "cells": [
  {
   "cell_type": "code",
   "execution_count": null,
   "metadata": {},
   "outputs": [],
   "source": [
    "from anarcii import Anarcii\n",
    "\n",
    "model = Anarcii(seq_type=\"tcr\", batch_size=128, cpu=True, ncpu=12, \n",
    "                mode=\"accuracy\", \n",
    "                verbose=False,\n",
    "                scfv_or_concatenated_chains=True)\n",
    "\n",
    "seq = [\"QQVRQSPQSLTVWEGETAILNCSYEDSTFNYFPWYQQFPGEGPALLISIRSVSDKKEDGRFTIFFNKREKKLSLHITDSQPGDSATYFCAARYQGGRALIFGTGTTVSVSPGSADAAAVTLLEQNPRWRLVPRGQ\"+\n",
    "       \"ALINKERHERE\"+\n",
    "       \"QQVRQSPQSLTVWEGETAILNCSYEDSTFNYFPWYQQFPGEGPALLISIRSVSDKKEDGRFTIFFNKREKKLSLHITDSQPGDSATYFCAARYQGGRALIFGTGTTVSVSPGSADAAAVTLLEQNPRWRLVPRGQ\"+\n",
    "       \"ALINKERHERE\"+\n",
    "       \"QQVRQSPQSLTVWEGETAILNCSYEDSTFNYFPWYQQFPGEGPALLISIRSVSDKKEDGRFTIFFNKREKKLSLHITDSQPGDSATYFCAARYQGGRALIFGTGTTVSVSPGSADAAAVTLLEQNPRWRLVPRGQ\"+\n",
    "       \"ALINKERHERE\"+\n",
    "       \"QQVRQSPQSLTVWEGETAILNCSYEDSTFNYFPWYQQFPGEGPALLISIRSVSDKKEDGRFTIFFNKREKKLSLHITDSQPGDSATYFCAARYQGGRALIFGTGTTVSVSPGSADAAAVTLLEQNPRWRLVPRGQ\"]\n",
    "\n",
    "# seq = [\"GGSGGGGSQSALTQPASVSASPGQSITISCTGTSSDVGAYDWVSWYQQHPGKAPKLLIFDVNNRPSGVSHRFSGSKSGNTASLTISGLQAEDEADYYCASATLLDTYVFGTGTKVTVLGDQEPKSSDKTH\"]\n",
    "\n",
    "results =  model.number(seq)\n",
    "\n",
    "for i in range(len(results)):\n",
    "    print(\"\\n\", results[i][1]['query_name'], \"\\n\", results[i][1]['chain_type'], results[i][1]['score'], \"\\n\", results[i][0])\n"
   ]
  },
  {
   "cell_type": "code",
   "execution_count": null,
   "metadata": {},
   "outputs": [],
   "source": [
    "from anarcii import Anarcii\n",
    "\n",
    "model = Anarcii(seq_type=\"antibody\", batch_size=128, cpu=True, ncpu=12, \n",
    "                mode=\"accuracy\", \n",
    "                verbose=False,\n",
    "                scfv_or_concatenated_chains=False)\n",
    "\n",
    "seqs = [(\"pdb1\", \"QVQLVQSGAEVKKPGSSVKVSCTSSEVTFSSFAISWVRQAPGQGLEWLGGISPMFGTPNYAQKFQGRVTITADQSTRTAYMDLRSLRSEDTAVYYCARSPSYICSGGTCVFDHWGQGTLVTVSSGGGGSGGGGSGGGGIQPGLTQPPSVSKGLRQTATLTCTGNSNNVGNQGAAWLQQHQGHPPKLLSYRNNDRPSGISERFSASRSGNTASLTITGLQPEDEADYYCSTWDSSLSAVVFGGGTKLTVLGQPKAAPSAAAEQKLISEEDLNGAAHHHHHH\"),\n",
    "       (\"pdb2\", \"QVQLVQSGAEVKKPGSSVKVSCKASGGTFSSYAISWVRQAPGQGLEWMGGIIPIFGTANYAQKFQGRVTITADESTSTAYMELSSLRSEDTAVYYCAREPDYYDSSGYYPIDAFDIWGQGTTVTVSSGGGGSGGGGSGGGGSQSALTQPASVSASPGQSITISCTGTSSDVGAYDWVSWYQQHPGKAPKLLIFDVNNRPSGVSHRFSGSKSGNTASLTISGLQAEDEADYYCASATLLDTYVFGTGTKVTVLGDQEPKSSDKTH\"),\n",
    "       (\"6wzn\", \"GAHADIQMTQSPSFLSASVGDRVTITCRASQGISSWLAWYQQKPGKAPKLLIYAASSLQSGVPSRFSGSGSGTDFTLTISSLQPEDFATYYCQQANSFPLTFGGGTRLEIKSGGSTITSVIKPEMKIKLRMEGAVNGHKFVIEGEGIGKPYEGTQTLDLTVEEGAPLPFSYDILTPAFQYGNRAFTKYPEDIPDYFKQAFPEGYSWERSMTYEDQGICIATSDITMEGDCFFYEIRFDGTNFPPNGPVMQKKTLKWEPSTEKMYVEDGVLKGDVEMALLLEGGGHYRCDFKTTYKAKKDVRLPDAHEVDHRIEILSHDKDYNKVRLYEHAEARYSGGGSGSSSGTQVQLVESGGGLVQPGGSLRLSCAASGLTFSNYAMNWVRQAPGKGLEWVSSISSRGDTTYYADSVKGRFTISRDNSKSTLYLQMNSLRAEDAAVYYCARLRNSGGMDVWGPGTTVTVSSAS\"),\n",
    "       (\"8kgz\", \"MSDKIIHLTDDSFDTDVLKADGAILVDFWAEWCGPCKMIAPILDEIADEYQGKLTVAKLNIDQNPGTAPKYGIRGIPTLLLFKNGEVAATKVGALSKGQLKEFLDANLAGSGSGHMHHHHHHSSGLVPRGSGMKETAAAKFERQHMDSPDLGTDDDDKAMGQVQLQESGPSLVKPSQTLSLTCTVSGFSITSDGVLWVRQAPGKALEWVGAIYQNGATYYNPALKSRLSITRDTSKSQVSLSLSSVTTEDTAVYYCARDTDYDGMDVWGRGLLVTVSSGGGGSGGGGSGGGGSQAVLTQPSSVSGSLGQSVSITCSGSSSNVGYGNYVSWFQQVPGSAPKLLIYGATSRASGVPDRFSGSRSGNTATLTISSLQAEDEADYYCASGDSGSSLVFGSGTRLTVLGLEHHHHHH\")]\n",
    "\n",
    "for seq in seqs:\n",
    "       print(len(seq[1]))\n",
    "       results =  model.number([seq])\n",
    "       for i in range(len(results)):\n",
    "              print(\"\\n\", results[i][1]['query_name'], \"\\n\", results[i][1]['chain_type'], results[i][1]['score'], \"\\n\", results[i][0], \"\\n\\n\")\n"
   ]
  },
  {
   "cell_type": "code",
   "execution_count": 1,
   "metadata": {},
   "outputs": [
    {
     "name": "stdout",
     "output_type": "stream",
     "text": [
      "Using device CPU with 12 CPUs\n",
      "213\n",
      "Number of high scoring chains found:  0 \n",
      " Indices:  [] \n",
      " Values:  []\n",
      "\n",
      " seq0 \n",
      " L 27.303 \n",
      " [((1, ' '), '-'), ((2, ' '), '-'), ((3, ' '), '-'), ((4, ' '), '-'), ((5, ' '), '-'), ((6, ' '), '-'), ((7, ' '), '-'), ((8, ' '), '-'), ((9, ' '), '-'), ((10, ' '), '-'), ((11, ' '), 'V'), ((12, ' '), 'S'), ((13, ' '), 'V'), ((14, ' '), 'A'), ((15, ' '), 'P'), ((16, ' '), 'G'), ((17, ' '), 'Q'), ((18, ' '), 'T'), ((19, ' '), 'A'), ((20, ' '), 'R'), ((21, ' '), 'I'), ((22, ' '), 'T'), ((23, ' '), 'C'), ((24, ' '), 'G'), ((25, ' '), 'E'), ((26, ' '), 'E'), ((27, ' '), 'S'), ((28, ' '), 'L'), ((29, ' '), 'G'), ((30, ' '), '-'), ((31, ' '), '-'), ((32, ' '), '-'), ((33, ' '), '-'), ((34, ' '), '-'), ((35, ' '), '-'), ((36, ' '), 'S'), ((37, ' '), 'R'), ((38, ' '), 'S'), ((39, ' '), 'V'), ((40, ' '), 'I'), ((41, ' '), 'W'), ((42, ' '), 'Y'), ((43, ' '), 'Q'), ((44, ' '), 'Q'), ((45, ' '), 'R'), ((46, ' '), 'P'), ((47, ' '), 'G'), ((48, ' '), 'Q'), ((49, ' '), 'A'), ((50, ' '), 'P'), ((51, ' '), 'S'), ((52, ' '), 'L'), ((53, ' '), 'I'), ((54, ' '), 'I'), ((55, ' '), 'Y'), ((56, ' '), 'N'), ((57, ' '), 'N'), ((58, ' '), '-'), ((59, ' '), '-'), ((60, ' '), '-'), ((61, ' '), '-'), ((62, ' '), '-'), ((63, ' '), '-'), ((64, ' '), '-'), ((65, ' '), 'N'), ((66, ' '), 'D'), ((67, ' '), 'R'), ((68, ' '), 'P'), ((69, ' '), 'S'), ((70, ' '), 'G'), ((71, ' '), 'I'), ((72, ' '), 'P'), ((73, ' '), '-'), ((74, ' '), 'D'), ((75, ' '), 'R'), ((76, ' '), 'F'), ((77, ' '), 'S'), ((78, ' '), 'G'), ((79, ' '), 'S'), ((80, ' '), 'P'), ((80, 'A'), 'G'), ((81, ' '), 'S'), ((82, ' '), 'T'), ((83, ' '), 'F'), ((84, ' '), 'G'), ((85, ' '), 'T'), ((86, ' '), 'T'), ((87, ' '), 'A'), ((88, ' '), 'T'), ((89, ' '), 'L'), ((90, ' '), 'T'), ((91, ' '), 'I'), ((92, ' '), 'T'), ((93, ' '), 'S'), ((94, ' '), 'V'), ((95, ' '), 'E'), ((96, ' '), 'A'), ((97, ' '), 'G'), ((98, ' '), 'D'), ((99, ' '), 'E'), ((100, ' '), 'A'), ((101, ' '), 'D'), ((102, ' '), 'Y'), ((103, ' '), 'Y'), ((104, ' '), 'C'), ((105, ' '), 'H'), ((106, ' '), 'I'), ((107, ' '), 'W'), ((108, ' '), 'D'), ((109, ' '), 'S'), ((110, ' '), 'R'), ((111, ' '), '-'), ((112, ' '), 'R'), ((113, ' '), 'P'), ((114, ' '), 'T'), ((115, ' '), 'N'), ((116, ' '), 'W'), ((117, ' '), 'V'), ((118, ' '), 'F'), ((119, ' '), 'G'), ((120, ' '), 'E'), ((121, ' '), 'G'), ((122, ' '), 'T'), ((123, ' '), 'T'), ((124, ' '), 'L'), ((125, ' '), 'I'), ((126, ' '), 'V'), ((127, ' '), 'L'), ((128, ' '), '-')] \n",
      "\n",
      "\n",
      "240\n",
      "Number of high scoring chains found:  2 \n",
      " Indices:  [5, 73] \n",
      " Values:  [36.247, 42.745]\n",
      "EVQLQQSGPELVKPGASVKISCKASGYTFTDYYMNWVKQSHGKSLEWIGNINPNNGGTSYNQKFKGKATLTVDKSSTTAYMELRSLTSEDSAVYYCTRSPVRPYYFDYWGQGTTLTVXXXXXXXXXXXXXXXXXDIVMTQSHKFMSTSVG\n",
      "XXXXXXXXDIVMTQSHKFMSTSVGDRVSITCKASQDVSTAVAWYQQKPGQSPKLLIYSASYRYTGVPDRFTGSGSGTDFTFTISSVQAEDLAVYYCQQHYSIPRTFGGGTKLEI\n",
      "seq0 split into multiple seqs\n",
      "\n",
      " seq0_1 \n",
      " H 29.367 \n",
      " [((1, ' '), 'E'), ((2, ' '), 'V'), ((3, ' '), 'Q'), ((4, ' '), 'L'), ((5, ' '), 'Q'), ((6, ' '), 'Q'), ((7, ' '), 'S'), ((8, ' '), 'G'), ((9, ' '), 'P'), ((10, ' '), '-'), ((11, ' '), 'E'), ((12, ' '), 'L'), ((13, ' '), 'V'), ((14, ' '), 'K'), ((15, ' '), 'P'), ((16, ' '), 'G'), ((17, ' '), 'A'), ((18, ' '), 'S'), ((19, ' '), 'V'), ((20, ' '), 'K'), ((21, ' '), 'I'), ((22, ' '), 'S'), ((23, ' '), 'C'), ((24, ' '), 'K'), ((25, ' '), 'A'), ((26, ' '), 'S'), ((27, ' '), 'G'), ((28, ' '), 'Y'), ((29, ' '), 'T'), ((30, ' '), 'F'), ((31, ' '), '-'), ((32, ' '), '-'), ((33, ' '), '-'), ((34, ' '), '-'), ((35, ' '), 'T'), ((36, ' '), 'D'), ((37, ' '), 'Y'), ((38, ' '), 'Y'), ((39, ' '), 'M'), ((40, ' '), 'N'), ((41, ' '), 'W'), ((42, ' '), 'V'), ((43, ' '), 'K'), ((44, ' '), 'Q'), ((45, ' '), 'S'), ((46, ' '), 'H'), ((47, ' '), 'G'), ((48, ' '), 'K'), ((49, ' '), 'S'), ((50, ' '), 'L'), ((51, ' '), 'E'), ((52, ' '), 'W'), ((53, ' '), 'I'), ((54, ' '), 'G'), ((55, ' '), 'N'), ((56, ' '), 'I'), ((57, ' '), 'N'), ((58, ' '), 'P'), ((59, ' '), 'N'), ((60, ' '), '-'), ((61, ' '), '-'), ((62, ' '), 'N'), ((63, ' '), 'G'), ((64, ' '), 'G'), ((65, ' '), 'T'), ((66, ' '), 'S'), ((67, ' '), 'Y'), ((68, ' '), 'N'), ((69, ' '), 'Q'), ((70, ' '), 'K'), ((71, ' '), 'F'), ((72, ' '), 'K'), ((73, ' '), '-'), ((74, ' '), 'G'), ((75, ' '), 'K'), ((76, ' '), 'A'), ((77, ' '), 'T'), ((78, ' '), 'L'), ((79, ' '), 'T'), ((80, ' '), 'V'), ((81, ' '), 'D'), ((82, ' '), 'K'), ((83, ' '), 'S'), ((84, ' '), 'S'), ((85, ' '), 'T'), ((86, ' '), 'T'), ((87, ' '), 'A'), ((88, ' '), 'Y'), ((89, ' '), 'M'), ((90, ' '), 'E'), ((91, ' '), 'L'), ((92, ' '), 'R'), ((93, ' '), 'S'), ((94, ' '), 'L'), ((95, ' '), 'T'), ((96, ' '), 'S'), ((97, ' '), 'E'), ((98, ' '), 'D'), ((99, ' '), 'S'), ((100, ' '), 'A'), ((101, ' '), 'V'), ((102, ' '), 'Y'), ((103, ' '), 'Y'), ((104, ' '), 'C'), ((105, ' '), 'T'), ((106, ' '), 'R'), ((107, ' '), 'S'), ((108, ' '), 'P'), ((109, ' '), 'V'), ((110, ' '), 'R'), ((111, ' '), '-'), ((112, ' '), 'P'), ((113, ' '), 'Y'), ((114, ' '), 'Y'), ((115, ' '), 'F'), ((116, ' '), 'D'), ((117, ' '), 'Y'), ((118, ' '), 'W'), ((119, ' '), 'G'), ((120, ' '), 'Q'), ((121, ' '), 'G'), ((122, ' '), 'T'), ((123, ' '), 'T'), ((124, ' '), 'L'), ((125, ' '), 'T'), ((126, ' '), 'V'), ((127, ' '), 'X'), ((128, ' '), 'X')] \n",
      "\n",
      "\n",
      "\n",
      " seq0_2 \n",
      " K 29.222 \n",
      " [((1, ' '), 'D'), ((2, ' '), 'I'), ((3, ' '), 'V'), ((4, ' '), 'M'), ((5, ' '), 'T'), ((6, ' '), 'Q'), ((7, ' '), 'S'), ((8, ' '), 'H'), ((9, ' '), 'K'), ((10, ' '), 'F'), ((11, ' '), 'M'), ((12, ' '), 'S'), ((13, ' '), 'T'), ((14, ' '), 'S'), ((15, ' '), 'V'), ((16, ' '), 'G'), ((17, ' '), 'D'), ((18, ' '), 'R'), ((19, ' '), 'V'), ((20, ' '), 'S'), ((21, ' '), 'I'), ((22, ' '), 'T'), ((23, ' '), 'C'), ((24, ' '), 'K'), ((25, ' '), 'A'), ((26, ' '), 'S'), ((27, ' '), 'Q'), ((28, ' '), 'D'), ((29, ' '), 'V'), ((30, ' '), '-'), ((31, ' '), '-'), ((32, ' '), '-'), ((33, ' '), '-'), ((34, ' '), '-'), ((35, ' '), '-'), ((36, ' '), 'S'), ((37, ' '), 'T'), ((38, ' '), 'A'), ((39, ' '), 'V'), ((40, ' '), 'A'), ((41, ' '), 'W'), ((42, ' '), 'Y'), ((43, ' '), 'Q'), ((44, ' '), 'Q'), ((45, ' '), 'K'), ((46, ' '), 'P'), ((47, ' '), 'G'), ((48, ' '), 'Q'), ((49, ' '), 'S'), ((50, ' '), 'P'), ((51, ' '), 'K'), ((52, ' '), 'L'), ((53, ' '), 'L'), ((54, ' '), 'I'), ((55, ' '), 'Y'), ((56, ' '), 'S'), ((57, ' '), 'A'), ((58, ' '), '-'), ((59, ' '), '-'), ((60, ' '), '-'), ((61, ' '), '-'), ((62, ' '), '-'), ((63, ' '), '-'), ((64, ' '), '-'), ((65, ' '), 'S'), ((66, ' '), 'Y'), ((67, ' '), 'R'), ((68, ' '), 'Y'), ((69, ' '), 'T'), ((70, ' '), 'G'), ((71, ' '), 'V'), ((72, ' '), 'P'), ((73, ' '), '-'), ((74, ' '), 'D'), ((75, ' '), 'R'), ((76, ' '), 'F'), ((77, ' '), 'T'), ((78, ' '), 'G'), ((79, ' '), 'S'), ((80, ' '), 'G'), ((81, ' '), '-'), ((82, ' '), '-'), ((83, ' '), 'S'), ((84, ' '), 'G'), ((85, ' '), 'T'), ((86, ' '), 'D'), ((87, ' '), 'F'), ((88, ' '), 'T'), ((89, ' '), 'F'), ((90, ' '), 'T'), ((91, ' '), 'I'), ((92, ' '), 'S'), ((93, ' '), 'S'), ((94, ' '), 'V'), ((95, ' '), 'Q'), ((96, ' '), 'A'), ((97, ' '), 'E'), ((98, ' '), 'D'), ((99, ' '), 'L'), ((100, ' '), 'A'), ((101, ' '), 'V'), ((102, ' '), 'Y'), ((103, ' '), 'Y'), ((104, ' '), 'C'), ((105, ' '), 'Q'), ((106, ' '), 'Q'), ((107, ' '), 'H'), ((108, ' '), 'Y'), ((109, ' '), 'S'), ((110, ' '), '-'), ((111, ' '), '-'), ((112, ' '), '-'), ((113, ' '), '-'), ((114, ' '), 'I'), ((115, ' '), 'P'), ((116, ' '), 'R'), ((117, ' '), 'T'), ((118, ' '), 'F'), ((119, ' '), 'G'), ((120, ' '), 'G'), ((121, ' '), 'G'), ((122, ' '), 'T'), ((123, ' '), 'K'), ((124, ' '), 'L'), ((125, ' '), 'E'), ((126, ' '), 'I'), ((127, ' '), '-'), ((128, ' '), '-')] \n",
      "\n",
      "\n"
     ]
    }
   ],
   "source": [
    "from anarcii import Anarcii\n",
    "\n",
    "model = Anarcii(seq_type=\"antibody\", batch_size=128, cpu=True, ncpu=12, \n",
    "                mode=\"accuracy\", \n",
    "                verbose=False,\n",
    "                scfv_or_concatenated_chains=True)\n",
    "\n",
    "seqs = [\"APTFVSVAPGQTARITCGEESLGSRSVIWYQQRPGQAPSLIIYNNNDRPSGIPDRFSGSPGSTFGTTATLTITSVEAGDEADYYCHIWDSRRPTNWVFGEGTTLIVLSQPKAAPSVTLFPPSSEELQANKATLVCLISDFYPGAVTVAWKADSSPVKAGVETTTPSKQSNNKYAASSYLSLTPEQWKSHKSYSCQVTHEGSTVEKTVAPTECS\",\n",
    "        \"EVQLQQSGPELVKPGASVKISCKASGYTFTDYYMNWVKQSHGKSLEWIGNINPNNGGTSYNQKFKGKATLTVDKSSTTAYMELRSLTSEDSAVYYCTRSPVRPYYFDYWGQGTTLTVXXXXXXXXXXXXXXXXXDIVMTQSHKFMSTSVGDRVSITCKASQDVSTAVAWYQQKPGQSPKLLIYSASYRYTGVPDRFTGSGSGTDFTFTISSVQAEDLAVYYCQQHYSIPRTFGGGTKLEI\"]\n",
    "\n",
    "for seq in seqs:\n",
    "       print(len(seq))\n",
    "       results =  model.number([seq])\n",
    "\n",
    "       for i in range(len(results)):\n",
    "              print(\"\\n\", results[i][1]['query_name'], \"\\n\", results[i][1]['chain_type'], results[i][1]['score'], \"\\n\", results[i][0], \"\\n\\n\")"
   ]
  }
 ],
 "metadata": {
  "kernelspec": {
   "display_name": "mobydick",
   "language": "python",
   "name": "python3"
  },
  "language_info": {
   "codemirror_mode": {
    "name": "ipython",
    "version": 3
   },
   "file_extension": ".py",
   "mimetype": "text/x-python",
   "name": "python",
   "nbconvert_exporter": "python",
   "pygments_lexer": "ipython3",
   "version": "3.13.0"
  }
 },
 "nbformat": 4,
 "nbformat_minor": 2
}
