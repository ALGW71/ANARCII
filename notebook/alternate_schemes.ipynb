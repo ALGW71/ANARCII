{
 "cells": [
  {
   "cell_type": "code",
   "execution_count": 1,
   "metadata": {},
   "outputs": [
    {
     "name": "stdout",
     "output_type": "stream",
     "text": [
      "Using device CPU with 1 CPUs\n"
     ]
    }
   ],
   "source": [
    "from anarcii import Anarcii\n",
    "\n",
    "model = Anarcii(\n",
    "    seq_type=\"antibody\",\n",
    "    batch_size=128,\n",
    "    cpu=True,\n",
    "    ncpu=1,\n",
    "    mode=\"accuracy\",\n",
    "    verbose=False,\n",
    ")\n",
    "\n",
    "seq = [\n",
    "    \"PPSVSVAPGQTARITCGGNNIGSKSVHWYQQKPGQAPVLVVYDDSDRPSGIPERFSGSNSGNTATLTISRVEAGDEADYYCQVWD\"\n",
    "    # \"SYVLTQPPSVSVAPGKTARITCGGNNIGSKSVHWYQQKPGQAPVLVVYDDSDRPSGIPERFSGSNSGNTATLTISRVEAGDEADYFCQVWDGSGDHPGYVFGTGTKVTVL\",\n",
    "    # \"QVQLVQSGAEVKKPGSSVKVSCTSSEVTFSSFAISWVRQAPGQGLEWLGGISPMFGTPNYAQKFQGRVTITADQSTRTAYMDLRSLRSEDTAVYYCARSPSYICSGGTCVFDHWGQGTLVTVSSGGGGSG\"\n",
    "]\n",
    "\n",
    "results = model.number(seq)"
   ]
  },
  {
   "cell_type": "code",
   "execution_count": 2,
   "metadata": {},
   "outputs": [
    {
     "data": {
      "text/plain": [
       "{'chain_type': 'L',\n",
       " 'score': 25.524,\n",
       " 'query_start': 0,\n",
       " 'query_end': 84,\n",
       " 'error': None,\n",
       " 'scheme': 'imgt',\n",
       " 'query_name': 'seq0'}"
      ]
     },
     "execution_count": 2,
     "metadata": {},
     "output_type": "execute_result"
    }
   ],
   "source": [
    "results[0][1]"
   ]
  },
  {
   "cell_type": "code",
   "execution_count": 3,
   "metadata": {},
   "outputs": [
    {
     "name": "stdout",
     "output_type": "stream",
     "text": [
      "Last output converted to chothia\n"
     ]
    }
   ],
   "source": [
    "# out = model.to_scheme(\"kabat\")\n",
    "# out = model.to_scheme(\"martin\")\n",
    "out = model.to_scheme(\"chothia\")\n",
    "# out = model.to_scheme(\"imgt\")"
   ]
  },
  {
   "cell_type": "code",
   "execution_count": 4,
   "metadata": {},
   "outputs": [
    {
     "data": {
      "text/plain": [
       "{'chain_type': 'L',\n",
       " 'score': 25.524,\n",
       " 'query_start': 0,\n",
       " 'query_end': 84,\n",
       " 'error': None,\n",
       " 'scheme': 'chothia',\n",
       " 'query_name': 'seq0'}"
      ]
     },
     "execution_count": 4,
     "metadata": {},
     "output_type": "execute_result"
    }
   ],
   "source": [
    "out[0][1]"
   ]
  }
 ],
 "metadata": {
  "kernelspec": {
   "display_name": "mobydick",
   "language": "python",
   "name": "python3"
  },
  "language_info": {
   "codemirror_mode": {
    "name": "ipython",
    "version": 3
   },
   "file_extension": ".py",
   "mimetype": "text/x-python",
   "name": "python",
   "nbconvert_exporter": "python",
   "pygments_lexer": "ipython3",
   "version": "3.13.0"
  }
 },
 "nbformat": 4,
 "nbformat_minor": 2
}
