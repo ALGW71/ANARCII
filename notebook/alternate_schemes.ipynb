{
 "cells": [
  {
   "cell_type": "code",
   "execution_count": null,
   "metadata": {},
   "outputs": [],
   "source": [
    "from anarcii import Anarcii\n",
    "\n",
    "model = Anarcii(\n",
    "    seq_type=\"antibody\",\n",
    "    batch_size=128,\n",
    "    cpu=False,\n",
    "    ncpu=1,\n",
    "    mode=\"accuracy\",\n",
    "    verbose=False,\n",
    ")\n",
    "\n",
    "seq = [\n",
    "    \"PPSVSVAPGQTARITCGGNNIGSKSVHWYQQKPGQAPVLVVYDDSDRPSGIPERFSGSNSGNTATLTISRVEAGDEADYYCQVWD\"\n",
    "    \"SYVLTQPPSVSVAPGKTARITCGGNNIGSKSVHWYQQKPGQAPVLVVYDDSDRPSGIPERFSGSNSGNTATLTISRVEAGDEADYFCQVWDGSGDHPGYVFGTGTKVTVL\",\n",
    "    \"QVQLVQSGAEVKKPGSSVKVSCTSSEVTFSSFAISWVRQAPGQGLEWLGGISPMFGTPNYAQKFQGRVTITADQSTRTAYMDLRSLRSEDTAVYYCARSPSYICSGGTCVFDHWGQGTLVTVSSGGGGSG\"\n",
    "]\n",
    "\n",
    "results = model.number(seq)"
   ]
  },
  {
   "cell_type": "code",
   "execution_count": null,
   "metadata": {},
   "outputs": [],
   "source": [
    "schemes = [\"martin\",\"kabat\",\"martin\",\"chothia\",\"imgt\", \"aho\"]\n",
    "\n",
    "for sch in schemes:\n",
    "    model.to_scheme(sch)\n",
    "    model.to_csv(f\"tmp/{sch}.csv\")\n",
    "    model.to_text(f\"tmp/{sch}.txt\")\n",
    "    model.to_json(f\"tmp/{sch}.json\")\n",
    "    print(\"#\"*80)"
   ]
  }
 ],
 "metadata": {
  "kernelspec": {
   "display_name": "mobydick",
   "language": "python",
   "name": "python3"
  },
  "language_info": {
   "codemirror_mode": {
    "name": "ipython",
    "version": 3
   },
   "file_extension": ".py",
   "mimetype": "text/x-python",
   "name": "python",
   "nbconvert_exporter": "python",
   "pygments_lexer": "ipython3",
   "version": "3.13.0"
  }
 },
 "nbformat": 4,
 "nbformat_minor": 2
}
