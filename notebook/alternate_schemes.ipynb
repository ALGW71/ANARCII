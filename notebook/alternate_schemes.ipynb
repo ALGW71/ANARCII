{
 "cells": [
  {
   "cell_type": "code",
   "execution_count": null,
   "metadata": {},
   "outputs": [],
   "source": [
    "from anarcii import Anarcii\n",
    "\n",
    "model = Anarcii(seq_type=\"antibody\", batch_size=128, cpu=False, ncpu=1, \n",
    "                mode=\"accuracy\", verbose=False)\n",
    "\n",
    "seq = [\"QVQLVQSGAEVKKPGSSVKVSCTSSEVTFSSFAISWVRQAPGQGLEWLGGISPMFGTPNYAQKFQGRVTITADQSTRTAYMDLRSLRSEDTAVYYCARSPSYICSGGTCVFDHWGQGTLVTVSSGGGGSG\"]\n",
    "\n",
    "results =  model.number(seq)"
   ]
  },
  {
   "cell_type": "code",
   "execution_count": null,
   "metadata": {},
   "outputs": [],
   "source": [
    "model.to_scheme(\"kabat\")\n",
    "model.to_scheme(\"martin\")\n",
    "model.to_scheme(\"chothia\")"
   ]
  }
 ],
 "metadata": {
  "kernelspec": {
   "display_name": "mobydick",
   "language": "python",
   "name": "python3"
  },
  "language_info": {
   "codemirror_mode": {
    "name": "ipython",
    "version": 3
   },
   "file_extension": ".py",
   "mimetype": "text/x-python",
   "name": "python",
   "nbconvert_exporter": "python",
   "pygments_lexer": "ipython3",
   "version": "3.13.0"
  }
 },
 "nbformat": 4,
 "nbformat_minor": 2
}
