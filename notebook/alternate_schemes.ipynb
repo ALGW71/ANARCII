{
 "cells": [
  {
   "cell_type": "code",
   "execution_count": 5,
   "metadata": {},
   "outputs": [
    {
     "name": "stdout",
     "output_type": "stream",
     "text": [
      "Using device CUDA with 1 CPUs\n"
     ]
    }
   ],
   "source": [
    "from anarcii import Anarcii\n",
    "\n",
    "model = Anarcii(seq_type=\"antibody\", batch_size=128, cpu=False, ncpu=1, \n",
    "                mode=\"accuracy\", verbose=False)\n",
    "\n",
    "seq = [\n",
    "    \"SYVLTQPPSVSVAPGQTARITCGGNNIGSKSVHWYQQKPGQAPVLVVYDDSDRPSGIPERFSGSNSGNTATLTISRVEAGDEADYYCQVWD\"\n",
    "    # \"SYVLTQPPSVSVAPGKTARITCGGNNIGSKSVHWYQQKPGQAPVLVVYDDSDRPSGIPERFSGSNSGNTATLTISRVEAGDEADYFCQVWDGSGDHPGYVFGTGTKVTVL\",\n",
    "    # \"QVQLVQSGAEVKKPGSSVKVSCTSSEVTFSSFAISWVRQAPGQGLEWLGGISPMFGTPNYAQKFQGRVTITADQSTRTAYMDLRSLRSEDTAVYYCARSPSYICSGGTCVFDHWGQGTLVTVSSGGGGSG\"\n",
    "    ]\n",
    "\n",
    "results =  model.number(seq)"
   ]
  },
  {
   "cell_type": "code",
   "execution_count": 14,
   "metadata": {},
   "outputs": [
    {
     "data": {
      "text/plain": [
       "[((104, ' '), 'C'),\n",
       " ((105, ' '), 'Q'),\n",
       " ((106, ' '), 'V'),\n",
       " ((107, ' '), '-'),\n",
       " ((108, ' '), '-'),\n",
       " ((109, ' '), '-'),\n",
       " ((110, ' '), '-'),\n",
       " ((111, ' '), '-'),\n",
       " ((112, ' '), '-'),\n",
       " ((113, ' '), '-'),\n",
       " ((114, ' '), '-'),\n",
       " ((115, ' '), '-'),\n",
       " ((116, ' '), 'W'),\n",
       " ((117, ' '), 'D')]"
      ]
     },
     "execution_count": 14,
     "metadata": {},
     "output_type": "execute_result"
    }
   ],
   "source": [
    "results[0][0][103:117]"
   ]
  },
  {
   "cell_type": "code",
   "execution_count": 7,
   "metadata": {},
   "outputs": [
    {
     "name": "stdout",
     "output_type": "stream",
     "text": [
      "RENUMBERING CDR3 LIGHT\n",
      "Last output converted to chothia\n"
     ]
    }
   ],
   "source": [
    "# out = model.to_scheme(\"kabat\")\n",
    "# out = model.to_scheme(\"martin\")\n",
    "out = model.to_scheme(\"chothia\")\n",
    "# out = model.to_scheme(\"aho\")"
   ]
  },
  {
   "cell_type": "code",
   "execution_count": 15,
   "metadata": {},
   "outputs": [
    {
     "data": {
      "text/plain": [
       "[((82, ' '), 'D'),\n",
       " ((83, ' '), 'E'),\n",
       " ((84, ' '), 'A'),\n",
       " ((85, ' '), 'D'),\n",
       " ((86, ' '), 'Y'),\n",
       " ((87, ' '), 'Y'),\n",
       " ((88, ' '), 'C'),\n",
       " ((89, ' '), 'Q'),\n",
       " ((90, ' '), 'V'),\n",
       " ((96, ' '), 'W'),\n",
       " ((97, ' '), 'D')]"
      ]
     },
     "execution_count": 15,
     "metadata": {},
     "output_type": "execute_result"
    }
   ],
   "source": [
    "out[0][0][80:]"
   ]
  }
 ],
 "metadata": {
  "kernelspec": {
   "display_name": "mobydick",
   "language": "python",
   "name": "python3"
  },
  "language_info": {
   "codemirror_mode": {
    "name": "ipython",
    "version": 3
   },
   "file_extension": ".py",
   "mimetype": "text/x-python",
   "name": "python",
   "nbconvert_exporter": "python",
   "pygments_lexer": "ipython3",
   "version": "3.13.0"
  }
 },
 "nbformat": 4,
 "nbformat_minor": 2
}
