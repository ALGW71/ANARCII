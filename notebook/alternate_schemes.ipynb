{
 "cells": [
  {
   "cell_type": "code",
   "execution_count": 1,
   "metadata": {},
   "outputs": [
    {
     "name": "stdout",
     "output_type": "stream",
     "text": [
      "Using device CUDA with 1 CPUs\n"
     ]
    }
   ],
   "source": [
    "from anarcii import Anarcii\n",
    "\n",
    "model = Anarcii(seq_type=\"antibody\", batch_size=128, cpu=False, ncpu=1, \n",
    "                mode=\"accuracy\", verbose=False)\n",
    "\n",
    "seq = [\n",
    "    \"SYVLTQPPSVSVAPGQTARITCGGNNIGSKSVHWYQQKPGQAPVLVVYDDSDRPSGIPERFSGSNSGNTATLTISRVEAGDEADYYCQVWD\"\n",
    "    # \"SYVLTQPPSVSVAPGKTARITCGGNNIGSKSVHWYQQKPGQAPVLVVYDDSDRPSGIPERFSGSNSGNTATLTISRVEAGDEADYFCQVWDGSGDHPGYVFGTGTKVTVL\",\n",
    "    # \"QVQLVQSGAEVKKPGSSVKVSCTSSEVTFSSFAISWVRQAPGQGLEWLGGISPMFGTPNYAQKFQGRVTITADQSTRTAYMDLRSLRSEDTAVYYCARSPSYICSGGTCVFDHWGQGTLVTVSSGGGGSG\"\n",
    "    ]\n",
    "\n",
    "results =  model.number(seq)"
   ]
  },
  {
   "cell_type": "code",
   "execution_count": 2,
   "metadata": {},
   "outputs": [
    {
     "data": {
      "text/plain": [
       "[((104, ' '), 'C'),\n",
       " ((105, ' '), 'Q'),\n",
       " ((106, ' '), 'V'),\n",
       " ((107, ' '), '-'),\n",
       " ((108, ' '), '-'),\n",
       " ((109, ' '), '-'),\n",
       " ((110, ' '), '-'),\n",
       " ((111, ' '), '-'),\n",
       " ((112, ' '), '-'),\n",
       " ((113, ' '), '-'),\n",
       " ((114, ' '), '-'),\n",
       " ((115, ' '), '-'),\n",
       " ((116, ' '), 'W'),\n",
       " ((117, ' '), 'D')]"
      ]
     },
     "execution_count": 2,
     "metadata": {},
     "output_type": "execute_result"
    }
   ],
   "source": [
    "results[0][0][103:117]"
   ]
  },
  {
   "cell_type": "code",
   "execution_count": 3,
   "metadata": {},
   "outputs": [
    {
     "name": "stdout",
     "output_type": "stream",
     "text": [
      "[((1, ' '), 'S'), ((2, ' '), 'Y'), ((3, ' '), 'V'), ((4, ' '), 'L'), ((5, ' '), 'T'), ((6, ' '), 'Q'), ((7, ' '), 'P'), ((8, ' '), 'P'), ((9, ' '), 'S'), ((11, ' '), 'V'), ((12, ' '), 'S'), ((13, ' '), 'V'), ((14, ' '), 'A'), ((15, ' '), 'P'), ((16, ' '), 'G'), ((17, ' '), 'Q'), ((18, ' '), 'T'), ((19, ' '), 'A'), ((20, ' '), 'R'), ((21, ' '), 'I'), ((22, ' '), 'T'), ((23, ' '), 'C'), ((24, ' '), 'G'), ((25, ' '), 'G'), ((26, ' '), 'N'), ((27, ' '), 'N'), ((28, ' '), 'I'), ((29, ' '), 'G'), ((30, ' '), 'S'), ((31, ' '), 'K'), ((32, ' '), 'S'), ((33, ' '), 'V'), ((34, ' '), 'H'), ((35, ' '), 'W'), ((36, ' '), 'Y'), ((37, ' '), 'Q'), ((38, ' '), 'Q'), ((39, ' '), 'K'), ((40, ' '), 'P'), ((41, ' '), 'G'), ((42, ' '), 'Q'), ((43, ' '), 'A'), ((44, ' '), 'P'), ((45, ' '), 'V'), ((46, ' '), 'L'), ((47, ' '), 'V'), ((48, ' '), 'V'), ((49, ' '), 'Y'), ((50, ' '), 'D'), ((51, ' '), 'D'), ((52, ' '), 'S'), ((53, ' '), 'D'), ((54, ' '), 'R'), ((55, ' '), 'P'), ((56, ' '), 'S'), ((57, ' '), 'G'), ((58, ' '), 'I'), ((59, ' '), 'P'), ((60, ' '), 'E'), ((61, ' '), 'R'), ((62, ' '), 'F'), ((63, ' '), 'S'), ((64, ' '), 'G'), ((65, ' '), 'S'), ((66, ' '), 'N'), ((67, ' '), 'S'), ((68, ' '), 'G'), ((69, ' '), 'N'), ((70, ' '), 'T'), ((71, ' '), 'A'), ((72, ' '), 'T'), ((73, ' '), 'L'), ((74, ' '), 'T'), ((75, ' '), 'I'), ((76, ' '), 'S'), ((77, ' '), 'R'), ((78, ' '), 'V'), ((79, ' '), 'E'), ((80, ' '), 'A'), ((81, ' '), 'G'), ((82, ' '), 'D'), ((83, ' '), 'E'), ((84, ' '), 'A'), ((85, ' '), 'D'), ((86, ' '), 'Y'), ((87, ' '), 'Y'), ((88, ' '), 'C'), ((89, ' '), 'Q'), ((90, ' '), 'V'), ((96, ' '), 'W'), ((97, ' '), 'D')]\n",
      "Last output converted to chothia\n"
     ]
    }
   ],
   "source": [
    "# out = model.to_scheme(\"kabat\")\n",
    "# out = model.to_scheme(\"martin\")\n",
    "out = model.to_scheme(\"chothia\")\n",
    "# out = model.to_scheme(\"aho\")"
   ]
  },
  {
   "cell_type": "code",
   "execution_count": 4,
   "metadata": {},
   "outputs": [
    {
     "data": {
      "text/plain": [
       "[((81, ' '), 'G'),\n",
       " ((82, ' '), 'D'),\n",
       " ((83, ' '), 'E'),\n",
       " ((84, ' '), 'A'),\n",
       " ((85, ' '), 'D'),\n",
       " ((86, ' '), 'Y'),\n",
       " ((87, ' '), 'Y'),\n",
       " ((88, ' '), 'C'),\n",
       " ((89, ' '), 'Q'),\n",
       " ((90, ' '), 'V'),\n",
       " ((91, ' '), '-'),\n",
       " ((92, ' '), '-'),\n",
       " ((93, ' '), '-'),\n",
       " ((94, ' '), '-'),\n",
       " ((95, ' '), '-'),\n",
       " ((96, ' '), 'W'),\n",
       " ((97, ' '), 'D')]"
      ]
     },
     "execution_count": 4,
     "metadata": {},
     "output_type": "execute_result"
    }
   ],
   "source": [
    "out[0][0][80:]"
   ]
  }
 ],
 "metadata": {
  "kernelspec": {
   "display_name": "mobydick",
   "language": "python",
   "name": "python3"
  },
  "language_info": {
   "codemirror_mode": {
    "name": "ipython",
    "version": 3
   },
   "file_extension": ".py",
   "mimetype": "text/x-python",
   "name": "python",
   "nbconvert_exporter": "python",
   "pygments_lexer": "ipython3",
   "version": "3.13.0"
  }
 },
 "nbformat": 4,
 "nbformat_minor": 2
}
