{
 "cells": [
  {
   "cell_type": "code",
   "execution_count": 1,
   "metadata": {},
   "outputs": [
    {
     "name": "stdout",
     "output_type": "stream",
     "text": [
      "Using device CUDA with 1 CPUs\n"
     ]
    }
   ],
   "source": [
    "from anarcii import Anarcii\n",
    "\n",
    "model = Anarcii(\n",
    "    seq_type=\"antibody\",\n",
    "    batch_size=128,\n",
    "    cpu=False,\n",
    "    ncpu=1,\n",
    "    mode=\"accuracy\",\n",
    "    verbose=False,\n",
    ")\n",
    "\n",
    "seq = [\n",
    "    \"PPSVSVAPGQTARITCGGNNIGSKSVHWYQQKPGQAPVLVVYDDSDRPSGIPERFSGSNSGNTATLTISRVEAGDEADYYCQVWD\"\n",
    "    \"SYVLTQPPSVSVAPGKTARITCGGNNIGSKSVHWYQQKPGQAPVLVVYDDSDRPSGIPERFSGSNSGNTATLTISRVEAGDEADYFCQVWDGSGDHPGYVFGTGTKVTVL\",\n",
    "    \"QVQLVQSGAEVKKPGSSVKVSCTSSEVTFSSFAISWVRQAPGQGLEWLGGISPMFGTPNYAQKFQGRVTITADQSTRTAYMDLRSLRSEDTAVYYCARSPSYICSGGTCVFDHWGQGTLVTVSSGGGGSG\"\n",
    "]\n",
    "\n",
    "results = model.number(seq)"
   ]
  },
  {
   "cell_type": "code",
   "execution_count": 2,
   "metadata": {},
   "outputs": [
    {
     "name": "stdout",
     "output_type": "stream",
     "text": [
      "Last output converted to martin\n",
      "Last output saved to tmp/martin.csv in alternate scheme: martin.\n",
      "Last output saved to tmp/martin.txt in alternate scheme: martin.\n",
      "Last output saved to tmp/martin.json in alternate scheme: martin.\n",
      "################################################################################\n",
      "Last output converted to kabat\n",
      "Last output saved to tmp/kabat.csv in alternate scheme: kabat.\n",
      "Last output saved to tmp/kabat.txt in alternate scheme: kabat.\n",
      "Last output saved to tmp/kabat.json in alternate scheme: kabat.\n",
      "################################################################################\n",
      "Last output converted to martin\n",
      "Last output saved to tmp/martin.csv in alternate scheme: martin.\n",
      "Last output saved to tmp/martin.txt in alternate scheme: martin.\n",
      "Last output saved to tmp/martin.json in alternate scheme: martin.\n",
      "################################################################################\n",
      "Last output converted to chothia\n",
      "Last output saved to tmp/chothia.csv in alternate scheme: chothia.\n",
      "Last output saved to tmp/chothia.txt in alternate scheme: chothia.\n",
      "Last output saved to tmp/chothia.json in alternate scheme: chothia.\n",
      "################################################################################\n",
      "Last output converted to imgt\n",
      "Last output saved to tmp/imgt.csv in alternate scheme: imgt.\n",
      "Last output saved to tmp/imgt.txt in alternate scheme: imgt.\n",
      "Last output saved to tmp/imgt.json in alternate scheme: imgt.\n",
      "################################################################################\n",
      "Last output converted to aho\n",
      "Last output saved to tmp/aho.csv in alternate scheme: aho.\n",
      "Last output saved to tmp/aho.txt in alternate scheme: aho.\n",
      "Last output saved to tmp/aho.json in alternate scheme: aho.\n",
      "################################################################################\n"
     ]
    }
   ],
   "source": [
    "schemes = [\"martin\",\"kabat\",\"martin\",\"chothia\",\"imgt\", \"aho\"]\n",
    "\n",
    "for sch in schemes:\n",
    "    model.to_scheme(sch)\n",
    "    model.to_csv(f\"tmp/{sch}.csv\")\n",
    "    model.to_text(f\"tmp/{sch}.txt\")\n",
    "    model.to_json(f\"tmp/{sch}.json\")\n",
    "    print(\"#\"*80)"
   ]
  }
 ],
 "metadata": {
  "kernelspec": {
   "display_name": "mobydick",
   "language": "python",
   "name": "python3"
  },
  "language_info": {
   "codemirror_mode": {
    "name": "ipython",
    "version": 3
   },
   "file_extension": ".py",
   "mimetype": "text/x-python",
   "name": "python",
   "nbconvert_exporter": "python",
   "pygments_lexer": "ipython3",
   "version": "3.13.0"
  }
 },
 "nbformat": 4,
 "nbformat_minor": 2
}
