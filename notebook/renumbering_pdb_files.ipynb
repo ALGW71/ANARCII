{
 "cells": [
  {
   "cell_type": "code",
   "execution_count": null,
   "metadata": {},
   "outputs": [],
   "source": [
    "from anarcii import Anarcii\n",
    "\n",
    "model = Anarcii(\n",
    "    seq_type=\"unknown\",\n",
    "    batch_size=128,\n",
    "    cpu=False,\n",
    "    ncpu=12,\n",
    "    mode=\"accuracy\",\n",
    "    verbose=True,\n",
    ")\n",
    "\n",
    "pdb = \"./example_data/1kb5.pdb\"\n",
    "# pdb = \"./example_data/8kdm.pdb\"\n",
    "\n",
    "results = model.number(pdb)"
   ]
  }
 ],
 "metadata": {
  "kernelspec": {
   "display_name": "mobydick",
   "language": "python",
   "name": "python3"
  },
  "language_info": {
   "codemirror_mode": {
    "name": "ipython",
    "version": 3
   },
   "file_extension": ".py",
   "mimetype": "text/x-python",
   "name": "python",
   "nbconvert_exporter": "python",
   "pygments_lexer": "ipython3",
   "version": "3.13.2"
  }
 },
 "nbformat": 4,
 "nbformat_minor": 2
}
