{
 "cells": [
  {
   "cell_type": "code",
   "execution_count": 2,
   "metadata": {},
   "outputs": [
    {
     "name": "stdout",
     "output_type": "stream",
     "text": [
      "Using device CUDA with 12 CPUs\n",
      "Renumbering a PDB/mmCIF file in unknown mode\n",
      "Using device CUDA with 12 CPUs\n",
      "\n",
      "Joining types: TCR and Antibodies.\n",
      "PDB chain:  A ANARCII Chain (Score):  A (31.97148895263672)\n",
      "\n",
      "Joining types: TCR and Antibodies.\n",
      "PDB chain:  B ANARCII Chain (Score):  B (29.75179672241211)\n",
      "\n",
      "Joining types: TCR and Antibodies.\n",
      "PDB chain:  H ANARCII Chain (Score):  H (31.06390380859375)\n",
      "\n",
      "Joining types: TCR and Antibodies.\n",
      "PDB chain:  L ANARCII Chain (Score):  K (30.397520065307617)\n"
     ]
    }
   ],
   "source": [
    "from anarcii import Anarcii\n",
    "\n",
    "model = Anarcii(\n",
    "    seq_type=\"unknown\",\n",
    "    batch_size=128,\n",
    "    cpu=False,\n",
    "    ncpu=12,\n",
    "    mode=\"accuracy\",\n",
    "    verbose=False,\n",
    ")\n",
    "\n",
    "pdb = \"../tests/data/raw_data/1kb5.pdb\"\n",
    "\n",
    "# pdb = \"./example_data/8kdm.pdb\"\n",
    "\n",
    "results = model.number(pdb)"
   ]
  }
 ],
 "metadata": {
  "kernelspec": {
   "display_name": "mobydick",
   "language": "python",
   "name": "python3"
  },
  "language_info": {
   "codemirror_mode": {
    "name": "ipython",
    "version": 3
   },
   "file_extension": ".py",
   "mimetype": "text/x-python",
   "name": "python",
   "nbconvert_exporter": "python",
   "pygments_lexer": "ipython3",
   "version": "3.13.2"
  }
 },
 "nbformat": 4,
 "nbformat_minor": 2
}
