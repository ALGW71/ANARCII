{
 "cells": [
  {
   "cell_type": "code",
   "execution_count": 1,
   "metadata": {},
   "outputs": [
    {
     "name": "stdout",
     "output_type": "stream",
     "text": [
      "Using device CUDA with 12 CPUs\n",
      "Using device CUDA with 12 CPUs\n",
      "PDB chain:  E ANARCII Chain (Score):  H (30.434)\n",
      "PDB chain:  D ANARCII Chain (Score):  K (30.05)\n",
      "PDB chain:  G ANARCII Chain (Score):  H (30.434)\n",
      "PDB chain:  F ANARCII Chain (Score):  K (30.05)\n"
     ]
    }
   ],
   "source": [
    "from anarcii import Anarcii\n",
    "\n",
    "model = Anarcii(seq_type=\"antibody\", batch_size=128, cpu=False, ncpu=12, \n",
    "                mode=\"accuracy\", verbose=False)\n",
    "\n",
    "pdb = \"./example_data/8kdm.pdb\"\n",
    "\n",
    "results =  model.number(pdb)"
   ]
  }
 ],
 "metadata": {
  "kernelspec": {
   "display_name": "mobydick",
   "language": "python",
   "name": "python3"
  },
  "language_info": {
   "codemirror_mode": {
    "name": "ipython",
    "version": 3
   },
   "file_extension": ".py",
   "mimetype": "text/x-python",
   "name": "python",
   "nbconvert_exporter": "python",
   "pygments_lexer": "ipython3",
   "version": "3.9.20"
  }
 },
 "nbformat": 4,
 "nbformat_minor": 2
}
